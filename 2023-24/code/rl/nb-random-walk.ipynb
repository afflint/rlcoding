{
 "cells": [
  {
   "cell_type": "markdown",
   "metadata": {},
   "source": [
    "# MDP random walk\n",
    "> Inspired to example 6.1 in Sutton, R. S., & Barto, A. G. (2018). Reinforcement learning: An introduction. MIT press.\n",
    "- A MDP with a single action `move` that moves the agent left with probability $\\frac{1}{2}$ and right otherwise.\n",
    "- The environment is a line numbered 1 to n from left to right.\n",
    "- Reward is $0$ everywhere exept for far right where it is $1$.\n",
    "\n",
    "![](../docs/imgs/random-walk.png)"
   ]
  },
  {
   "cell_type": "code",
   "execution_count": 1,
   "metadata": {},
   "outputs": [],
   "source": [
    "from rl.mdp.random_walk import RandomWalk\n",
    "from rl.mdp.policy import Policy"
   ]
  },
  {
   "cell_type": "markdown",
   "metadata": {},
   "source": [
    "### Initialize RandomWalk"
   ]
  },
  {
   "cell_type": "code",
   "execution_count": 22,
   "metadata": {},
   "outputs": [],
   "source": [
    "walk = RandomWalk(steps=15, gamma=1)"
   ]
  },
  {
   "cell_type": "markdown",
   "metadata": {},
   "source": [
    "##### Create a simple policy to explore the RandomWalk\n",
    "**Note**: Random Walk is a Reward model, thus it has a single possible action (i.e., 0)"
   ]
  },
  {
   "cell_type": "code",
   "execution_count": 23,
   "metadata": {},
   "outputs": [],
   "source": [
    "from rl.mdp.model import MDP\n",
    "\n",
    "\n",
    "class StaticPolicy(Policy):\n",
    "    def __init__(self, mdp: MDP) -> None:\n",
    "        super().__init__(mdp)\n",
    "    def __getitem__(self, state: int) -> int:\n",
    "        return 0\n",
    "pi = StaticPolicy(mdp=walk)"
   ]
  },
  {
   "cell_type": "code",
   "execution_count": 24,
   "metadata": {},
   "outputs": [
    {
     "name": "stdout",
     "output_type": "stream",
     "text": [
      "Get state action 0\n",
      "Generate step (4, 0, 3, 0)\n",
      "Episode [(7, 0, 0), (8, 0, 0), (7, 0, 0), (8, 0, 0)]\n"
     ]
    }
   ],
   "source": [
    "print(\"Get state action\", pi[4])\n",
    "print(\"Generate step\", pi.step(4))\n",
    "print(\"Episode\", pi.episode(max_iterations=4))"
   ]
  },
  {
   "cell_type": "markdown",
   "metadata": {},
   "source": [
    "### MonteCarlo On-Policy Evaluation"
   ]
  },
  {
   "cell_type": "code",
   "execution_count": 25,
   "metadata": {},
   "outputs": [],
   "source": [
    "import rl.mdp.montecarlo as mc"
   ]
  },
  {
   "cell_type": "markdown",
   "metadata": {},
   "source": [
    "##### First Visit and Every Visit MC"
   ]
  },
  {
   "cell_type": "code",
   "execution_count": 27,
   "metadata": {},
   "outputs": [],
   "source": [
    "import time"
   ]
  },
  {
   "cell_type": "code",
   "execution_count": 32,
   "metadata": {},
   "outputs": [
    {
     "name": "stdout",
     "output_type": "stream",
     "text": [
      "First Visit MC computed in      1.511s\n",
      "Every Visit MC computed in      1.475s\n"
     ]
    }
   ],
   "source": [
    "start = time.time()\n",
    "V_first_visit = mc.montecarlo_value_function(policy=pi, model=walk, first_visit=True, max_iterations=1000)\n",
    "print(\"First Visit MC computed in {:10.3f}s\".format(time.time() - start))\n",
    "start = time.time()\n",
    "V_every_visit = mc.montecarlo_value_function(policy=pi, model=walk, first_visit=False, max_iterations=1000)\n",
    "print(\"Every Visit MC computed in {:10.3f}s\".format(time.time() - start))"
   ]
  },
  {
   "cell_type": "code",
   "execution_count": 33,
   "metadata": {},
   "outputs": [
    {
     "name": "stdout",
     "output_type": "stream",
     "text": [
      "[       nan 0.07109005 0.14285714 0.20754717 0.27137546 0.33181818\n",
      " 0.412      0.4852768  0.5560054  0.62709285 0.71034483 0.77882798\n",
      " 0.8442623  0.9321267         nan]\n",
      "[       nan 0.06063269 0.13523459 0.20894161 0.26924809 0.34549395\n",
      " 0.43006324 0.49882943 0.55956972 0.64577518 0.74581725 0.82115869\n",
      " 0.87670421 0.93570608        nan]\n"
     ]
    }
   ],
   "source": [
    "print(V_first_visit)\n",
    "print(V_every_visit)"
   ]
  },
  {
   "cell_type": "markdown",
   "metadata": {},
   "source": [
    "### Show"
   ]
  },
  {
   "cell_type": "code",
   "execution_count": 34,
   "metadata": {},
   "outputs": [],
   "source": [
    "import matplotlib.pyplot as plt \n",
    "from matplotlib import style"
   ]
  },
  {
   "cell_type": "code",
   "execution_count": 35,
   "metadata": {},
   "outputs": [
    {
     "data": {
      "image/png": "[encoded data removed]",
      "text/plain": [
       "<Figure size 600x300 with 1 Axes>"
      ]
     },
     "metadata": {},
     "output_type": "display_data"
    }
   ],
   "source": [
    "fig, ax = plt.subplots(figsize=(6, 3))\n",
    "ax.plot(V_first_visit, linewidth=1.5, label=\"MC First Visit\")\n",
    "ax.plot(V_every_visit, linewidth=1.5, label=\"MC Every Visit\")\n",
    "ax.set_xticks(range(len(V_every_visit)))\n",
    "ax.set_xticklabels(sorted(walk.states))\n",
    "ax.grid(linewidth=.2)\n",
    "ax.legend()\n",
    "plt.tight_layout()\n",
    "plt.show()"
   ]
  },
  {
   "cell_type": "code",
   "execution_count": null,
   "metadata": {},
   "outputs": [],
   "source": []
  }
 ],
 "metadata": {
  "kernelspec": {
   "display_name": "rl",
   "language": "python",
   "name": "python3"
  },
  "language_info": {
   "codemirror_mode": {
    "name": "ipython",
    "version": 3
   },
   "file_extension": ".py",
   "mimetype": "text/x-python",
   "name": "python",
   "nbconvert_exporter": "python",
   "pygments_lexer": "ipython3",
   "version": "3.9.17"
  }
 },
 "nbformat": 4,
 "nbformat_minor": 2
}
