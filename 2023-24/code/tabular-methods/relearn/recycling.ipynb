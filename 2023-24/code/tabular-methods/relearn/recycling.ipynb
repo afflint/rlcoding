{
 "cells": [
  {
   "cell_type": "code",
   "execution_count": 2,
   "metadata": {},
   "outputs": [],
   "source": [
    "import numpy as np \n",
    "import pandas as pd \n",
    "import matplotlib.pyplot as plt \n",
    "import seaborn as sns \n",
    "sns.set_style(\"ticks\")"
   ]
  },
  {
   "cell_type": "markdown",
   "metadata": {},
   "source": [
    "## Recycling Robot example\n",
    "This notebook is inspired by the \"Recycling Robot\" example from\n",
    "> Sutton, R. S., & Barto, A. G. (2018). Reinforcement learning: An introduction. MIT press. [link](http://incompleteideas.net/book/the-book-2nd.html)\n",
    "\n",
    "Suppose we have a robot going anywhere in an office searching for empty cans to trash them into a bin. The robot rechargerable battery can be `high` or `low`, but the robot can eventually be broken and cannot be repaired. During its cycle, the robot can search for empty cans in the office, remain stationary and wait, or head back to its charging base and recharge.  However, if it is broken, it can do nothing. The robot activity is measured by a scoring system, providing a high score when it secures an empty can and a negative score when the battery goes low.\n",
    "\n",
    "- **State space**: {`high`, `low`, `broken`}\n",
    "- **Action space**: {`search`, `wait`, `recharge`}\n",
    "- **Rewards**: $r_{search} = 3, r_{wait} = 1, r_{depleted} = -3, r_{broken} = 0$\n",
    "- **Probabilities**: $\\alpha$ (search to high), $\\beta$ (search to low), $\\gamma$ (to broken)"
   ]
  },
  {
   "cell_type": "code",
   "execution_count": 3,
   "metadata": {},
   "outputs": [],
   "source": [
    "r_search = 3\n",
    "r_wait = 1\n",
    "r_depleted = -3\n",
    "r_broken = 0\n",
    "alpha = 0.4\n",
    "beta = 0.6\n",
    "gamma = 0.3"
   ]
  },
  {
   "cell_type": "markdown",
   "metadata": {},
   "source": [
    "### Initialize `relearn` environment"
   ]
  },
  {
   "cell_type": "code",
   "execution_count": 4,
   "metadata": {},
   "outputs": [],
   "source": [
    "from relearn.agent import *\n",
    "from relearn.environment import *\n",
    "from relearn.mdp import *"
   ]
  },
  {
   "cell_type": "code",
   "execution_count": 5,
   "metadata": {},
   "outputs": [],
   "source": [
    "actions = [Action(name) for name in [\"search\", \"wait\", \"recharge\"]]\n",
    "states = [State(name) for name in [\"low\", \"high\", \"broken\"]]\n",
    "states[-1].end_state = True  # sets the state 'broken' as end state\n",
    "states[1].start_state = True  # sets the state 'high' as start state\n",
    "rewards = [Reward(value) for value in [r_search, r_wait, r_broken, r_depleted]]"
   ]
  },
  {
   "cell_type": "code",
   "execution_count": 6,
   "metadata": {},
   "outputs": [],
   "source": [
    "transitions = [\n",
    "    Transition(\n",
    "        start_state_name=\"low\",\n",
    "        action_name=\"search\",\n",
    "        landing_state_name=\"low\",\n",
    "        reward_value=r_search,\n",
    "        probability=beta,\n",
    "    ),\n",
    "    Transition(\"low\", \"search\", \"high\", r_depleted, 1 - beta - gamma),\n",
    "    Transition(\"low\", \"search\", \"broken\", r_broken, gamma),\n",
    "    Transition(\"low\", \"wait\", \"low\", r_wait, 1 - gamma),\n",
    "    Transition(\"low\", \"wait\", \"broken\", r_broken, gamma),\n",
    "    Transition(\"low\", \"recharge\", \"high\", 0, 1 - gamma),\n",
    "    Transition(\"low\", \"recharge\", \"broken\", r_broken, gamma),\n",
    "    Transition(\"high\", \"search\", \"low\", r_search, 1 - alpha - gamma),\n",
    "    Transition(\"high\", \"search\", \"high\", r_search, alpha),\n",
    "    Transition(\"high\", \"search\", \"broken\", r_broken, gamma),\n",
    "    Transition(\"high\", \"wait\", \"high\", r_wait, 1 - gamma),\n",
    "    Transition(\"high\", \"wait\", \"broken\", r_broken, gamma),\n",
    "]"
   ]
  },
  {
   "cell_type": "markdown",
   "metadata": {},
   "source": [
    "#### See the tabular environment"
   ]
  },
  {
   "cell_type": "code",
   "execution_count": 7,
   "metadata": {},
   "outputs": [
    {
     "data": {
      "text/html": [
       "<div>\n",
       "<style scoped>\n",
       "    .dataframe tbody tr th:only-of-type {\n",
       "        vertical-align: middle;\n",
       "    }\n",
       "\n",
       "    .dataframe tbody tr th {\n",
       "        vertical-align: top;\n",
       "    }\n",
       "\n",
       "    .dataframe thead th {\n",
       "        text-align: right;\n",
       "    }\n",
       "</style>\n",
       "<table border=\"1\" class=\"dataframe\">\n",
       "  <thead>\n",
       "    <tr style=\"text-align: right;\">\n",
       "      <th></th>\n",
       "      <th>s</th>\n",
       "      <th>a</th>\n",
       "      <th>s_prime</th>\n",
       "      <th>p</th>\n",
       "      <th>r</th>\n",
       "    </tr>\n",
       "  </thead>\n",
       "  <tbody>\n",
       "    <tr>\n",
       "      <th>0</th>\n",
       "      <td>low</td>\n",
       "      <td>search</td>\n",
       "      <td>low</td>\n",
       "      <td>0.6</td>\n",
       "      <td>3</td>\n",
       "    </tr>\n",
       "    <tr>\n",
       "      <th>1</th>\n",
       "      <td>low</td>\n",
       "      <td>search</td>\n",
       "      <td>high</td>\n",
       "      <td>0.1</td>\n",
       "      <td>-3</td>\n",
       "    </tr>\n",
       "    <tr>\n",
       "      <th>2</th>\n",
       "      <td>low</td>\n",
       "      <td>search</td>\n",
       "      <td>broken</td>\n",
       "      <td>0.3</td>\n",
       "      <td>0</td>\n",
       "    </tr>\n",
       "    <tr>\n",
       "      <th>3</th>\n",
       "      <td>low</td>\n",
       "      <td>wait</td>\n",
       "      <td>low</td>\n",
       "      <td>0.7</td>\n",
       "      <td>1</td>\n",
       "    </tr>\n",
       "    <tr>\n",
       "      <th>4</th>\n",
       "      <td>low</td>\n",
       "      <td>wait</td>\n",
       "      <td>broken</td>\n",
       "      <td>0.3</td>\n",
       "      <td>0</td>\n",
       "    </tr>\n",
       "    <tr>\n",
       "      <th>5</th>\n",
       "      <td>low</td>\n",
       "      <td>recharge</td>\n",
       "      <td>high</td>\n",
       "      <td>0.7</td>\n",
       "      <td>0</td>\n",
       "    </tr>\n",
       "    <tr>\n",
       "      <th>6</th>\n",
       "      <td>low</td>\n",
       "      <td>recharge</td>\n",
       "      <td>broken</td>\n",
       "      <td>0.3</td>\n",
       "      <td>0</td>\n",
       "    </tr>\n",
       "    <tr>\n",
       "      <th>7</th>\n",
       "      <td>high</td>\n",
       "      <td>search</td>\n",
       "      <td>low</td>\n",
       "      <td>0.3</td>\n",
       "      <td>3</td>\n",
       "    </tr>\n",
       "    <tr>\n",
       "      <th>8</th>\n",
       "      <td>high</td>\n",
       "      <td>search</td>\n",
       "      <td>high</td>\n",
       "      <td>0.4</td>\n",
       "      <td>3</td>\n",
       "    </tr>\n",
       "    <tr>\n",
       "      <th>9</th>\n",
       "      <td>high</td>\n",
       "      <td>search</td>\n",
       "      <td>broken</td>\n",
       "      <td>0.3</td>\n",
       "      <td>0</td>\n",
       "    </tr>\n",
       "    <tr>\n",
       "      <th>10</th>\n",
       "      <td>high</td>\n",
       "      <td>wait</td>\n",
       "      <td>high</td>\n",
       "      <td>0.7</td>\n",
       "      <td>1</td>\n",
       "    </tr>\n",
       "    <tr>\n",
       "      <th>11</th>\n",
       "      <td>high</td>\n",
       "      <td>wait</td>\n",
       "      <td>broken</td>\n",
       "      <td>0.3</td>\n",
       "      <td>0</td>\n",
       "    </tr>\n",
       "  </tbody>\n",
       "</table>\n",
       "</div>"
      ],
      "text/plain": [
       "       s         a s_prime    p  r\n",
       "0    low    search     low  0.6  3\n",
       "1    low    search    high  0.1 -3\n",
       "2    low    search  broken  0.3  0\n",
       "3    low      wait     low  0.7  1\n",
       "4    low      wait  broken  0.3  0\n",
       "5    low  recharge    high  0.7  0\n",
       "6    low  recharge  broken  0.3  0\n",
       "7   high    search     low  0.3  3\n",
       "8   high    search    high  0.4  3\n",
       "9   high    search  broken  0.3  0\n",
       "10  high      wait    high  0.7  1\n",
       "11  high      wait  broken  0.3  0"
      ]
     },
     "execution_count": 7,
     "metadata": {},
     "output_type": "execute_result"
    }
   ],
   "source": [
    "T = pd.DataFrame([{\n",
    "    's': t.start_state, 'a': t.action, \n",
    "    's_prime': t.end_state, 'p': t.probability, \n",
    "    'r': t.reward\n",
    "} for t in transitions])\n",
    "T "
   ]
  },
  {
   "cell_type": "markdown",
   "metadata": {},
   "source": [
    "### Create Environment, Agent and MDP"
   ]
  },
  {
   "cell_type": "code",
   "execution_count": 8,
   "metadata": {},
   "outputs": [],
   "source": [
    "environment = Environment(states=states, actions=actions, rewards=rewards, transitions=transitions)"
   ]
  },
  {
   "cell_type": "markdown",
   "metadata": {},
   "source": [
    "In `relearn` the agent is nothing more than a way to run a policy"
   ]
  },
  {
   "cell_type": "code",
   "execution_count": 9,
   "metadata": {},
   "outputs": [],
   "source": [
    "random_policy = Policy.random_policy(n_states=len(environment.states), n_actions=len(environment.actions))\n",
    "agent = Agent(policy=random_policy)"
   ]
  },
  {
   "cell_type": "code",
   "execution_count": 10,
   "metadata": {},
   "outputs": [
    {
     "name": "stdout",
     "output_type": "stream",
     "text": [
      "In state low do search\n"
     ]
    },
    {
     "data": {
      "text/html": [
       "<div>\n",
       "<style scoped>\n",
       "    .dataframe tbody tr th:only-of-type {\n",
       "        vertical-align: middle;\n",
       "    }\n",
       "\n",
       "    .dataframe tbody tr th {\n",
       "        vertical-align: top;\n",
       "    }\n",
       "\n",
       "    .dataframe thead th {\n",
       "        text-align: right;\n",
       "    }\n",
       "</style>\n",
       "<table border=\"1\" class=\"dataframe\">\n",
       "  <thead>\n",
       "    <tr style=\"text-align: right;\">\n",
       "      <th></th>\n",
       "      <th>search</th>\n",
       "      <th>wait</th>\n",
       "      <th>recharge</th>\n",
       "    </tr>\n",
       "  </thead>\n",
       "  <tbody>\n",
       "    <tr>\n",
       "      <th>low</th>\n",
       "      <td>0.555253</td>\n",
       "      <td>0.122777</td>\n",
       "      <td>0.321970</td>\n",
       "    </tr>\n",
       "    <tr>\n",
       "      <th>high</th>\n",
       "      <td>0.299790</td>\n",
       "      <td>0.430025</td>\n",
       "      <td>0.270185</td>\n",
       "    </tr>\n",
       "    <tr>\n",
       "      <th>broken</th>\n",
       "      <td>0.432863</td>\n",
       "      <td>0.014110</td>\n",
       "      <td>0.553027</td>\n",
       "    </tr>\n",
       "  </tbody>\n",
       "</table>\n",
       "</div>"
      ],
      "text/plain": [
       "          search      wait  recharge\n",
       "low     0.555253  0.122777  0.321970\n",
       "high    0.299790  0.430025  0.270185\n",
       "broken  0.432863  0.014110  0.553027"
      ]
     },
     "execution_count": 10,
     "metadata": {},
     "output_type": "execute_result"
    }
   ],
   "source": [
    "action = random_policy.select_action(states[0])\n",
    "print(\"In state {} do {}\".format(states[0].name, action.name))\n",
    "pi = pd.DataFrame(random_policy.state_action_probas, index=[s.name for s in states], columns=[a.name for a in actions])\n",
    "pi"
   ]
  },
  {
   "cell_type": "markdown",
   "metadata": {},
   "source": [
    "The MDP orchestrates the interation with the environment"
   ]
  },
  {
   "cell_type": "code",
   "execution_count": 11,
   "metadata": {},
   "outputs": [
    {
     "name": "stdout",
     "output_type": "stream",
     "text": [
      "Reward: 0\tState: high\tAction: wait\n",
      "Reward: 1\tState: high\n",
      "Reward: 0\tState: high\tAction: wait\n",
      "Reward: 1\tState: high\tAction: search\n",
      "Reward: 3\tState: low\n",
      "Reward: 0\tState: high\tAction: wait\n",
      "Reward: 1\tState: high\tAction: search\n",
      "Reward: 3\tState: low\tAction: search\n",
      "Reward: 3\tState: low\n",
      "Reward: 0\tState: high\tAction: wait\n",
      "Reward: 1\tState: high\tAction: search\n",
      "Reward: 3\tState: low\tAction: search\n",
      "Reward: 3\tState: low\tAction: recharge\n",
      "Reward: 0\tState: high\n"
     ]
    }
   ],
   "source": [
    "mdp = MDP(agent=Agent(policy=random_policy), environment=environment)\n",
    "for i in range(4):\n",
    "    mdp.iterate()\n",
    "    mdp.print_trajectory()"
   ]
  },
  {
   "cell_type": "markdown",
   "metadata": {},
   "source": [
    "### Evaluation of random policy\n",
    "**Iterative Policy Evaluation**\n",
    "\n",
    "- Init $V(s)$ arbitrarly except for $V(\\textrm{terminal}) = 0$\n",
    "- Init $\\theta$ as a threshold to stop iteration\n",
    "- While $\\Delta > \\theta$:\n",
    "  - For each $s \\in S$:\n",
    "    - $v \\leftarrow V(s)$\n",
    "    - $V(s) \\leftarrow \\sum\\limits_{a \\in A} \\pi(a \\mid s) \\sum\\limits_{s' \\in  S, r \\in R} p(s', r \\mid s, a)\\left[r + \\gamma V(s')\\right]$\n",
    "    - $\\Delta \\leftarrow \\max(\\Delta, \\mid v - V(s)\\mid)$"
   ]
  },
  {
   "cell_type": "code",
   "execution_count": 12,
   "metadata": {},
   "outputs": [],
   "source": [
    "import dp "
   ]
  },
  {
   "cell_type": "code",
   "execution_count": 13,
   "metadata": {},
   "outputs": [],
   "source": [
    "mdp = MDP(agent=Agent(policy=random_policy), environment=environment)"
   ]
  },
  {
   "cell_type": "code",
   "execution_count": 14,
   "metadata": {},
   "outputs": [],
   "source": [
    "V, history = dp.policy_evaluation(mdp=mdp, gamma=.9, theta=0.0001)"
   ]
  },
  {
   "cell_type": "code",
   "execution_count": 15,
   "metadata": {},
   "outputs": [
    {
     "data": {
      "image/png": "[encoded data removed]",
      "text/plain": [
       "<Figure size 600x200 with 1 Axes>"
      ]
     },
     "metadata": {},
     "output_type": "display_data"
    }
   ],
   "source": [
    "fig, ax = plt.subplots(figsize=(6, 2))\n",
    "sns.lineplot(history, ax=ax, linewidth=1, markers=True, dashes=False)\n",
    "plt.tight_layout()\n",
    "plt.show()"
   ]
  },
  {
   "cell_type": "code",
   "execution_count": 16,
   "metadata": {},
   "outputs": [
    {
     "data": {
      "text/html": [
       "<div>\n",
       "<style scoped>\n",
       "    .dataframe tbody tr th:only-of-type {\n",
       "        vertical-align: middle;\n",
       "    }\n",
       "\n",
       "    .dataframe tbody tr th {\n",
       "        vertical-align: top;\n",
       "    }\n",
       "\n",
       "    .dataframe thead th {\n",
       "        text-align: right;\n",
       "    }\n",
       "</style>\n",
       "<table border=\"1\" class=\"dataframe\">\n",
       "  <thead>\n",
       "    <tr style=\"text-align: right;\">\n",
       "      <th></th>\n",
       "      <th>low</th>\n",
       "      <th>high</th>\n",
       "      <th>broken</th>\n",
       "    </tr>\n",
       "  </thead>\n",
       "  <tbody>\n",
       "    <tr>\n",
       "      <th>0</th>\n",
       "      <td>2.199707</td>\n",
       "      <td>1.784756</td>\n",
       "      <td>0.0</td>\n",
       "    </tr>\n",
       "  </tbody>\n",
       "</table>\n",
       "</div>"
      ],
      "text/plain": [
       "        low      high  broken\n",
       "0  2.199707  1.784756     0.0"
      ]
     },
     "execution_count": 16,
     "metadata": {},
     "output_type": "execute_result"
    }
   ],
   "source": [
    "pd.DataFrame(V, index=[s.name for s in sorted(mdp.environment.states, key=lambda x: x.idx)]).T"
   ]
  },
  {
   "cell_type": "markdown",
   "metadata": {},
   "source": [
    "### Find optimal policy by policy iteration and policy evaluation"
   ]
  },
  {
   "cell_type": "code",
   "execution_count": 17,
   "metadata": {},
   "outputs": [],
   "source": [
    "mdp = MDP(agent=Agent(policy=random_policy), environment=environment)\n",
    "pi, V, history = dp.policy_iteration(mdp=mdp, gamma=.9)"
   ]
  },
  {
   "cell_type": "code",
   "execution_count": 18,
   "metadata": {},
   "outputs": [
    {
     "data": {
      "text/html": [
       "<div>\n",
       "<style scoped>\n",
       "    .dataframe tbody tr th:only-of-type {\n",
       "        vertical-align: middle;\n",
       "    }\n",
       "\n",
       "    .dataframe tbody tr th {\n",
       "        vertical-align: top;\n",
       "    }\n",
       "\n",
       "    .dataframe thead th {\n",
       "        text-align: right;\n",
       "    }\n",
       "</style>\n",
       "<table border=\"1\" class=\"dataframe\">\n",
       "  <thead>\n",
       "    <tr style=\"text-align: right;\">\n",
       "      <th></th>\n",
       "      <th>low</th>\n",
       "      <th>high</th>\n",
       "      <th>broken</th>\n",
       "    </tr>\n",
       "  </thead>\n",
       "  <tbody>\n",
       "    <tr>\n",
       "      <th>0</th>\n",
       "      <td>4.252753</td>\n",
       "      <td>5.075071</td>\n",
       "      <td>0.0</td>\n",
       "    </tr>\n",
       "  </tbody>\n",
       "</table>\n",
       "</div>"
      ],
      "text/plain": [
       "        low      high  broken\n",
       "0  4.252753  5.075071     0.0"
      ]
     },
     "execution_count": 18,
     "metadata": {},
     "output_type": "execute_result"
    }
   ],
   "source": [
    "pd.DataFrame(V, index=[s.name for s in sorted(mdp.environment.states, key=lambda x: x.idx)]).T"
   ]
  },
  {
   "cell_type": "code",
   "execution_count": 19,
   "metadata": {},
   "outputs": [],
   "source": [
    "def show_policy(pi):\n",
    "    return [(s.name, a.name) for s, a in pi.items()]"
   ]
  },
  {
   "cell_type": "code",
   "execution_count": 20,
   "metadata": {},
   "outputs": [
    {
     "name": "stdout",
     "output_type": "stream",
     "text": [
      "[('low', 'recharge'), ('high', 'recharge'), ('broken', 'search')]\n",
      "[('low', 'search'), ('high', 'search'), ('broken', 'search')]\n"
     ]
    }
   ],
   "source": [
    "for p in history:\n",
    "    print(show_policy(p))"
   ]
  },
  {
   "cell_type": "markdown",
   "metadata": {},
   "source": [
    "## Value iteration\n",
    "\n",
    "- Init $V(s)$ arbitrarly except for $V(\\textrm{terminal}) = 0$\n",
    "- Init $\\theta$ as a threshold to stop iteration\n",
    "- While $\\Delta > \\theta$:\n",
    "  - For each $s \\in S$:\n",
    "    - $v \\leftarrow V(s)$\n",
    "    - $V(s) \\leftarrow \\max\\limits_{a \\in A}\\left( \\sum\\limits_{s' \\in  S, r \\in R} p(s', r \\mid s, a)\\left[r + \\gamma V(s')\\right] \\right )$\n",
    "    - $\\Delta \\leftarrow \\max(\\Delta, \\mid v - V(s)\\mid)$\n",
    "- $\\pi(s) \\leftarrow \\arg\\max\\limits_{a \\in A} \\left( \\sum\\limits_{s' \\in  S, r \\in R} p(s', r \\mid s, a)\\left[r + \\gamma V(s')\\right] \\right )$"
   ]
  },
  {
   "cell_type": "code",
   "execution_count": 20,
   "metadata": {},
   "outputs": [],
   "source": [
    "mdp = MDP(agent=Agent(policy=random_policy), environment=environment)\n",
    "pi, V, history = dp.value_iteration(mdp=mdp, gamma=.9)"
   ]
  },
  {
   "cell_type": "code",
   "execution_count": 21,
   "metadata": {},
   "outputs": [
    {
     "data": {
      "text/html": [
       "<div>\n",
       "<style scoped>\n",
       "    .dataframe tbody tr th:only-of-type {\n",
       "        vertical-align: middle;\n",
       "    }\n",
       "\n",
       "    .dataframe tbody tr th {\n",
       "        vertical-align: top;\n",
       "    }\n",
       "\n",
       "    .dataframe thead th {\n",
       "        text-align: right;\n",
       "    }\n",
       "</style>\n",
       "<table border=\"1\" class=\"dataframe\">\n",
       "  <thead>\n",
       "    <tr style=\"text-align: right;\">\n",
       "      <th></th>\n",
       "      <th>low</th>\n",
       "      <th>high</th>\n",
       "      <th>broken</th>\n",
       "    </tr>\n",
       "  </thead>\n",
       "  <tbody>\n",
       "    <tr>\n",
       "      <th>0</th>\n",
       "      <td>4.252753</td>\n",
       "      <td>5.075071</td>\n",
       "      <td>0.0</td>\n",
       "    </tr>\n",
       "  </tbody>\n",
       "</table>\n",
       "</div>"
      ],
      "text/plain": [
       "        low      high  broken\n",
       "0  4.252753  5.075071     0.0"
      ]
     },
     "execution_count": 21,
     "metadata": {},
     "output_type": "execute_result"
    }
   ],
   "source": [
    "pd.DataFrame(V, index=[s.name for s in sorted(mdp.environment.states, key=lambda x: x.idx)]).T"
   ]
  },
  {
   "cell_type": "code",
   "execution_count": 22,
   "metadata": {},
   "outputs": [
    {
     "data": {
      "text/plain": [
       "[('low', 'search'), ('high', 'search'), ('broken', 'search')]"
      ]
     },
     "execution_count": 22,
     "metadata": {},
     "output_type": "execute_result"
    }
   ],
   "source": [
    "show_policy(pi)"
   ]
  },
  {
   "cell_type": "code",
   "execution_count": null,
   "metadata": {},
   "outputs": [],
   "source": []
  }
 ],
 "metadata": {
  "kernelspec": {
   "display_name": "rl",
   "language": "python",
   "name": "python3"
  },
  "language_info": {
   "codemirror_mode": {
    "name": "ipython",
    "version": 3
   },
   "file_extension": ".py",
   "mimetype": "text/x-python",
   "name": "python",
   "nbconvert_exporter": "python",
   "pygments_lexer": "ipython3",
   "version": "3.9.17"
  }
 },
 "nbformat": 4,
 "nbformat_minor": 2
}
