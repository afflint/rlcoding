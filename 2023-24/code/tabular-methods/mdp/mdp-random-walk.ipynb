{
 "cells": [
  {
   "cell_type": "markdown",
   "metadata": {},
   "source": [
    "# Recycling Robot\n",
    "> Sutton, R. S., & Barto, A. G. (2018). Reinforcement learning: An introduction. MIT press. (Example 6.2)\n",
    "\n",
    "- **states**: $1 .. N$\n",
    "- **actions**: `move`\n",
    "- **transition**: pick a state $[s \\in s-k:s-1 ; s+1:s+k] $ with uniform probability\n",
    "- **terminal**: $s \\leq 1 \\vee s \\geq N$\n",
    "- **reward**: \n",
    "    - $s \\leq 1 \\rightarrow -1$\n",
    "    - $s \\geq N \\rightarrow +1$\n",
    "    - $1 < s < N \\rightarrow 0$"
   ]
  },
  {
   "cell_type": "code",
   "execution_count": 1,
   "metadata": {},
   "outputs": [],
   "source": [
    "from mdp.model import MDP, Transition\n",
    "from collections import defaultdict\n",
    "import numpy as np"
   ]
  },
  {
   "cell_type": "markdown",
   "metadata": {},
   "source": [
    "**Generate transitions**"
   ]
  },
  {
   "cell_type": "code",
   "execution_count": 2,
   "metadata": {},
   "outputs": [],
   "source": [
    "start, end, step = 0, 9, 2\n",
    "states = list(range(start, end+1))\n",
    "conf = []\n",
    "for s in states:\n",
    "    s_primes = np.append(np.arange(s-step, s), np.arange(s+1, s+step+1))\n",
    "    P = defaultdict(lambda: 0)\n",
    "    for s_prime in s_primes:\n",
    "        if s_prime <= start:\n",
    "            P[start] += 1\n",
    "        elif s_prime >= end:\n",
    "            P[end] += 1\n",
    "        else:\n",
    "            P[s_prime] += 1\n",
    "    for s_prime, value in P.items():\n",
    "        reward = 0\n",
    "        if s_prime == start:\n",
    "            reward = -1\n",
    "        elif s_prime == end:\n",
    "            reward = 1\n",
    "        conf.append(Transition(s, 0, s_prime, value / sum(P.values()), reward))"
   ]
  },
  {
   "cell_type": "code",
   "execution_count": 3,
   "metadata": {},
   "outputs": [],
   "source": [
    "mdp = MDP(10, 1, config=conf, gamma=1)\n",
    "mdp.set_state_names(**dict([(str(i+1), i) for i in range(10)]))\n",
    "mdp.set_action_names(move=0)"
   ]
  },
  {
   "cell_type": "code",
   "execution_count": 4,
   "metadata": {},
   "outputs": [
    {
     "name": "stdout",
     "output_type": "stream",
     "text": [
      "   state action s_prime  probability  reward\n",
      "0      1   move       1         0.50    -1.0\n",
      "1      1   move       2         0.25     0.0\n",
      "2      1   move       3         0.25     0.0\n",
      "3      2   move       1         0.50    -1.0\n",
      "4      2   move       3         0.25     0.0\n",
      "5      2   move       4         0.25     0.0\n",
      "6      3   move       1         0.25    -1.0\n",
      "7      3   move       2         0.25     0.0\n",
      "8      3   move       4         0.25     0.0\n",
      "9      3   move       5         0.25     0.0\n",
      "10     4   move       2         0.25     0.0\n",
      "11     4   move       3         0.25     0.0\n",
      "12     4   move       5         0.25     0.0\n",
      "13     4   move       6         0.25     0.0\n",
      "14     5   move       3         0.25     0.0\n",
      "15     5   move       4         0.25     0.0\n",
      "16     5   move       6         0.25     0.0\n",
      "17     5   move       7         0.25     0.0\n",
      "18     6   move       4         0.25     0.0\n",
      "19     6   move       5         0.25     0.0\n",
      "20     6   move       7         0.25     0.0\n",
      "21     6   move       8         0.25     0.0\n",
      "22     7   move       5         0.25     0.0\n",
      "23     7   move       6         0.25     0.0\n",
      "24     7   move       8         0.25     0.0\n",
      "25     7   move       9         0.25     0.0\n",
      "26     8   move       6         0.25     0.0\n",
      "27     8   move       7         0.25     0.0\n",
      "28     8   move       9         0.25     0.0\n",
      "29     8   move      10         0.25     1.0\n",
      "30     9   move       7         0.25     0.0\n",
      "31     9   move       8         0.25     0.0\n",
      "32     9   move      10         0.50     1.0\n",
      "33    10   move       8         0.25     0.0\n",
      "34    10   move       9         0.25     0.0\n",
      "35    10   move      10         0.50     1.0\n"
     ]
    }
   ],
   "source": [
    "table = mdp.to_table()\n",
    "print(table)"
   ]
  },
  {
   "cell_type": "markdown",
   "metadata": {},
   "source": [
    "### Set a policy"
   ]
  },
  {
   "cell_type": "code",
   "execution_count": 5,
   "metadata": {},
   "outputs": [],
   "source": [
    "from mdp.policy import Policy\n",
    "import numpy as np "
   ]
  },
  {
   "cell_type": "code",
   "execution_count": 6,
   "metadata": {},
   "outputs": [
    {
     "name": "stdout",
     "output_type": "stream",
     "text": [
      "{'move': 0}\n",
      "{'1': 0, '2': 1, '3': 2, '4': 3, '5': 4, '6': 5, '7': 6, '8': 7, '9': 8, '10': 9}\n"
     ]
    }
   ],
   "source": [
    "print(mdp.action_id)\n",
    "print(mdp.state_id)"
   ]
  },
  {
   "cell_type": "code",
   "execution_count": 7,
   "metadata": {},
   "outputs": [],
   "source": [
    "class DummyPolicy(Policy):\n",
    "    def __getitem__(self, state: int) -> int:\n",
    "        return 0"
   ]
  },
  {
   "cell_type": "code",
   "execution_count": 8,
   "metadata": {},
   "outputs": [],
   "source": [
    "move = DummyPolicy(mdp)"
   ]
  },
  {
   "cell_type": "markdown",
   "metadata": {},
   "source": [
    "#### Policy Evaluation\n",
    "\n",
    "$$\n",
    "V_t(s) = Q_{t-1}(s, \\pi_s)\n",
    "$$\n",
    "$$\n",
    "Q_{t-1}(s, \\pi_s) = \\sum\\limits_{s'} T(s, a, s')\\left[ reward(s, \\pi_s, s') + \\gamma  V_{t-1}(s')\\right]\n",
    "$$"
   ]
  },
  {
   "cell_type": "code",
   "execution_count": 9,
   "metadata": {},
   "outputs": [],
   "source": [
    "from mdp.algorithms import policy_evaluation"
   ]
  },
  {
   "cell_type": "code",
   "execution_count": 10,
   "metadata": {},
   "outputs": [
    {
     "name": "stdout",
     "output_type": "stream",
     "text": [
      "[-4.28089888 -3.75280899 -2.80898876 -1.64044944 -0.56179775  0.56179775\n",
      "  1.64044944  2.80898876  3.75280899  4.28089888]\n"
     ]
    }
   ],
   "source": [
    "values = policy_evaluation(policy=move, mdp=mdp)\n",
    "print(values)"
   ]
  },
  {
   "cell_type": "code",
   "execution_count": 11,
   "metadata": {},
   "outputs": [],
   "source": [
    "import matplotlib.pyplot as plt \n",
    "plt.style.use('ggplot')\n"
   ]
  },
  {
   "cell_type": "code",
   "execution_count": 12,
   "metadata": {},
   "outputs": [
    {
     "data": {
      "image/png": "[encoded data removed]",
      "text/plain": [
       "<Figure size 1000x400 with 1 Axes>"
      ]
     },
     "metadata": {},
     "output_type": "display_data"
    }
   ],
   "source": [
    "fig, ax = plt.subplots(figsize=(10, 4))\n",
    "ax.plot(range(end+1), values / values.max())\n",
    "ax.set_xticks(range(end+1))\n",
    "ax.set_xticklabels([str(i+1) for i in range(end+1)])\n",
    "plt.tight_layout()\n",
    "plt.show()"
   ]
  },
  {
   "cell_type": "markdown",
   "metadata": {},
   "source": [
    "#### Value Iteration\n",
    "$$\n",
    "    V^{*}_{t(s)} = \\max\\limits_a Q^{*}_{t-1}(s, a)\n",
    "$$\n",
    "$$\n",
    "    Q^{*}_{t-1}(s, a) = \\sum\\limits_{s'} T(s, a, s')\\left[reward(s, a, s') + \\gamma  V^{*}_{t-1}(s')\\right]\n",
    "$$"
   ]
  },
  {
   "cell_type": "code",
   "execution_count": 13,
   "metadata": {},
   "outputs": [],
   "source": [
    "from mdp.algorithms import value_iteration"
   ]
  },
  {
   "cell_type": "code",
   "execution_count": 14,
   "metadata": {},
   "outputs": [],
   "source": [
    "V_star, Pi_star, value_history, policy_history = value_iteration(mdp=mdp)"
   ]
  },
  {
   "cell_type": "code",
   "execution_count": 15,
   "metadata": {},
   "outputs": [
    {
     "name": "stdout",
     "output_type": "stream",
     "text": [
      "[-4.28089888 -3.75280899 -2.80898876 -1.64044944 -0.56179775  0.56179775\n",
      "  1.64044944  2.80898876  3.75280899  4.28089888]\n",
      "1 move\n",
      "2 move\n",
      "3 move\n",
      "4 move\n",
      "5 move\n",
      "6 move\n",
      "7 move\n",
      "8 move\n",
      "9 move\n",
      "10 move\n"
     ]
    }
   ],
   "source": [
    "print(V_star)\n",
    "for s, a in Pi_star.items():\n",
    "    print(\"{} {}\".format(mdp.states[s], mdp.actions[a]))"
   ]
  },
  {
   "cell_type": "markdown",
   "metadata": {},
   "source": [
    "#### Policy Iteration\n",
    "\n",
    "When we have a policy $\\pi$, for all states $s$, we can find a greedy policy $\\pi'$ by:\n",
    "$$\n",
    "\\pi'(s) = \\arg\\max\\limits_{a} \\sum\\limits_{s'}p(s'\\mid s, a) \\left [ r(s, a, s') + \\gamma V_{\\pi}(s')\\right ]\n",
    "$$\n",
    "**Note**: suppose that $\\pi'$ is not better than the old policy $\\pi$. Then $V_{\\pi} = V_{\\pi'}$. Thus we can rewrite:\n",
    "$$\n",
    "V_{\\pi'}(s) = \\max\\limits_{a} \\sum\\limits_{s'}p(s'\\mid s, a) \\left [ r(s, a, s') + \\gamma V_{\\pi'\n",
    "}(s')\\right ]\n",
    "$$\n",
    "Now, since (7) is the **Bellman optimality equation** $V_{\\pi'}$ must be $V^*$ and both $\\pi$ and $\\pi'$ must be optimal policies. Thus policy improvement **always gives us a strictly better policy except when the policy is already optimal**."
   ]
  },
  {
   "cell_type": "code",
   "execution_count": 16,
   "metadata": {},
   "outputs": [],
   "source": [
    "from mdp.algorithms import policy_iteration"
   ]
  },
  {
   "cell_type": "code",
   "execution_count": 17,
   "metadata": {},
   "outputs": [],
   "source": [
    "pi, history = policy_iteration(mdp)"
   ]
  },
  {
   "cell_type": "code",
   "execution_count": 18,
   "metadata": {},
   "outputs": [
    {
     "name": "stdout",
     "output_type": "stream",
     "text": [
      "1 move\n",
      "2 move\n",
      "3 move\n",
      "4 move\n",
      "5 move\n",
      "6 move\n",
      "7 move\n",
      "8 move\n",
      "9 move\n",
      "10 move\n"
     ]
    }
   ],
   "source": [
    "for s in mdp.states:\n",
    "    print(\"{} {}\".format(mdp.states[s], mdp.actions[pi[s]]))"
   ]
  },
  {
   "cell_type": "code",
   "execution_count": 19,
   "metadata": {},
   "outputs": [
    {
     "data": {
      "text/plain": [
       "[({0: 0, 1: 0, 2: 0, 3: 0, 4: 0, 5: 0, 6: 0, 7: 0, 8: 0, 9: 0},\n",
       "  array([-4.28089888, -3.75280899, -2.80898876, -1.64044944, -0.56179775,\n",
       "          0.56179775,  1.64044944,  2.80898876,  3.75280899,  4.28089888]))]"
      ]
     },
     "execution_count": 19,
     "metadata": {},
     "output_type": "execute_result"
    }
   ],
   "source": [
    "history"
   ]
  },
  {
   "cell_type": "code",
   "execution_count": null,
   "metadata": {},
   "outputs": [],
   "source": []
  },
  {
   "cell_type": "code",
   "execution_count": null,
   "metadata": {},
   "outputs": [],
   "source": []
  }
 ],
 "metadata": {
  "kernelspec": {
   "display_name": "rl",
   "language": "python",
   "name": "python3"
  },
  "language_info": {
   "codemirror_mode": {
    "name": "ipython",
    "version": 3
   },
   "file_extension": ".py",
   "mimetype": "text/x-python",
   "name": "python",
   "nbconvert_exporter": "python",
   "pygments_lexer": "ipython3",
   "version": "3.9.17"
  }
 },
 "nbformat": 4,
 "nbformat_minor": 2
}
