{
 "cells": [
  {
   "cell_type": "markdown",
   "metadata": {},
   "source": [
    "# Stay-Quit Game\n",
    "\n",
    "![](imgs/stay-quit.png)"
   ]
  },
  {
   "cell_type": "code",
   "execution_count": 1,
   "metadata": {},
   "outputs": [],
   "source": [
    "from mdp.model import MDP, Transition"
   ]
  },
  {
   "cell_type": "code",
   "execution_count": 2,
   "metadata": {},
   "outputs": [],
   "source": [
    "alpha, r1, r2, r3 = 2/3, 4, 4, 10\n",
    "conf = [\n",
    "    Transition(0, 0, 0, alpha, r2),\n",
    "    Transition(0, 0, 1, 1 - alpha, r1),\n",
    "    Transition(0, 1, 1, 1, r3),\n",
    "]\n",
    "\n",
    "mdp = MDP(2, 2, config=conf, gamma=1)\n",
    "mdp.set_state_names(IN=0, OUT=1)\n",
    "mdp.set_action_names(stay=0, quit=1)"
   ]
  },
  {
   "cell_type": "markdown",
   "metadata": {},
   "source": [
    "### Set a policy"
   ]
  },
  {
   "cell_type": "code",
   "execution_count": 3,
   "metadata": {},
   "outputs": [],
   "source": [
    "from mdp.policy import Policy\n",
    "import numpy as np "
   ]
  },
  {
   "cell_type": "code",
   "execution_count": 4,
   "metadata": {},
   "outputs": [],
   "source": [
    "class StayPolicy(Policy):\n",
    "    def __getitem__(self, state: int) -> int:\n",
    "        return 0\n",
    "\n",
    "class QuitPolicy(Policy):\n",
    "    def __getitem__(self, state: int) -> int:\n",
    "        return 1\n",
    "\n",
    "class RandomPolicy(Policy):\n",
    "    def __getitem__(self, state: int) -> int:\n",
    "        return np.random.randint(0, len(self.mdp.states))"
   ]
  },
  {
   "cell_type": "code",
   "execution_count": 5,
   "metadata": {},
   "outputs": [],
   "source": [
    "stay = StayPolicy(mdp)\n",
    "quit_p = QuitPolicy(mdp)\n",
    "random_p = RandomPolicy(mdp)"
   ]
  },
  {
   "cell_type": "markdown",
   "metadata": {},
   "source": [
    "#### Policy Evaluation\n",
    "\n",
    "$$\n",
    "V_t(s) = Q_{t-1}(s, \\pi_s)\n",
    "$$\n",
    "$$\n",
    "Q_{t-1}(s, \\pi_s) = \\sum\\limits_{s'} T(s, a, s')\\left[ reward(s, \\pi_s, s') + \\gamma  V_{t-1}(s')\\right]\n",
    "$$"
   ]
  },
  {
   "cell_type": "code",
   "execution_count": 6,
   "metadata": {},
   "outputs": [],
   "source": [
    "from mdp.algorithms import policy_evaluation"
   ]
  },
  {
   "cell_type": "code",
   "execution_count": 7,
   "metadata": {},
   "outputs": [
    {
     "name": "stdout",
     "output_type": "stream",
     "text": [
      "[12.  0.]\n",
      "[10.  0.]\n",
      "[10.  0.]\n"
     ]
    }
   ],
   "source": [
    "print(policy_evaluation(policy=stay, mdp=mdp))\n",
    "print(policy_evaluation(policy=quit_p, mdp=mdp))\n",
    "print(policy_evaluation(policy=random_p, mdp=mdp))"
   ]
  },
  {
   "cell_type": "markdown",
   "metadata": {},
   "source": [
    "## Value Iteration\n",
    "$$\n",
    "    V^{*}_{t(s)} = \\max\\limits_a Q^{*}_{t-1}(s, a)\n",
    "$$\n",
    "$$\n",
    "    Q^{*}_{t-1}(s, a) = \\sum\\limits_{s'} T(s, a, s')\\left[reward(s, a, s') + \\gamma  V^{*}_{t-1}(s')\\right]\n",
    "$$"
   ]
  },
  {
   "cell_type": "code",
   "execution_count": 8,
   "metadata": {},
   "outputs": [],
   "source": [
    "from mdp.algorithms import value_iteration"
   ]
  },
  {
   "cell_type": "code",
   "execution_count": 9,
   "metadata": {},
   "outputs": [],
   "source": [
    "V_star, Pi_star, value_history, policy_history = value_iteration(mdp=mdp)"
   ]
  },
  {
   "cell_type": "code",
   "execution_count": 11,
   "metadata": {},
   "outputs": [
    {
     "name": "stdout",
     "output_type": "stream",
     "text": [
      "[12.  0.] {0: 0, 1: None}\n"
     ]
    }
   ],
   "source": [
    "print(V_star, Pi_star)"
   ]
  },
  {
   "cell_type": "code",
   "execution_count": null,
   "metadata": {},
   "outputs": [],
   "source": []
  }
 ],
 "metadata": {
  "kernelspec": {
   "display_name": "rl",
   "language": "python",
   "name": "python3"
  },
  "language_info": {
   "codemirror_mode": {
    "name": "ipython",
    "version": 3
   },
   "file_extension": ".py",
   "mimetype": "text/x-python",
   "name": "python",
   "nbconvert_exporter": "python",
   "pygments_lexer": "ipython3",
   "version": "3.9.17"
  }
 },
 "nbformat": 4,
 "nbformat_minor": 2
}
