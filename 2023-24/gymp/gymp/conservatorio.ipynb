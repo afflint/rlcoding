{
 "cells": [
  {
   "cell_type": "code",
   "execution_count": 1,
   "metadata": {},
   "outputs": [],
   "source": [
    "import gymnasium as gym \n",
    "from mdp import environments\n",
    "import matplotlib.pyplot as plt \n",
    "import seaborn as sns \n",
    "from collections import defaultdict\n",
    "import pandas as pd \n",
    "import numpy as np "
   ]
  },
  {
   "cell_type": "code",
   "execution_count": 5,
   "metadata": {},
   "outputs": [],
   "source": [
    "env = gym.make('Conservatorio-v0', size=16, train_prob=.5, bus_prob=.2, walk_r=-2, bus_r=-1, train_r=-1)"
   ]
  },
  {
   "cell_type": "code",
   "execution_count": 6,
   "metadata": {},
   "outputs": [
    {
     "name": "stdout",
     "output_type": "stream",
     "text": [
      "0 train 0 -1 -1 {'distance': 16}\n",
      "0 walk 1 -2 -3 {'distance': 15}\n",
      "1 bus 3 -1 -4 {'distance': 13}\n",
      "3 walk 4 -2 -6 {'distance': 12}\n",
      "4 bus 6 -1 -7 {'distance': 10}\n",
      "6 bus 8 -1 -8 {'distance': 8}\n",
      "8 train 8 -1 -9 {'distance': 8}\n",
      "8 walk 9 -2 -11 {'distance': 7}\n",
      "9 train 9 -1 -12 {'distance': 7}\n",
      "9 walk 10 -2 -14 {'distance': 6}\n"
     ]
    }
   ],
   "source": [
    "label = ['walk', 'bus', 'train']\n",
    "observation, info = env.reset()\n",
    "G = 0\n",
    "for s in range(10):\n",
    "    state = env.unwrapped.get_state()\n",
    "    action = env.action_space.sample()\n",
    "    observation, reward, terminated, truncated, info = env.step(action=action)\n",
    "    G += reward\n",
    "    print(state, label[action], observation, reward, G, info)\n",
    "    if terminated or truncated:\n",
    "        print(\"end of episode\")\n",
    "        G = 0\n",
    "        env.reset()"
   ]
  },
  {
   "cell_type": "code",
   "execution_count": null,
   "metadata": {},
   "outputs": [],
   "source": []
  }
 ],
 "metadata": {
  "kernelspec": {
   "display_name": "rl",
   "language": "python",
   "name": "python3"
  },
  "language_info": {
   "codemirror_mode": {
    "name": "ipython",
    "version": 3
   },
   "file_extension": ".py",
   "mimetype": "text/x-python",
   "name": "python",
   "nbconvert_exporter": "python",
   "pygments_lexer": "ipython3",
   "version": "3.9.17"
  }
 },
 "nbformat": 4,
 "nbformat_minor": 2
}
