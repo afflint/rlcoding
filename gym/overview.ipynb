{
 "cells": [
  {
   "cell_type": "markdown",
   "id": "b24f4af5",
   "metadata": {},
   "source": [
    "# Quick overview of gymnasium: Q-learning and SARSA\n",
    "[Gymnasium website](https://gymnasium.farama.org/)"
   ]
  },
  {
   "cell_type": "code",
   "execution_count": 8,
   "id": "34f8624e",
   "metadata": {},
   "outputs": [],
   "source": [
    "import pandas as pd\n",
    "import numpy as np\n",
    "from tqdm.notebook import tqdm"
   ]
  },
  {
   "cell_type": "code",
   "execution_count": 9,
   "id": "ddbea652",
   "metadata": {},
   "outputs": [],
   "source": [
    "import gymnasium as gym\n",
    "import pygame"
   ]
  },
  {
   "cell_type": "markdown",
   "id": "91bcd478",
   "metadata": {},
   "source": [
    "## Taxi driver\n",
    "There are four designated locations in the grid world indicated by R(ed), G(reen), Y(ellow), and B(lue). When the episode starts, the taxi starts off at a random square and the passenger is at a random location. The taxi drives to the passenger’s location, picks up the passenger, drives to the passenger’s destination (another one of the four specified locations), and then drops off the passenger. Once the passenger is dropped off, the episode ends.\n",
    "\n",
    "**Actions**\n",
    "- 0: move south;\n",
    "- 1: move north;\n",
    "- 2: move east;\n",
    "- 3: move west;\n",
    "- 4: pickup the passenger;\n",
    "- 5: dropoff the passenger.\n",
    "\n",
    "4 locations $\\times$ 5 passenger locations (including the taxi) $\\times$ 25 grid positions = 500 space\n",
    "\n",
    "Each action takes 1 point meaning a reward of -1; successfully delivering the passenger yields +20; any illegal move costs -10 points."
   ]
  },
  {
   "cell_type": "code",
   "execution_count": 13,
   "id": "5a9ae3d5",
   "metadata": {},
   "outputs": [],
   "source": [
    "env = gym.make(\"Taxi-v3\", render_mode='ansi')"
   ]
  },
  {
   "cell_type": "code",
   "execution_count": 14,
   "id": "0819f6cf",
   "metadata": {},
   "outputs": [
    {
     "name": "stdout",
     "output_type": "stream",
     "text": [
      "+---------+\n",
      "|\u001b[34;1mR\u001b[0m: | : :\u001b[35mG\u001b[0m|\n",
      "| : | : : |\n",
      "| : : : : |\n",
      "| | : | : |\n",
      "|Y| : |\u001b[43mB\u001b[0m: |\n",
      "+---------+\n",
      "\n",
      "\n"
     ]
    }
   ],
   "source": [
    "env.reset()\n",
    "print(env.render())"
   ]
  },
  {
   "cell_type": "markdown",
   "id": "65e6b7d7",
   "metadata": {},
   "source": [
    "### Utility functions"
   ]
  },
  {
   "cell_type": "code",
   "execution_count": 32,
   "id": "12a0f502",
   "metadata": {},
   "outputs": [
    {
     "name": "stdout",
     "output_type": "stream",
     "text": [
      "{'render_modes': ['human', 'ansi', 'rgb_array'], 'render_fps': 4}\n",
      "Action Space Discrete(6)\n",
      "State Space Discrete(500)\n",
      "0\n",
      "(461, -1, False, False, {'prob': 1.0, 'action_mask': array([0, 1, 1, 0, 0, 0], dtype=int8)})\n"
     ]
    }
   ],
   "source": [
    "print(env.env.metadata)\n",
    "print(\"Action Space {}\".format(env.action_space))\n",
    "print(\"State Space {}\".format(env.observation_space))\n",
    "random_action = env.action_space.sample()\n",
    "print(random_action)\n",
    "print(env.step(random_action))\n",
    "# next_state, reward, terminated, truncated , info = env.step(action)"
   ]
  },
  {
   "cell_type": "markdown",
   "id": "0a39e491",
   "metadata": {},
   "source": [
    "## Example: use gym to implement Q-learning"
   ]
  },
  {
   "cell_type": "code",
   "execution_count": null,
   "id": "fcfe0b88",
   "metadata": {},
   "outputs": [],
   "source": []
  },
  {
   "cell_type": "code",
   "execution_count": null,
   "id": "fcb19edc",
   "metadata": {},
   "outputs": [],
   "source": []
  },
  {
   "cell_type": "code",
   "execution_count": null,
   "id": "3af6c24a",
   "metadata": {},
   "outputs": [],
   "source": []
  }
 ],
 "metadata": {
  "kernelspec": {
   "display_name": "crike",
   "language": "python",
   "name": "crike"
  },
  "language_info": {
   "codemirror_mode": {
    "name": "ipython",
    "version": 3
   },
   "file_extension": ".py",
   "mimetype": "text/x-python",
   "name": "python",
   "nbconvert_exporter": "python",
   "pygments_lexer": "ipython3",
   "version": "3.8.8"
  },
  "toc": {
   "base_numbering": 1,
   "nav_menu": {},
   "number_sections": true,
   "sideBar": true,
   "skip_h1_title": false,
   "title_cell": "Table of Contents",
   "title_sidebar": "Contents",
   "toc_cell": false,
   "toc_position": {},
   "toc_section_display": true,
   "toc_window_display": false
  }
 },
 "nbformat": 4,
 "nbformat_minor": 5
}
