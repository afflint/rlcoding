{
 "cells": [
  {
   "cell_type": "markdown",
   "id": "25ad6597",
   "metadata": {},
   "source": [
    "# Play the dungeon MDP"
   ]
  },
  {
   "cell_type": "code",
   "execution_count": 1,
   "id": "81124df5",
   "metadata": {},
   "outputs": [],
   "source": [
    "import sys\n",
    "sys.path.append('../mdp/')\n",
    "from dungeon import DungeonMDP\n",
    "import numpy as np\n",
    "from IPython.display import clear_output, display, HTML"
   ]
  },
  {
   "cell_type": "code",
   "execution_count": 2,
   "id": "17c11ba6",
   "metadata": {},
   "outputs": [],
   "source": [
    "mdp = DungeonMDP()"
   ]
  },
  {
   "cell_type": "code",
   "execution_count": 3,
   "id": "edabdb8b",
   "metadata": {},
   "outputs": [
    {
     "data": {
      "text/html": [
       "<h2>You are in an empty room. There are 2 doors.</h2>"
      ],
      "text/plain": [
       "<IPython.core.display.HTML object>"
      ]
     },
     "metadata": {},
     "output_type": "display_data"
    },
    {
     "name": "stdout",
     "output_type": "stream",
     "text": [
      "Your reward for this exploration is 0\n",
      "\n",
      "Choose between these possible actions {'R', 'L'}\n",
      "\n",
      "quir\n",
      "Game is finished. Your total reward is 0\n"
     ]
    }
   ],
   "source": [
    "R = 0\n",
    "current_room = list(mdp.start())[0]\n",
    "options = mdp.actions(current_room)\n",
    "messages = {\n",
    "    'E': '<h2>You are in an empty room. There are 2 doors.</h2>',\n",
    "    'M': '<h2>O God, you meet a monster! Your gold has been stolen!</h2',\n",
    "    'T': '<h2>There is a treasure! Very good...</h2>',\n",
    "    'O': '<h2>The exit finally!</h2>'\n",
    "}\n",
    "\n",
    "exit = False\n",
    "\n",
    "while not exit:\n",
    "    display(HTML(messages[current_room]))\n",
    "    print('Your reward for this exploration is {}\\n'.format(R))\n",
    "    choice = input('Choose between these possible actions {}\\n\\n'.format(options))\n",
    "    if choice.upper() in options and current_room != 'O':\n",
    "        action = choice.upper()\n",
    "        next_stages = mdp.successors(current_room, action)\n",
    "        next_rooms = [s_prime for s_prime, p, r in next_stages]\n",
    "        p = [p for s_prime, p, r in next_stages]\n",
    "        next_room = np.random.choice(next_rooms, p=p)\n",
    "        reward = mdp.reward(current_room, action, next_room)\n",
    "        current_room = next_room\n",
    "        R += reward\n",
    "    else:\n",
    "        print(\"Game is finished. Your total reward is {}\".format(R))\n",
    "        exit = True\n",
    "    clear_output(wait=True)"
   ]
  },
  {
   "cell_type": "markdown",
   "id": "937ed1a0",
   "metadata": {},
   "source": [
    "## Q-learning"
   ]
  },
  {
   "cell_type": "code",
   "execution_count": 4,
   "id": "29cdbe14",
   "metadata": {},
   "outputs": [],
   "source": [
    "from algorithms import Qlearning\n",
    "from utils import show_q_learning\n",
    "import pandas as pd"
   ]
  },
  {
   "cell_type": "code",
   "execution_count": 5,
   "id": "6179cf74",
   "metadata": {},
   "outputs": [],
   "source": [
    "Q, history, rewards = Qlearning(mdp)"
   ]
  },
  {
   "cell_type": "code",
   "execution_count": 6,
   "id": "38776827",
   "metadata": {},
   "outputs": [
    {
     "data": {
      "text/html": [
       "<div>\n",
       "<style scoped>\n",
       "    .dataframe tbody tr th:only-of-type {\n",
       "        vertical-align: middle;\n",
       "    }\n",
       "\n",
       "    .dataframe tbody tr th {\n",
       "        vertical-align: top;\n",
       "    }\n",
       "\n",
       "    .dataframe thead th {\n",
       "        text-align: right;\n",
       "    }\n",
       "</style>\n",
       "<table border=\"1\" class=\"dataframe\">\n",
       "  <thead>\n",
       "    <tr style=\"text-align: right;\">\n",
       "      <th></th>\n",
       "      <th>R</th>\n",
       "      <th>L</th>\n",
       "    </tr>\n",
       "  </thead>\n",
       "  <tbody>\n",
       "    <tr>\n",
       "      <th>M</th>\n",
       "      <td>1.233362</td>\n",
       "      <td>1.956121</td>\n",
       "    </tr>\n",
       "    <tr>\n",
       "      <th>E</th>\n",
       "      <td>-2.370307</td>\n",
       "      <td>-0.035890</td>\n",
       "    </tr>\n",
       "    <tr>\n",
       "      <th>T</th>\n",
       "      <td>-5.018238</td>\n",
       "      <td>-1.436673</td>\n",
       "    </tr>\n",
       "    <tr>\n",
       "      <th>O</th>\n",
       "      <td>0.000000</td>\n",
       "      <td>0.000000</td>\n",
       "    </tr>\n",
       "  </tbody>\n",
       "</table>\n",
       "</div>"
      ],
      "text/plain": [
       "          R         L\n",
       "M  1.233362  1.956121\n",
       "E -2.370307 -0.035890\n",
       "T -5.018238 -1.436673\n",
       "O  0.000000  0.000000"
      ]
     },
     "execution_count": 6,
     "metadata": {},
     "output_type": "execute_result"
    }
   ],
   "source": [
    "pd.DataFrame(Q).T"
   ]
  },
  {
   "cell_type": "code",
   "execution_count": 7,
   "id": "cebaf066",
   "metadata": {},
   "outputs": [
    {
     "data": {
      "text/html": [
       "<div>\n",
       "<style scoped>\n",
       "    .dataframe tbody tr th:only-of-type {\n",
       "        vertical-align: middle;\n",
       "    }\n",
       "\n",
       "    .dataframe tbody tr th {\n",
       "        vertical-align: top;\n",
       "    }\n",
       "\n",
       "    .dataframe thead th {\n",
       "        text-align: right;\n",
       "    }\n",
       "</style>\n",
       "<table border=\"1\" class=\"dataframe\">\n",
       "  <thead>\n",
       "    <tr style=\"text-align: right;\">\n",
       "      <th></th>\n",
       "      <th>R</th>\n",
       "      <th>L</th>\n",
       "    </tr>\n",
       "  </thead>\n",
       "  <tbody>\n",
       "    <tr>\n",
       "      <th>M</th>\n",
       "      <td>0.465909</td>\n",
       "      <td>0.084549</td>\n",
       "    </tr>\n",
       "    <tr>\n",
       "      <th>E</th>\n",
       "      <td>-0.644710</td>\n",
       "      <td>-0.287041</td>\n",
       "    </tr>\n",
       "    <tr>\n",
       "      <th>T</th>\n",
       "      <td>-0.287920</td>\n",
       "      <td>-0.356364</td>\n",
       "    </tr>\n",
       "    <tr>\n",
       "      <th>O</th>\n",
       "      <td>0.000000</td>\n",
       "      <td>0.000000</td>\n",
       "    </tr>\n",
       "  </tbody>\n",
       "</table>\n",
       "</div>"
      ],
      "text/plain": [
       "          R         L\n",
       "M  0.465909  0.084549\n",
       "E -0.644710 -0.287041\n",
       "T -0.287920 -0.356364\n",
       "O  0.000000  0.000000"
      ]
     },
     "metadata": {},
     "output_type": "display_data"
    },
    {
     "name": "stdout",
     "output_type": "stream",
     "text": [
      "quit\n"
     ]
    }
   ],
   "source": [
    "show_q_learning(history)"
   ]
  },
  {
   "cell_type": "code",
   "execution_count": 8,
   "id": "9c75ac44",
   "metadata": {},
   "outputs": [
    {
     "data": {
      "image/png": "[encoded data removed]",
      "text/plain": [
       "<Figure size 720x288 with 1 Axes>"
      ]
     },
     "metadata": {
      "needs_background": "light"
     },
     "output_type": "display_data"
    }
   ],
   "source": [
    "import matplotlib.pyplot as plt\n",
    "fig, ax = plt.subplots(figsize=(10, 4))\n",
    "ax.plot(np.cumsum(rewards))\n",
    "plt.tight_layout()\n",
    "plt.show()"
   ]
  },
  {
   "cell_type": "code",
   "execution_count": null,
   "id": "aacdc4c1",
   "metadata": {},
   "outputs": [],
   "source": []
  }
 ],
 "metadata": {
  "kernelspec": {
   "display_name": "crike",
   "language": "python",
   "name": "crike"
  },
  "language_info": {
   "codemirror_mode": {
    "name": "ipython",
    "version": 3
   },
   "file_extension": ".py",
   "mimetype": "text/x-python",
   "name": "python",
   "nbconvert_exporter": "python",
   "pygments_lexer": "ipython3",
   "version": "3.8.8"
  },
  "toc": {
   "base_numbering": 1,
   "nav_menu": {},
   "number_sections": true,
   "sideBar": true,
   "skip_h1_title": false,
   "title_cell": "Table of Contents",
   "title_sidebar": "Contents",
   "toc_cell": false,
   "toc_position": {},
   "toc_section_display": true,
   "toc_window_display": false
  }
 },
 "nbformat": 4,
 "nbformat_minor": 5
}
