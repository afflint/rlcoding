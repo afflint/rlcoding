{
 "cells": [
  {
   "cell_type": "code",
   "execution_count": 1,
   "id": "963842f0",
   "metadata": {},
   "outputs": [],
   "source": [
    "import pandas as pd\n",
    "import numpy as np\n",
    "from tqdm.notebook import tqdm\n",
    "import sys\n",
    "sys.path.append('../../rlcoding/')"
   ]
  },
  {
   "cell_type": "code",
   "execution_count": 2,
   "id": "b41f30ad",
   "metadata": {},
   "outputs": [
    {
     "data": {
      "text/html": [
       "<style>\n",
       "  table {margin-left: 0 !important;}\n",
       "</style>\n"
      ],
      "text/plain": [
       "<IPython.core.display.HTML object>"
      ]
     },
     "metadata": {},
     "output_type": "display_data"
    }
   ],
   "source": [
    "%%html\n",
    "<style>\n",
    "  table {margin-left: 0 !important;}\n",
    "</style>"
   ]
  },
  {
   "cell_type": "markdown",
   "id": "e3c3d9e5",
   "metadata": {},
   "source": [
    "# Ricycling robot\n",
    "The story of a robot that collects empty cans in a office...\n",
    "- **States**: `H` (high energy), `L` (low energy)\n",
    "- **Actions**:\n",
    "    - Actions(`H`) = `search`, `wait` \n",
    "    - Actions(`L`) = `search`, `wait`, `recharge` \n",
    "    \n",
    "**Transitions and rewards**\n",
    "\n",
    "| s  |    a     | s' | P(s' \\| s, a) | r(s, a, s') |\n",
    "| :--: | :--------: | :--: | :---------------: | :-----------: |\n",
    "| `H`  |  `search`  | `H`  |     $\\alpha$      | $r_{search}$  |\n",
    "| `H`  |  `search`  | `L`  |    $1-\\alpha$     | $r_{search}$  |\n",
    "| `L`  |  `search`  | `H`  |     $1-\\beta$     |      -3       |\n",
    "| `L`  |  `search`  | `L`  |      $\\beta$      | $r_{search}$  |\n",
    "| `H`  |   `wait`   | `H`  |         1         |  $r_{wait}$   |\n",
    "| `H`  |   `wait`   | `L`  |         0         |  $r_{wait}$   |\n",
    "| `L`  |   `wait`   | `H`  |         0         |  $r_{wait}$   |\n",
    "| `L`  |   `wait`   | `L`  |         1         |  $r_{wait}$   |\n",
    "| `L`  | `recharge` | `H`  |         1         |       0       |\n",
    "| `L`  | `recharge` | `L`  |         0         |       0       |\n",
    "\n",
    "\n",
    "> Sutton, R. S., & Barto, A. G. (2018). Reinforcement learning: An introduction. MIT press. p. 52"
   ]
  },
  {
   "cell_type": "markdown",
   "id": "3e5078b0",
   "metadata": {},
   "source": [
    "## Init Recycling Robot with some parameters"
   ]
  },
  {
   "cell_type": "code",
   "execution_count": 3,
   "id": "5f2fb106",
   "metadata": {},
   "outputs": [],
   "source": [
    "from mdp.utils import transitions_table, mdp_to_graph, plot_mdp\n",
    "from mdp.recycling_robot import RecyclingMDP"
   ]
  },
  {
   "cell_type": "code",
   "execution_count": 4,
   "id": "0534f9d3",
   "metadata": {},
   "outputs": [],
   "source": [
    "alpha, beta, r_search, r_wait = .8, .9, 1, -1\n",
    "mdp = RecyclingMDP(alpha=alpha, beta=beta, r_search=r_search, r_wait=r_wait, gamma=.99)"
   ]
  },
  {
   "cell_type": "code",
   "execution_count": 5,
   "id": "add21a4f",
   "metadata": {},
   "outputs": [],
   "source": [
    "T = transitions_table(mdp)"
   ]
  },
  {
   "cell_type": "code",
   "execution_count": 6,
   "id": "a593b21a",
   "metadata": {},
   "outputs": [
    {
     "data": {
      "text/html": [
       "<div>\n",
       "<style scoped>\n",
       "    .dataframe tbody tr th:only-of-type {\n",
       "        vertical-align: middle;\n",
       "    }\n",
       "\n",
       "    .dataframe tbody tr th {\n",
       "        vertical-align: top;\n",
       "    }\n",
       "\n",
       "    .dataframe thead th {\n",
       "        text-align: right;\n",
       "    }\n",
       "</style>\n",
       "<table border=\"1\" class=\"dataframe\">\n",
       "  <thead>\n",
       "    <tr style=\"text-align: right;\">\n",
       "      <th></th>\n",
       "      <th>from_state</th>\n",
       "      <th>action</th>\n",
       "      <th>to_state</th>\n",
       "      <th>reward</th>\n",
       "      <th>probability</th>\n",
       "    </tr>\n",
       "  </thead>\n",
       "  <tbody>\n",
       "    <tr>\n",
       "      <th>0</th>\n",
       "      <td>L</td>\n",
       "      <td>wait</td>\n",
       "      <td>L</td>\n",
       "      <td>-1</td>\n",
       "      <td>1.0</td>\n",
       "    </tr>\n",
       "    <tr>\n",
       "      <th>1</th>\n",
       "      <td>L</td>\n",
       "      <td>recharge</td>\n",
       "      <td>H</td>\n",
       "      <td>0</td>\n",
       "      <td>1.0</td>\n",
       "    </tr>\n",
       "    <tr>\n",
       "      <th>2</th>\n",
       "      <td>L</td>\n",
       "      <td>search</td>\n",
       "      <td>L</td>\n",
       "      <td>1</td>\n",
       "      <td>0.9</td>\n",
       "    </tr>\n",
       "    <tr>\n",
       "      <th>3</th>\n",
       "      <td>L</td>\n",
       "      <td>search</td>\n",
       "      <td>H</td>\n",
       "      <td>-3</td>\n",
       "      <td>0.1</td>\n",
       "    </tr>\n",
       "    <tr>\n",
       "      <th>4</th>\n",
       "      <td>H</td>\n",
       "      <td>wait</td>\n",
       "      <td>H</td>\n",
       "      <td>-1</td>\n",
       "      <td>1.0</td>\n",
       "    </tr>\n",
       "    <tr>\n",
       "      <th>5</th>\n",
       "      <td>H</td>\n",
       "      <td>search</td>\n",
       "      <td>L</td>\n",
       "      <td>1</td>\n",
       "      <td>0.2</td>\n",
       "    </tr>\n",
       "    <tr>\n",
       "      <th>6</th>\n",
       "      <td>H</td>\n",
       "      <td>search</td>\n",
       "      <td>H</td>\n",
       "      <td>1</td>\n",
       "      <td>0.8</td>\n",
       "    </tr>\n",
       "  </tbody>\n",
       "</table>\n",
       "</div>"
      ],
      "text/plain": [
       "  from_state    action to_state  reward  probability\n",
       "0          L      wait        L      -1          1.0\n",
       "1          L  recharge        H       0          1.0\n",
       "2          L    search        L       1          0.9\n",
       "3          L    search        H      -3          0.1\n",
       "4          H      wait        H      -1          1.0\n",
       "5          H    search        L       1          0.2\n",
       "6          H    search        H       1          0.8"
      ]
     },
     "execution_count": 6,
     "metadata": {},
     "output_type": "execute_result"
    }
   ],
   "source": [
    "T"
   ]
  },
  {
   "cell_type": "code",
   "execution_count": 7,
   "id": "9fbacb06",
   "metadata": {},
   "outputs": [
    {
     "data": {
      "text/html": [
       "\n",
       "        <iframe\n",
       "            width=\"1200px\"\n",
       "            height=\"600px\"\n",
       "            src=\"recycling-robot.html\"\n",
       "            frameborder=\"0\"\n",
       "            allowfullscreen\n",
       "            \n",
       "        ></iframe>\n",
       "        "
      ],
      "text/plain": [
       "<IPython.lib.display.IFrame at 0x7f91d046c040>"
      ]
     },
     "execution_count": 7,
     "metadata": {},
     "output_type": "execute_result"
    }
   ],
   "source": [
    "net = plot_mdp(mdp_to_graph(mdp))\n",
    "net.show('recycling-robot.html')"
   ]
  },
  {
   "cell_type": "markdown",
   "id": "5d826319",
   "metadata": {},
   "source": [
    "## Value iteration"
   ]
  },
  {
   "cell_type": "code",
   "execution_count": 8,
   "id": "5ad37eed",
   "metadata": {},
   "outputs": [],
   "source": [
    "from IPython.display import display, clear_output\n",
    "from mdp.algorithms import value_iteration\n",
    "from mdp.utils import show_value_iterations"
   ]
  },
  {
   "cell_type": "code",
   "execution_count": 9,
   "id": "551d64b5",
   "metadata": {},
   "outputs": [],
   "source": [
    "optimal_value, optimal_policy, value_history, policy_history = value_iteration(mdp=mdp, epsilon=1e-10)"
   ]
  },
  {
   "cell_type": "code",
   "execution_count": 10,
   "id": "24c91d36",
   "metadata": {},
   "outputs": [
    {
     "data": {
      "text/plain": [
       "({'L': 82.63413809437034, 'H': 83.46886263527185},\n",
       " {'L': 'recharge', 'H': 'search'})"
      ]
     },
     "execution_count": 10,
     "metadata": {},
     "output_type": "execute_result"
    }
   ],
   "source": [
    "optimal_value, optimal_policy"
   ]
  },
  {
   "cell_type": "markdown",
   "id": "7aa01139",
   "metadata": {},
   "source": [
    "## Q-learning"
   ]
  },
  {
   "cell_type": "code",
   "execution_count": 11,
   "id": "84986d48",
   "metadata": {},
   "outputs": [],
   "source": [
    "from algorithms import Qlearning\n",
    "from utils import show_q_learning\n",
    "import pandas as pd"
   ]
  },
  {
   "cell_type": "code",
   "execution_count": 12,
   "id": "d693eba3",
   "metadata": {},
   "outputs": [],
   "source": [
    "Q, history, rewards = Qlearning(mdp)"
   ]
  },
  {
   "cell_type": "code",
   "execution_count": 13,
   "id": "e5622686",
   "metadata": {},
   "outputs": [
    {
     "data": {
      "text/html": [
       "<div>\n",
       "<style scoped>\n",
       "    .dataframe tbody tr th:only-of-type {\n",
       "        vertical-align: middle;\n",
       "    }\n",
       "\n",
       "    .dataframe tbody tr th {\n",
       "        vertical-align: top;\n",
       "    }\n",
       "\n",
       "    .dataframe thead th {\n",
       "        text-align: right;\n",
       "    }\n",
       "</style>\n",
       "<table border=\"1\" class=\"dataframe\">\n",
       "  <thead>\n",
       "    <tr style=\"text-align: right;\">\n",
       "      <th></th>\n",
       "      <th>wait</th>\n",
       "      <th>recharge</th>\n",
       "      <th>search</th>\n",
       "    </tr>\n",
       "  </thead>\n",
       "  <tbody>\n",
       "    <tr>\n",
       "      <th>L</th>\n",
       "      <td>4.729727</td>\n",
       "      <td>6.480512</td>\n",
       "      <td>6.25479</td>\n",
       "    </tr>\n",
       "    <tr>\n",
       "      <th>H</th>\n",
       "      <td>5.480555</td>\n",
       "      <td>NaN</td>\n",
       "      <td>7.23018</td>\n",
       "    </tr>\n",
       "  </tbody>\n",
       "</table>\n",
       "</div>"
      ],
      "text/plain": [
       "       wait  recharge   search\n",
       "L  4.729727  6.480512  6.25479\n",
       "H  5.480555       NaN  7.23018"
      ]
     },
     "execution_count": 13,
     "metadata": {},
     "output_type": "execute_result"
    }
   ],
   "source": [
    "pd.DataFrame(Q).T"
   ]
  },
  {
   "cell_type": "code",
   "execution_count": 17,
   "id": "9bf7b313",
   "metadata": {},
   "outputs": [
    {
     "data": {
      "image/png": "[encoded data removed]",
      "text/plain": [
       "<Figure size 720x288 with 1 Axes>"
      ]
     },
     "metadata": {
      "needs_background": "light"
     },
     "output_type": "display_data"
    }
   ],
   "source": [
    "import matplotlib.pyplot as plt\n",
    "fig, ax = plt.subplots(figsize=(10, 4))\n",
    "ax.plot(np.cumsum(rewards))\n",
    "plt.tight_layout()\n",
    "plt.show()"
   ]
  },
  {
   "cell_type": "code",
   "execution_count": null,
   "id": "a58d39e2",
   "metadata": {},
   "outputs": [],
   "source": []
  },
  {
   "cell_type": "code",
   "execution_count": null,
   "id": "26ecda5c",
   "metadata": {},
   "outputs": [],
   "source": []
  }
 ],
 "metadata": {
  "kernelspec": {
   "display_name": "crike",
   "language": "python",
   "name": "crike"
  },
  "language_info": {
   "codemirror_mode": {
    "name": "ipython",
    "version": 3
   },
   "file_extension": ".py",
   "mimetype": "text/x-python",
   "name": "python",
   "nbconvert_exporter": "python",
   "pygments_lexer": "ipython3",
   "version": "3.8.8"
  },
  "toc": {
   "base_numbering": 1,
   "nav_menu": {},
   "number_sections": true,
   "sideBar": true,
   "skip_h1_title": false,
   "title_cell": "Table of Contents",
   "title_sidebar": "Contents",
   "toc_cell": false,
   "toc_position": {},
   "toc_section_display": true,
   "toc_window_display": false
  }
 },
 "nbformat": 4,
 "nbformat_minor": 5
}
