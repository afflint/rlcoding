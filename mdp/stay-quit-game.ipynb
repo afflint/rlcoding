{
 "cells": [
  {
   "cell_type": "markdown",
   "id": "88100315",
   "metadata": {},
   "source": [
    "# Stay quit game\n",
    "There are two states: `{in, end}`\n",
    "From in you can stay or quit\n",
    "- if you quit, you end up in end with probability 1 and reward 10 (default)\n",
    "- if you stay:\n",
    "    - you end up in end with probability 1/3 and reward 4 (default)\n",
    "    - you end up in in with probability 2/3 and reward 4 (default)\n"
   ]
  },
  {
   "cell_type": "code",
   "execution_count": 15,
   "id": "690a07f7",
   "metadata": {},
   "outputs": [],
   "source": [
    "import pandas as pd\n",
    "import numpy as np\n",
    "from tqdm.notebook import tqdm"
   ]
  },
  {
   "cell_type": "code",
   "execution_count": 16,
   "id": "1d0690ad",
   "metadata": {},
   "outputs": [],
   "source": [
    "from models import StayQuitMDP, Policy\n",
    "from utils import transitions_table"
   ]
  },
  {
   "cell_type": "code",
   "execution_count": 29,
   "id": "5e90b318",
   "metadata": {},
   "outputs": [],
   "source": [
    "mdp = StayQuitMDP(gamma=.99)"
   ]
  },
  {
   "cell_type": "code",
   "execution_count": 30,
   "id": "2dd7cd2f",
   "metadata": {},
   "outputs": [],
   "source": [
    "T = transitions_table(mdp)"
   ]
  },
  {
   "cell_type": "code",
   "execution_count": 31,
   "id": "1ebe3f07",
   "metadata": {},
   "outputs": [
    {
     "data": {
      "text/html": [
       "<div>\n",
       "<style scoped>\n",
       "    .dataframe tbody tr th:only-of-type {\n",
       "        vertical-align: middle;\n",
       "    }\n",
       "\n",
       "    .dataframe tbody tr th {\n",
       "        vertical-align: top;\n",
       "    }\n",
       "\n",
       "    .dataframe thead th {\n",
       "        text-align: right;\n",
       "    }\n",
       "</style>\n",
       "<table border=\"1\" class=\"dataframe\">\n",
       "  <thead>\n",
       "    <tr style=\"text-align: right;\">\n",
       "      <th></th>\n",
       "      <th>from_state</th>\n",
       "      <th>action</th>\n",
       "      <th>to_state</th>\n",
       "      <th>reward</th>\n",
       "      <th>probability</th>\n",
       "    </tr>\n",
       "  </thead>\n",
       "  <tbody>\n",
       "    <tr>\n",
       "      <th>0</th>\n",
       "      <td>IN</td>\n",
       "      <td>stay</td>\n",
       "      <td>IN</td>\n",
       "      <td>4.0</td>\n",
       "      <td>0.666667</td>\n",
       "    </tr>\n",
       "    <tr>\n",
       "      <th>1</th>\n",
       "      <td>IN</td>\n",
       "      <td>stay</td>\n",
       "      <td>END</td>\n",
       "      <td>4.0</td>\n",
       "      <td>0.333333</td>\n",
       "    </tr>\n",
       "    <tr>\n",
       "      <th>2</th>\n",
       "      <td>IN</td>\n",
       "      <td>quit</td>\n",
       "      <td>IN</td>\n",
       "      <td>NaN</td>\n",
       "      <td>0.000000</td>\n",
       "    </tr>\n",
       "    <tr>\n",
       "      <th>3</th>\n",
       "      <td>IN</td>\n",
       "      <td>quit</td>\n",
       "      <td>END</td>\n",
       "      <td>10.0</td>\n",
       "      <td>1.000000</td>\n",
       "    </tr>\n",
       "  </tbody>\n",
       "</table>\n",
       "</div>"
      ],
      "text/plain": [
       "  from_state action to_state  reward  probability\n",
       "0         IN   stay       IN     4.0     0.666667\n",
       "1         IN   stay      END     4.0     0.333333\n",
       "2         IN   quit       IN     NaN     0.000000\n",
       "3         IN   quit      END    10.0     1.000000"
      ]
     },
     "execution_count": 31,
     "metadata": {},
     "output_type": "execute_result"
    }
   ],
   "source": [
    "T"
   ]
  },
  {
   "cell_type": "markdown",
   "id": "788593ae",
   "metadata": {},
   "source": [
    "## Policy"
   ]
  },
  {
   "cell_type": "code",
   "execution_count": 32,
   "id": "d843c84c",
   "metadata": {},
   "outputs": [],
   "source": [
    "stay_policy = Policy({'IN': 'stay'}, mdp=mdp)"
   ]
  },
  {
   "cell_type": "code",
   "execution_count": 33,
   "id": "aea44d2f",
   "metadata": {},
   "outputs": [],
   "source": [
    "episodes = [stay_policy.episode() for i in range(10)]"
   ]
  },
  {
   "cell_type": "code",
   "execution_count": 34,
   "id": "736729d2",
   "metadata": {},
   "outputs": [
    {
     "name": "stdout",
     "output_type": "stream",
     "text": [
      "IN s => END  U(4.0)\n",
      "IN s => IN s => END  U(7.96)\n",
      "IN s => IN s => IN s => IN s => END  U(15.761596)\n",
      "IN s => END  U(4.0)\n",
      "IN s => END  U(4.0)\n",
      "IN s => IN s => END  U(7.96)\n",
      "IN s => IN s => END  U(7.96)\n",
      "IN s => END  U(4.0)\n",
      "IN s => IN s => END  U(7.96)\n",
      "IN s => END  U(4.0)\n"
     ]
    }
   ],
   "source": [
    "for episode in episodes:\n",
    "    print(episode[0][0], \" \".join(\n",
    "        [\"{} => {}\".format(a[0], s_p) for s, a, s_p, r in episode]), \n",
    "          \" U({})\".format(stay_policy.utility(episode)))"
   ]
  },
  {
   "cell_type": "markdown",
   "id": "bc5bda25",
   "metadata": {},
   "source": [
    "## Policy evaluation"
   ]
  },
  {
   "cell_type": "code",
   "execution_count": 35,
   "id": "1386981f",
   "metadata": {},
   "outputs": [],
   "source": [
    "from algorithms import policy_evaluation"
   ]
  },
  {
   "cell_type": "code",
   "execution_count": 36,
   "id": "71295565",
   "metadata": {},
   "outputs": [],
   "source": [
    "evaluation = policy_evaluation(policy=stay_policy, mdp=mdp, epsilon=1e-10)"
   ]
  },
  {
   "cell_type": "code",
   "execution_count": 37,
   "id": "af208ec9",
   "metadata": {},
   "outputs": [
    {
     "data": {
      "text/plain": [
       "{'IN': 11.76470588208768, 'END': 0.0}"
      ]
     },
     "execution_count": 37,
     "metadata": {},
     "output_type": "execute_result"
    }
   ],
   "source": [
    "evaluation"
   ]
  },
  {
   "cell_type": "markdown",
   "id": "fab23d1c",
   "metadata": {},
   "source": [
    "## Value iteration"
   ]
  },
  {
   "cell_type": "code",
   "execution_count": 38,
   "id": "c9f2038c",
   "metadata": {},
   "outputs": [],
   "source": [
    "from algorithms import value_iteration"
   ]
  },
  {
   "cell_type": "code",
   "execution_count": 39,
   "id": "c2857236",
   "metadata": {},
   "outputs": [],
   "source": [
    "optimal_value = value_iteration(mdp=mdp, epsilon=1e-10)"
   ]
  },
  {
   "cell_type": "code",
   "execution_count": 40,
   "id": "72bdcdf9",
   "metadata": {},
   "outputs": [
    {
     "data": {
      "text/plain": [
       "{'IN': (11.76470588208768, 'stay'), 'END': (0.0, None)}"
      ]
     },
     "execution_count": 40,
     "metadata": {},
     "output_type": "execute_result"
    }
   ],
   "source": [
    "optimal_value"
   ]
  },
  {
   "cell_type": "code",
   "execution_count": null,
   "id": "13ed05da",
   "metadata": {},
   "outputs": [],
   "source": []
  },
  {
   "cell_type": "code",
   "execution_count": null,
   "id": "8d85b289",
   "metadata": {},
   "outputs": [],
   "source": []
  }
 ],
 "metadata": {
  "kernelspec": {
   "display_name": "Python 3 (ipykernel)",
   "language": "python",
   "name": "python3"
  },
  "language_info": {
   "codemirror_mode": {
    "name": "ipython",
    "version": 3
   },
   "file_extension": ".py",
   "mimetype": "text/x-python",
   "name": "python",
   "nbconvert_exporter": "python",
   "pygments_lexer": "ipython3",
   "version": "3.8.8"
  },
  "toc": {
   "base_numbering": 1,
   "nav_menu": {},
   "number_sections": true,
   "sideBar": true,
   "skip_h1_title": false,
   "title_cell": "Table of Contents",
   "title_sidebar": "Contents",
   "toc_cell": false,
   "toc_position": {},
   "toc_section_display": true,
   "toc_window_display": false
  }
 },
 "nbformat": 4,
 "nbformat_minor": 5
}
