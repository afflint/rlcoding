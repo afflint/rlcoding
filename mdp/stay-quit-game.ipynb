{
 "cells": [
  {
   "cell_type": "markdown",
   "id": "88100315",
   "metadata": {},
   "source": [
    "# Stay quit game\n",
    "There are two states: `{in, end}`\n",
    "From in you can stay or quit\n",
    "- if you quit, you end up in end with probability 1 and reward 10 (default)\n",
    "- if you stay:\n",
    "    - you end up in end with probability 1/3 and reward 4 (default)\n",
    "    - you end up in in with probability 2/3 and reward 4 (default)\n"
   ]
  },
  {
   "cell_type": "code",
   "execution_count": 1,
   "id": "690a07f7",
   "metadata": {},
   "outputs": [],
   "source": [
    "import pandas as pd\n",
    "import numpy as np\n",
    "from tqdm.notebook import tqdm"
   ]
  },
  {
   "cell_type": "code",
   "execution_count": 2,
   "id": "1d0690ad",
   "metadata": {},
   "outputs": [],
   "source": [
    "from models import StayQuitMDP, Policy, StationaryPolicy\n",
    "from utils import transitions_table, mdp_to_graph, plot_mdp"
   ]
  },
  {
   "cell_type": "code",
   "execution_count": 3,
   "id": "5e90b318",
   "metadata": {},
   "outputs": [],
   "source": [
    "mdp = StayQuitMDP(gamma=.99)"
   ]
  },
  {
   "cell_type": "code",
   "execution_count": 4,
   "id": "2dd7cd2f",
   "metadata": {},
   "outputs": [],
   "source": [
    "T = transitions_table(mdp)"
   ]
  },
  {
   "cell_type": "code",
   "execution_count": 5,
   "id": "1ebe3f07",
   "metadata": {},
   "outputs": [
    {
     "data": {
      "text/html": [
       "<div>\n",
       "<style scoped>\n",
       "    .dataframe tbody tr th:only-of-type {\n",
       "        vertical-align: middle;\n",
       "    }\n",
       "\n",
       "    .dataframe tbody tr th {\n",
       "        vertical-align: top;\n",
       "    }\n",
       "\n",
       "    .dataframe thead th {\n",
       "        text-align: right;\n",
       "    }\n",
       "</style>\n",
       "<table border=\"1\" class=\"dataframe\">\n",
       "  <thead>\n",
       "    <tr style=\"text-align: right;\">\n",
       "      <th></th>\n",
       "      <th>from_state</th>\n",
       "      <th>action</th>\n",
       "      <th>to_state</th>\n",
       "      <th>reward</th>\n",
       "      <th>probability</th>\n",
       "    </tr>\n",
       "  </thead>\n",
       "  <tbody>\n",
       "    <tr>\n",
       "      <th>0</th>\n",
       "      <td>IN</td>\n",
       "      <td>stay</td>\n",
       "      <td>END</td>\n",
       "      <td>4.0</td>\n",
       "      <td>0.333333</td>\n",
       "    </tr>\n",
       "    <tr>\n",
       "      <th>1</th>\n",
       "      <td>IN</td>\n",
       "      <td>stay</td>\n",
       "      <td>IN</td>\n",
       "      <td>4.0</td>\n",
       "      <td>0.666667</td>\n",
       "    </tr>\n",
       "    <tr>\n",
       "      <th>2</th>\n",
       "      <td>IN</td>\n",
       "      <td>quit</td>\n",
       "      <td>END</td>\n",
       "      <td>10.0</td>\n",
       "      <td>1.000000</td>\n",
       "    </tr>\n",
       "    <tr>\n",
       "      <th>3</th>\n",
       "      <td>IN</td>\n",
       "      <td>quit</td>\n",
       "      <td>IN</td>\n",
       "      <td>0.0</td>\n",
       "      <td>0.000000</td>\n",
       "    </tr>\n",
       "  </tbody>\n",
       "</table>\n",
       "</div>"
      ],
      "text/plain": [
       "  from_state action to_state  reward  probability\n",
       "0         IN   stay      END     4.0     0.333333\n",
       "1         IN   stay       IN     4.0     0.666667\n",
       "2         IN   quit      END    10.0     1.000000\n",
       "3         IN   quit       IN     0.0     0.000000"
      ]
     },
     "execution_count": 5,
     "metadata": {},
     "output_type": "execute_result"
    }
   ],
   "source": [
    "T"
   ]
  },
  {
   "cell_type": "markdown",
   "id": "10a7da6b",
   "metadata": {},
   "source": [
    "## Show"
   ]
  },
  {
   "cell_type": "code",
   "execution_count": 6,
   "id": "1d8bafc0",
   "metadata": {},
   "outputs": [],
   "source": [
    "from pyvis.network import Network\n",
    "import pyvis"
   ]
  },
  {
   "cell_type": "code",
   "execution_count": 7,
   "id": "e17d0e4a",
   "metadata": {},
   "outputs": [
    {
     "name": "stdout",
     "output_type": "stream",
     "text": [
      "1 2 {'type': 'state_action', 'action': 'stay', 'label': 'stay'}\n",
      "1 3 {'type': 'state_action', 'action': 'quit', 'label': 'quit'}\n",
      "2 0 {'type': 'transition', 'p': 0.3333333333333333, 'r': 4.0, 'label': '0.33,4.0'}\n",
      "2 1 {'type': 'transition', 'p': 0.6666666666666666, 'r': 4.0, 'label': '0.67,4.0'}\n",
      "3 0 {'type': 'transition', 'p': 1.0, 'r': 10, 'label': '1.0,10'}\n"
     ]
    }
   ],
   "source": [
    "mg = mdp_to_graph(mdp)\n",
    "for n1, n2, a in mg.edges(data=True):\n",
    "    print(n1, n2, a)"
   ]
  },
  {
   "cell_type": "code",
   "execution_count": 8,
   "id": "ad5bd18e",
   "metadata": {},
   "outputs": [
    {
     "data": {
      "text/html": [
       "\n",
       "        <iframe\n",
       "            width=\"1200px\"\n",
       "            height=\"600px\"\n",
       "            src=\"stay-quit-game.html\"\n",
       "            frameborder=\"0\"\n",
       "            allowfullscreen\n",
       "            \n",
       "        ></iframe>\n",
       "        "
      ],
      "text/plain": [
       "<IPython.lib.display.IFrame at 0x7f8a30045430>"
      ]
     },
     "execution_count": 8,
     "metadata": {},
     "output_type": "execute_result"
    }
   ],
   "source": [
    "net = plot_mdp(mg)\n",
    "net.show('stay-quit-game.html')"
   ]
  },
  {
   "cell_type": "markdown",
   "id": "788593ae",
   "metadata": {},
   "source": [
    "## Policy"
   ]
  },
  {
   "cell_type": "code",
   "execution_count": 9,
   "id": "d843c84c",
   "metadata": {},
   "outputs": [],
   "source": [
    "stay_policy = StationaryPolicy({'IN': 'stay'}, mdp=mdp)"
   ]
  },
  {
   "cell_type": "code",
   "execution_count": 10,
   "id": "aea44d2f",
   "metadata": {},
   "outputs": [],
   "source": [
    "episodes = [stay_policy.episode() for i in range(10)]"
   ]
  },
  {
   "cell_type": "code",
   "execution_count": 11,
   "id": "736729d2",
   "metadata": {},
   "outputs": [
    {
     "name": "stdout",
     "output_type": "stream",
     "text": [
      "IN s => IN s => IN s => END  U(11.8804)\n",
      "IN s => END  U(4.0)\n",
      "IN s => IN s => IN s => END  U(11.8804)\n",
      "IN s => END  U(4.0)\n",
      "IN s => IN s => IN s => IN s => IN s => END  U(19.60398004)\n",
      "IN s => IN s => IN s => IN s => END  U(15.761596)\n",
      "IN s => END  U(4.0)\n",
      "IN s => IN s => IN s => END  U(11.8804)\n",
      "IN s => END  U(4.0)\n",
      "IN s => IN s => END  U(7.96)\n"
     ]
    }
   ],
   "source": [
    "for episode in episodes:\n",
    "    print(episode[0][0], \" \".join(\n",
    "        [\"{} => {}\".format(a[0], s_p) for s, a, s_p, r in episode]), \n",
    "          \" U({})\".format(stay_policy.utility(episode)))"
   ]
  },
  {
   "cell_type": "markdown",
   "id": "bc5bda25",
   "metadata": {},
   "source": [
    "## Policy evaluation"
   ]
  },
  {
   "cell_type": "code",
   "execution_count": 12,
   "id": "1386981f",
   "metadata": {},
   "outputs": [],
   "source": [
    "from algorithms import policy_evaluation"
   ]
  },
  {
   "cell_type": "code",
   "execution_count": 13,
   "id": "71295565",
   "metadata": {},
   "outputs": [],
   "source": [
    "evaluation = policy_evaluation(policy=stay_policy, mdp=mdp, epsilon=1e-10)"
   ]
  },
  {
   "cell_type": "code",
   "execution_count": 14,
   "id": "af208ec9",
   "metadata": {},
   "outputs": [
    {
     "data": {
      "text/plain": [
       "{'END': 0.0, 'IN': 11.76470588208768}"
      ]
     },
     "execution_count": 14,
     "metadata": {},
     "output_type": "execute_result"
    }
   ],
   "source": [
    "evaluation"
   ]
  },
  {
   "cell_type": "markdown",
   "id": "fab23d1c",
   "metadata": {},
   "source": [
    "## Value iteration"
   ]
  },
  {
   "cell_type": "code",
   "execution_count": 15,
   "id": "b542a9db",
   "metadata": {},
   "outputs": [],
   "source": [
    "from IPython.display import display, clear_output"
   ]
  },
  {
   "cell_type": "code",
   "execution_count": 16,
   "id": "c9f2038c",
   "metadata": {},
   "outputs": [],
   "source": [
    "from algorithms import value_iteration\n",
    "from utils import show_value_iterations"
   ]
  },
  {
   "cell_type": "code",
   "execution_count": 17,
   "id": "c2857236",
   "metadata": {},
   "outputs": [],
   "source": [
    "optimal_value, optimal_policy, value_history, policy_history = value_iteration(mdp=mdp, epsilon=1e-10)"
   ]
  },
  {
   "cell_type": "code",
   "execution_count": 18,
   "id": "72bdcdf9",
   "metadata": {},
   "outputs": [
    {
     "data": {
      "text/plain": [
       "({'END': 0.0, 'IN': 11.764705882143245}, {'END': None, 'IN': 'stay'})"
      ]
     },
     "execution_count": 18,
     "metadata": {},
     "output_type": "execute_result"
    }
   ],
   "source": [
    "optimal_value, optimal_policy"
   ]
  },
  {
   "cell_type": "code",
   "execution_count": 19,
   "id": "cbba1a67",
   "metadata": {},
   "outputs": [
    {
     "data": {
      "text/html": [
       "<div>\n",
       "<style scoped>\n",
       "    .dataframe tbody tr th:only-of-type {\n",
       "        vertical-align: middle;\n",
       "    }\n",
       "\n",
       "    .dataframe tbody tr th {\n",
       "        vertical-align: top;\n",
       "    }\n",
       "\n",
       "    .dataframe thead th {\n",
       "        text-align: right;\n",
       "    }\n",
       "</style>\n",
       "<table border=\"1\" class=\"dataframe\">\n",
       "  <thead>\n",
       "    <tr style=\"text-align: right;\">\n",
       "      <th></th>\n",
       "      <th>S</th>\n",
       "      <th>V</th>\n",
       "      <th>A</th>\n",
       "    </tr>\n",
       "  </thead>\n",
       "  <tbody>\n",
       "    <tr>\n",
       "      <th>0</th>\n",
       "      <td>END</td>\n",
       "      <td>0.000000</td>\n",
       "      <td>None</td>\n",
       "    </tr>\n",
       "    <tr>\n",
       "      <th>1</th>\n",
       "      <td>IN</td>\n",
       "      <td>11.764706</td>\n",
       "      <td>stay</td>\n",
       "    </tr>\n",
       "  </tbody>\n",
       "</table>\n",
       "</div>"
      ],
      "text/plain": [
       "     S          V     A\n",
       "0  END   0.000000  None\n",
       "1   IN  11.764706  stay"
      ]
     },
     "metadata": {},
     "output_type": "display_data"
    },
    {
     "name": "stdout",
     "output_type": "stream",
     "text": [
      "quit\n"
     ]
    }
   ],
   "source": [
    "show_value_iterations(value_history, policy_history)"
   ]
  },
  {
   "cell_type": "code",
   "execution_count": null,
   "id": "378f3dd0",
   "metadata": {},
   "outputs": [],
   "source": []
  }
 ],
 "metadata": {
  "kernelspec": {
   "display_name": "Python 3 (ipykernel)",
   "language": "python",
   "name": "python3"
  },
  "language_info": {
   "codemirror_mode": {
    "name": "ipython",
    "version": 3
   },
   "file_extension": ".py",
   "mimetype": "text/x-python",
   "name": "python",
   "nbconvert_exporter": "python",
   "pygments_lexer": "ipython3",
   "version": "3.8.8"
  },
  "toc": {
   "base_numbering": 1,
   "nav_menu": {},
   "number_sections": true,
   "sideBar": true,
   "skip_h1_title": false,
   "title_cell": "Table of Contents",
   "title_sidebar": "Contents",
   "toc_cell": false,
   "toc_position": {},
   "toc_section_display": true,
   "toc_window_display": false
  }
 },
 "nbformat": 4,
 "nbformat_minor": 5
}
