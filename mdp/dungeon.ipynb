{
 "cells": [
  {
   "cell_type": "markdown",
   "id": "92b0dcbd",
   "metadata": {},
   "source": [
    "# Dungeon example\n",
    "\n",
    "## Problem description\n",
    "Represents a dungeon where from each room you can always go LEFT or RIGHT.\n",
    "\n",
    "There are 4 states:\n",
    "- EMPTY ROOM (reward 0)\n",
    "- MONSTER ROOM (reward -50)\n",
    "- TREASURE ROOM (reward 10)\n",
    "- EXIT (out of game)\n",
    "\n",
    "LEFT brings to EMPTY, MONSTER, TREASURE, OUT with p = alpha (array over actions)\n",
    "\n",
    "RIGHT brings to EMPTY, MONSTER, TREASURE, OUT with p = beta (array over actions)\n"
   ]
  },
  {
   "cell_type": "code",
   "execution_count": 1,
   "id": "f2be73ec",
   "metadata": {},
   "outputs": [],
   "source": [
    "from dungeon import DungeonMDP"
   ]
  },
  {
   "cell_type": "code",
   "execution_count": 2,
   "id": "a799ca48",
   "metadata": {},
   "outputs": [],
   "source": [
    "mdp = DungeonMDP()"
   ]
  },
  {
   "cell_type": "markdown",
   "id": "97aad5a3",
   "metadata": {},
   "source": [
    "## Model"
   ]
  },
  {
   "cell_type": "code",
   "execution_count": 3,
   "id": "cc66b595",
   "metadata": {},
   "outputs": [],
   "source": [
    "from utils import transitions_table, mdp_to_graph, plot_mdp"
   ]
  },
  {
   "cell_type": "code",
   "execution_count": 4,
   "id": "13b7924b",
   "metadata": {},
   "outputs": [],
   "source": [
    "T = transitions_table(mdp)"
   ]
  },
  {
   "cell_type": "code",
   "execution_count": 5,
   "id": "3e135530",
   "metadata": {},
   "outputs": [
    {
     "data": {
      "text/html": [
       "<div>\n",
       "<style scoped>\n",
       "    .dataframe tbody tr th:only-of-type {\n",
       "        vertical-align: middle;\n",
       "    }\n",
       "\n",
       "    .dataframe tbody tr th {\n",
       "        vertical-align: top;\n",
       "    }\n",
       "\n",
       "    .dataframe thead th {\n",
       "        text-align: right;\n",
       "    }\n",
       "</style>\n",
       "<table border=\"1\" class=\"dataframe\">\n",
       "  <thead>\n",
       "    <tr style=\"text-align: right;\">\n",
       "      <th></th>\n",
       "      <th>from_state</th>\n",
       "      <th>action</th>\n",
       "      <th>to_state</th>\n",
       "      <th>reward</th>\n",
       "      <th>probability</th>\n",
       "    </tr>\n",
       "  </thead>\n",
       "  <tbody>\n",
       "    <tr>\n",
       "      <th>0</th>\n",
       "      <td>E</td>\n",
       "      <td>L</td>\n",
       "      <td>E</td>\n",
       "      <td>0</td>\n",
       "      <td>0.5</td>\n",
       "    </tr>\n",
       "    <tr>\n",
       "      <th>1</th>\n",
       "      <td>E</td>\n",
       "      <td>L</td>\n",
       "      <td>T</td>\n",
       "      <td>10</td>\n",
       "      <td>0.3</td>\n",
       "    </tr>\n",
       "    <tr>\n",
       "      <th>2</th>\n",
       "      <td>E</td>\n",
       "      <td>L</td>\n",
       "      <td>M</td>\n",
       "      <td>-50</td>\n",
       "      <td>0.1</td>\n",
       "    </tr>\n",
       "    <tr>\n",
       "      <th>3</th>\n",
       "      <td>E</td>\n",
       "      <td>L</td>\n",
       "      <td>O</td>\n",
       "      <td>0</td>\n",
       "      <td>0.1</td>\n",
       "    </tr>\n",
       "    <tr>\n",
       "      <th>4</th>\n",
       "      <td>E</td>\n",
       "      <td>R</td>\n",
       "      <td>E</td>\n",
       "      <td>0</td>\n",
       "      <td>0.5</td>\n",
       "    </tr>\n",
       "    <tr>\n",
       "      <th>5</th>\n",
       "      <td>E</td>\n",
       "      <td>R</td>\n",
       "      <td>T</td>\n",
       "      <td>10</td>\n",
       "      <td>0.1</td>\n",
       "    </tr>\n",
       "    <tr>\n",
       "      <th>6</th>\n",
       "      <td>E</td>\n",
       "      <td>R</td>\n",
       "      <td>M</td>\n",
       "      <td>-50</td>\n",
       "      <td>0.3</td>\n",
       "    </tr>\n",
       "    <tr>\n",
       "      <th>7</th>\n",
       "      <td>E</td>\n",
       "      <td>R</td>\n",
       "      <td>O</td>\n",
       "      <td>0</td>\n",
       "      <td>0.1</td>\n",
       "    </tr>\n",
       "    <tr>\n",
       "      <th>8</th>\n",
       "      <td>T</td>\n",
       "      <td>L</td>\n",
       "      <td>E</td>\n",
       "      <td>0</td>\n",
       "      <td>0.5</td>\n",
       "    </tr>\n",
       "    <tr>\n",
       "      <th>9</th>\n",
       "      <td>T</td>\n",
       "      <td>L</td>\n",
       "      <td>T</td>\n",
       "      <td>10</td>\n",
       "      <td>0.3</td>\n",
       "    </tr>\n",
       "    <tr>\n",
       "      <th>10</th>\n",
       "      <td>T</td>\n",
       "      <td>L</td>\n",
       "      <td>M</td>\n",
       "      <td>-50</td>\n",
       "      <td>0.1</td>\n",
       "    </tr>\n",
       "    <tr>\n",
       "      <th>11</th>\n",
       "      <td>T</td>\n",
       "      <td>L</td>\n",
       "      <td>O</td>\n",
       "      <td>0</td>\n",
       "      <td>0.1</td>\n",
       "    </tr>\n",
       "    <tr>\n",
       "      <th>12</th>\n",
       "      <td>T</td>\n",
       "      <td>R</td>\n",
       "      <td>E</td>\n",
       "      <td>0</td>\n",
       "      <td>0.5</td>\n",
       "    </tr>\n",
       "    <tr>\n",
       "      <th>13</th>\n",
       "      <td>T</td>\n",
       "      <td>R</td>\n",
       "      <td>T</td>\n",
       "      <td>10</td>\n",
       "      <td>0.1</td>\n",
       "    </tr>\n",
       "    <tr>\n",
       "      <th>14</th>\n",
       "      <td>T</td>\n",
       "      <td>R</td>\n",
       "      <td>M</td>\n",
       "      <td>-50</td>\n",
       "      <td>0.3</td>\n",
       "    </tr>\n",
       "    <tr>\n",
       "      <th>15</th>\n",
       "      <td>T</td>\n",
       "      <td>R</td>\n",
       "      <td>O</td>\n",
       "      <td>0</td>\n",
       "      <td>0.1</td>\n",
       "    </tr>\n",
       "    <tr>\n",
       "      <th>16</th>\n",
       "      <td>M</td>\n",
       "      <td>L</td>\n",
       "      <td>E</td>\n",
       "      <td>0</td>\n",
       "      <td>0.5</td>\n",
       "    </tr>\n",
       "    <tr>\n",
       "      <th>17</th>\n",
       "      <td>M</td>\n",
       "      <td>L</td>\n",
       "      <td>T</td>\n",
       "      <td>10</td>\n",
       "      <td>0.3</td>\n",
       "    </tr>\n",
       "    <tr>\n",
       "      <th>18</th>\n",
       "      <td>M</td>\n",
       "      <td>L</td>\n",
       "      <td>M</td>\n",
       "      <td>-50</td>\n",
       "      <td>0.1</td>\n",
       "    </tr>\n",
       "    <tr>\n",
       "      <th>19</th>\n",
       "      <td>M</td>\n",
       "      <td>L</td>\n",
       "      <td>O</td>\n",
       "      <td>0</td>\n",
       "      <td>0.1</td>\n",
       "    </tr>\n",
       "    <tr>\n",
       "      <th>20</th>\n",
       "      <td>M</td>\n",
       "      <td>R</td>\n",
       "      <td>E</td>\n",
       "      <td>0</td>\n",
       "      <td>0.5</td>\n",
       "    </tr>\n",
       "    <tr>\n",
       "      <th>21</th>\n",
       "      <td>M</td>\n",
       "      <td>R</td>\n",
       "      <td>T</td>\n",
       "      <td>10</td>\n",
       "      <td>0.1</td>\n",
       "    </tr>\n",
       "    <tr>\n",
       "      <th>22</th>\n",
       "      <td>M</td>\n",
       "      <td>R</td>\n",
       "      <td>M</td>\n",
       "      <td>-50</td>\n",
       "      <td>0.3</td>\n",
       "    </tr>\n",
       "    <tr>\n",
       "      <th>23</th>\n",
       "      <td>M</td>\n",
       "      <td>R</td>\n",
       "      <td>O</td>\n",
       "      <td>0</td>\n",
       "      <td>0.1</td>\n",
       "    </tr>\n",
       "  </tbody>\n",
       "</table>\n",
       "</div>"
      ],
      "text/plain": [
       "   from_state action to_state  reward  probability\n",
       "0           E      L        E       0          0.5\n",
       "1           E      L        T      10          0.3\n",
       "2           E      L        M     -50          0.1\n",
       "3           E      L        O       0          0.1\n",
       "4           E      R        E       0          0.5\n",
       "5           E      R        T      10          0.1\n",
       "6           E      R        M     -50          0.3\n",
       "7           E      R        O       0          0.1\n",
       "8           T      L        E       0          0.5\n",
       "9           T      L        T      10          0.3\n",
       "10          T      L        M     -50          0.1\n",
       "11          T      L        O       0          0.1\n",
       "12          T      R        E       0          0.5\n",
       "13          T      R        T      10          0.1\n",
       "14          T      R        M     -50          0.3\n",
       "15          T      R        O       0          0.1\n",
       "16          M      L        E       0          0.5\n",
       "17          M      L        T      10          0.3\n",
       "18          M      L        M     -50          0.1\n",
       "19          M      L        O       0          0.1\n",
       "20          M      R        E       0          0.5\n",
       "21          M      R        T      10          0.1\n",
       "22          M      R        M     -50          0.3\n",
       "23          M      R        O       0          0.1"
      ]
     },
     "execution_count": 5,
     "metadata": {},
     "output_type": "execute_result"
    }
   ],
   "source": [
    "T"
   ]
  },
  {
   "cell_type": "code",
   "execution_count": 6,
   "id": "5604d689",
   "metadata": {},
   "outputs": [
    {
     "data": {
      "text/html": [
       "\n",
       "        <iframe\n",
       "            width=\"1200px\"\n",
       "            height=\"600px\"\n",
       "            src=\"dungeon.html\"\n",
       "            frameborder=\"0\"\n",
       "            allowfullscreen\n",
       "            \n",
       "        ></iframe>\n",
       "        "
      ],
      "text/plain": [
       "<IPython.lib.display.IFrame at 0x7f870810c520>"
      ]
     },
     "execution_count": 6,
     "metadata": {},
     "output_type": "execute_result"
    }
   ],
   "source": [
    "net = plot_mdp(mdp_to_graph(mdp))\n",
    "net.show('dungeon.html')"
   ]
  },
  {
   "cell_type": "markdown",
   "id": "b3dba571",
   "metadata": {},
   "source": [
    "## Value iteration"
   ]
  },
  {
   "cell_type": "code",
   "execution_count": 7,
   "id": "bcdaad81",
   "metadata": {},
   "outputs": [],
   "source": [
    "from IPython.display import display, clear_output\n",
    "from algorithms import value_iteration\n",
    "from utils import show_value_iterations"
   ]
  },
  {
   "cell_type": "code",
   "execution_count": 8,
   "id": "f9c85d5e",
   "metadata": {},
   "outputs": [],
   "source": [
    "optimal_value, optimal_policy, value_history, policy_history = value_iteration(mdp=mdp, epsilon=1e-10)"
   ]
  },
  {
   "cell_type": "code",
   "execution_count": 9,
   "id": "478a09d9",
   "metadata": {},
   "outputs": [
    {
     "data": {
      "text/plain": [
       "({'E': -7.1428571425822645,\n",
       "  'T': -7.1428571425822645,\n",
       "  'M': -7.1428571425822645,\n",
       "  'O': 0.0},\n",
       " {'E': 'L', 'T': 'L', 'M': 'L', 'O': None})"
      ]
     },
     "execution_count": 9,
     "metadata": {},
     "output_type": "execute_result"
    }
   ],
   "source": [
    "optimal_value, optimal_policy"
   ]
  },
  {
   "cell_type": "code",
   "execution_count": 10,
   "id": "8b0d4671",
   "metadata": {},
   "outputs": [
    {
     "data": {
      "text/html": [
       "<div>\n",
       "<style scoped>\n",
       "    .dataframe tbody tr th:only-of-type {\n",
       "        vertical-align: middle;\n",
       "    }\n",
       "\n",
       "    .dataframe tbody tr th {\n",
       "        vertical-align: top;\n",
       "    }\n",
       "\n",
       "    .dataframe thead th {\n",
       "        text-align: right;\n",
       "    }\n",
       "</style>\n",
       "<table border=\"1\" class=\"dataframe\">\n",
       "  <thead>\n",
       "    <tr style=\"text-align: right;\">\n",
       "      <th></th>\n",
       "      <th>S</th>\n",
       "      <th>V</th>\n",
       "      <th>A</th>\n",
       "    </tr>\n",
       "  </thead>\n",
       "  <tbody>\n",
       "    <tr>\n",
       "      <th>0</th>\n",
       "      <td>E</td>\n",
       "      <td>-7.142337</td>\n",
       "      <td>L</td>\n",
       "    </tr>\n",
       "    <tr>\n",
       "      <th>1</th>\n",
       "      <td>T</td>\n",
       "      <td>-7.142337</td>\n",
       "      <td>L</td>\n",
       "    </tr>\n",
       "    <tr>\n",
       "      <th>2</th>\n",
       "      <td>M</td>\n",
       "      <td>-7.142337</td>\n",
       "      <td>L</td>\n",
       "    </tr>\n",
       "    <tr>\n",
       "      <th>3</th>\n",
       "      <td>O</td>\n",
       "      <td>0.000000</td>\n",
       "      <td>None</td>\n",
       "    </tr>\n",
       "  </tbody>\n",
       "</table>\n",
       "</div>"
      ],
      "text/plain": [
       "   S         V     A\n",
       "0  E -7.142337     L\n",
       "1  T -7.142337     L\n",
       "2  M -7.142337     L\n",
       "3  O  0.000000  None"
      ]
     },
     "metadata": {},
     "output_type": "display_data"
    },
    {
     "name": "stdout",
     "output_type": "stream",
     "text": [
      "quit\n"
     ]
    }
   ],
   "source": [
    "show_value_iterations(value_history, policy_history)"
   ]
  },
  {
   "cell_type": "markdown",
   "id": "64e4e97c",
   "metadata": {},
   "source": [
    "## Policy iteration"
   ]
  },
  {
   "cell_type": "code",
   "execution_count": 11,
   "id": "9567e1e8",
   "metadata": {},
   "outputs": [],
   "source": [
    "from algorithms import policy_iteration\n",
    "from utils import show_policy_iterations"
   ]
  },
  {
   "cell_type": "code",
   "execution_count": 12,
   "id": "873d0188",
   "metadata": {},
   "outputs": [],
   "source": [
    "pi, pi_history = policy_iteration(mdp)"
   ]
  },
  {
   "cell_type": "code",
   "execution_count": 13,
   "id": "419fd446",
   "metadata": {},
   "outputs": [
    {
     "data": {
      "text/plain": [
       "{'E': 'L', 'T': 'L', 'M': 'L', 'O': 'R'}"
      ]
     },
     "execution_count": 13,
     "metadata": {},
     "output_type": "execute_result"
    }
   ],
   "source": [
    "pi.actions"
   ]
  },
  {
   "cell_type": "code",
   "execution_count": 14,
   "id": "418ff574",
   "metadata": {},
   "outputs": [
    {
     "data": {
      "text/html": [
       "<div>\n",
       "<style scoped>\n",
       "    .dataframe tbody tr th:only-of-type {\n",
       "        vertical-align: middle;\n",
       "    }\n",
       "\n",
       "    .dataframe tbody tr th {\n",
       "        vertical-align: top;\n",
       "    }\n",
       "\n",
       "    .dataframe thead th {\n",
       "        text-align: right;\n",
       "    }\n",
       "</style>\n",
       "<table border=\"1\" class=\"dataframe\">\n",
       "  <thead>\n",
       "    <tr style=\"text-align: right;\">\n",
       "      <th></th>\n",
       "      <th>S</th>\n",
       "      <th>V</th>\n",
       "      <th>A</th>\n",
       "    </tr>\n",
       "  </thead>\n",
       "  <tbody>\n",
       "    <tr>\n",
       "      <th>0</th>\n",
       "      <td>E</td>\n",
       "      <td>-7.142857</td>\n",
       "      <td>L</td>\n",
       "    </tr>\n",
       "    <tr>\n",
       "      <th>1</th>\n",
       "      <td>T</td>\n",
       "      <td>-7.142857</td>\n",
       "      <td>L</td>\n",
       "    </tr>\n",
       "    <tr>\n",
       "      <th>2</th>\n",
       "      <td>M</td>\n",
       "      <td>-7.142857</td>\n",
       "      <td>L</td>\n",
       "    </tr>\n",
       "    <tr>\n",
       "      <th>3</th>\n",
       "      <td>O</td>\n",
       "      <td>0.000000</td>\n",
       "      <td>R</td>\n",
       "    </tr>\n",
       "  </tbody>\n",
       "</table>\n",
       "</div>"
      ],
      "text/plain": [
       "   S         V  A\n",
       "0  E -7.142857  L\n",
       "1  T -7.142857  L\n",
       "2  M -7.142857  L\n",
       "3  O  0.000000  R"
      ]
     },
     "metadata": {},
     "output_type": "display_data"
    },
    {
     "name": "stdout",
     "output_type": "stream",
     "text": [
      "\n"
     ]
    }
   ],
   "source": [
    "show_policy_iterations(pi_history)"
   ]
  },
  {
   "cell_type": "code",
   "execution_count": null,
   "id": "576afa9f",
   "metadata": {},
   "outputs": [],
   "source": []
  },
  {
   "cell_type": "code",
   "execution_count": null,
   "id": "63667aa3",
   "metadata": {},
   "outputs": [],
   "source": []
  },
  {
   "cell_type": "code",
   "execution_count": null,
   "id": "e8464653",
   "metadata": {},
   "outputs": [],
   "source": []
  }
 ],
 "metadata": {
  "kernelspec": {
   "display_name": "crike",
   "language": "python",
   "name": "crike"
  },
  "language_info": {
   "codemirror_mode": {
    "name": "ipython",
    "version": 3
   },
   "file_extension": ".py",
   "mimetype": "text/x-python",
   "name": "python",
   "nbconvert_exporter": "python",
   "pygments_lexer": "ipython3",
   "version": "3.8.8"
  },
  "toc": {
   "base_numbering": 1,
   "nav_menu": {},
   "number_sections": true,
   "sideBar": true,
   "skip_h1_title": false,
   "title_cell": "Table of Contents",
   "title_sidebar": "Contents",
   "toc_cell": false,
   "toc_position": {},
   "toc_section_display": true,
   "toc_window_display": false
  }
 },
 "nbformat": 4,
 "nbformat_minor": 5
}
