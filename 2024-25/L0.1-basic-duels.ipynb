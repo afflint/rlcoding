{
 "cells": [
  {
   "cell_type": "markdown",
   "metadata": {},
   "source": [
    "###### Università degli Studi di Milano, Data Science and Economics Master Degree\n",
    "\n",
    "# Duels\n",
    "\n",
    "## A fantasy game for reinforcement learning\n",
    "\n",
    "### Alfio Ferrara, Luigi Foscari\n",
    "\n",
    "In **Duels** an autonomous agent fights a unlimited number of duels against other agents to score victory points. The game can be played in different versions depending on the reinforcement learning problem being addressed. For example, it can be played by a single agent learning against fictitious opponents in an MDP, it can be limited to a predefined number of duels (finite horizon), or it can involve autonomous agents competing against each other while learning their own game strategies (MARL).\n",
    "\n",
    "The set of common rules for the game are described in the following section, followed by specific rules for other settings.\n",
    "\n",
    "## Base Game\n",
    "\n",
    "A game of Duels is a sequence of fights that may end with a **victory**, a **retreat**, or the **death** of the hero (the Agent). In case of death, the game ends immediately. In case of a retreat, the hero loses victory points (VP) but can immediatly engage a new duel against a weaker opponent. In case of a win, the hero gains victory points (VP) and immediatly engages a new duel against a stronger opponent.\n",
    "\n",
    "#### The duel\n",
    "\n",
    "A single duel is composed by a sequence of rounds. In each round, each duelist **performs an action**. Each **action can either succeed or fail**. If it succeeds, it has **an effect on the opponent in terms of hit points** (HP). The **effect depends on the action chosen by the opponent**, as specified in the following table. **If it fails, there is no effect**. In a **base game version** the action is always a success and the outcome of the action in terms of the HP loss for the opponent depends on the action chosen by the two players as follows."
   ]
  },
  {
   "cell_type": "code",
   "execution_count": 4,
   "metadata": {},
   "outputs": [
    {
     "data": {
      "text/html": [
       "<div>\n",
       "<style scoped>\n",
       "    .dataframe tbody tr th:only-of-type {\n",
       "        vertical-align: middle;\n",
       "    }\n",
       "\n",
       "    .dataframe tbody tr th {\n",
       "        vertical-align: top;\n",
       "    }\n",
       "\n",
       "    .dataframe thead th {\n",
       "        text-align: right;\n",
       "    }\n",
       "</style>\n",
       "<table border=\"1\" class=\"dataframe\">\n",
       "  <thead>\n",
       "    <tr style=\"text-align: right;\">\n",
       "      <th></th>\n",
       "      <th>melee</th>\n",
       "      <th>ranged</th>\n",
       "      <th>spell</th>\n",
       "      <th>retreat</th>\n",
       "      <th>heal</th>\n",
       "    </tr>\n",
       "  </thead>\n",
       "  <tbody>\n",
       "    <tr>\n",
       "      <th>melee</th>\n",
       "      <td>-4</td>\n",
       "      <td>-6</td>\n",
       "      <td>-2</td>\n",
       "      <td>0</td>\n",
       "      <td>0</td>\n",
       "    </tr>\n",
       "    <tr>\n",
       "      <th>ranged</th>\n",
       "      <td>-2</td>\n",
       "      <td>-4</td>\n",
       "      <td>-4</td>\n",
       "      <td>0</td>\n",
       "      <td>0</td>\n",
       "    </tr>\n",
       "    <tr>\n",
       "      <th>spell</th>\n",
       "      <td>-6</td>\n",
       "      <td>-2</td>\n",
       "      <td>-4</td>\n",
       "      <td>0</td>\n",
       "      <td>0</td>\n",
       "    </tr>\n",
       "    <tr>\n",
       "      <th>retreat</th>\n",
       "      <td>-2</td>\n",
       "      <td>-6</td>\n",
       "      <td>-4</td>\n",
       "      <td>0</td>\n",
       "      <td>0</td>\n",
       "    </tr>\n",
       "    <tr>\n",
       "      <th>heal</th>\n",
       "      <td>-2</td>\n",
       "      <td>-2</td>\n",
       "      <td>-2</td>\n",
       "      <td>1</td>\n",
       "      <td>1</td>\n",
       "    </tr>\n",
       "  </tbody>\n",
       "</table>\n",
       "</div>"
      ],
      "text/plain": [
       "         melee  ranged  spell  retreat  heal\n",
       "melee       -4      -6     -2        0     0\n",
       "ranged      -2      -4     -4        0     0\n",
       "spell       -6      -2     -4        0     0\n",
       "retreat     -2      -6     -4        0     0\n",
       "heal        -2      -2     -2        1     1"
      ]
     },
     "execution_count": 4,
     "metadata": {},
     "output_type": "execute_result"
    }
   ],
   "source": [
    "import gymnasium as gym\n",
    "import gymbase.environments\n",
    "import pandas as pd\n",
    "import numpy as np\n",
    "\n",
    "env = gym.make(\"Duels-v0\", starting_hp=20, opponent_distr=None)\n",
    "observation, info = env.reset()\n",
    "\n",
    "moves = env.unwrapped.ACTION_TO_MOVES\n",
    "action_outcome = pd.DataFrame(env.unwrapped.EFFECTIVENESS_TABLE, index=moves, columns=moves)\n",
    "action_outcome"
   ]
  },
  {
   "cell_type": "markdown",
   "metadata": {},
   "source": [
    "#### Episodic interaction\n",
    "An episode of `Duels` ends when one of the opponents dies or retreats. In each step, the `BasicDuels` environment chooses actions according to a specific probability distribution over the actions."
   ]
  },
  {
   "cell_type": "code",
   "execution_count": 5,
   "metadata": {},
   "outputs": [
    {
     "data": {
      "text/plain": [
       "melee      0.233832\n",
       "ranged     0.229199\n",
       "spell      0.176864\n",
       "retreat    0.099440\n",
       "heal       0.260665\n",
       "dtype: float64"
      ]
     },
     "execution_count": 5,
     "metadata": {},
     "output_type": "execute_result"
    }
   ],
   "source": [
    "pd.Series(env.unwrapped._opponent_distr, index=moves)"
   ]
  },
  {
   "cell_type": "markdown",
   "metadata": {},
   "source": [
    "Let's fight!"
   ]
  },
  {
   "cell_type": "code",
   "execution_count": 6,
   "metadata": {},
   "outputs": [
    {
     "name": "stdout",
     "output_type": "stream",
     "text": [
      "Agent starts with 20 hit points\n",
      "Opponent starts with 20 hit points\n",
      "\n",
      "Agent uses spell and opponent uses spell\n",
      "Agent now has 16 HP and opponent has 16 HP\n",
      "\n",
      "Agent uses melee and opponent uses heal\n",
      "Agent now has 16 HP and opponent has 14 HP\n",
      "\n",
      "Agent uses ranged and opponent uses melee\n",
      "Agent now has 14 HP and opponent has 8 HP\n",
      "\n",
      "Agent uses melee and opponent uses melee\n",
      "Agent now has 10 HP and opponent has 4 HP\n",
      "\n",
      "Agent uses retreat and opponent uses melee\n",
      "Agent now has 8 HP and opponent has 4 HP\n",
      "\n",
      "They decided that today was not a good day to fight\n"
     ]
    }
   ],
   "source": [
    "opponent_preferences = np.array([100, 60, 10, 1, 20])\n",
    "opponent_dist = opponent_preferences / opponent_preferences.sum()\n",
    "\n",
    "env = gym.make(\"Duels-v0\", starting_hp=20, opponent_distr=opponent_dist)\n",
    "observation, info = env.reset()\n",
    "\n",
    "print(f\"Agent starts with {observation['agent']} hit points\")\n",
    "print(f\"Opponent starts with {observation['opponent']} hit points\\n\")\n",
    "\n",
    "end_episode = False\n",
    "while not end_episode:\n",
    "    action = env.action_space.sample()\n",
    "    observation, reward, terminated, truncated, info = env.step(action)\n",
    "\n",
    "    print(f\"Agent uses {info['agent']} and opponent uses {info['opponent']}\")\n",
    "    print(f\"Agent now has {observation['agent']} HP and opponent has {observation['opponent']} HP\\n\")\n",
    "\n",
    "    if truncated:\n",
    "        print(\"They decided that today was not a good day to fight\")\n",
    "    elif terminated:\n",
    "        if observation['agent'] <= 0 and observation['opponent'] <= 0:\n",
    "            print(\"The hero died facing the evil threat\")\n",
    "        elif reward > 0:\n",
    "            print(\"The hero vanquished evil\")\n",
    "        elif reward < 0:\n",
    "            print(\"The evil prevailed\")\n",
    "        \n",
    "    end_episode = terminated or truncated\n",
    "env.close()"
   ]
  },
  {
   "cell_type": "code",
   "execution_count": null,
   "metadata": {},
   "outputs": [],
   "source": []
  }
 ],
 "metadata": {
  "kernelspec": {
   "display_name": "rl",
   "language": "python",
   "name": "python3"
  },
  "language_info": {
   "codemirror_mode": {
    "name": "ipython",
    "version": 3
   },
   "file_extension": ".py",
   "mimetype": "text/x-python",
   "name": "python",
   "nbconvert_exporter": "python",
   "pygments_lexer": "ipython3",
   "version": "3.10.4"
  }
 },
 "nbformat": 4,
 "nbformat_minor": 2
}
