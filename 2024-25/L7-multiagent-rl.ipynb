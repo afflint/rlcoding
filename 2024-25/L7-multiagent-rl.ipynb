{
 "cells": [
  {
   "cell_type": "markdown",
   "metadata": {},
   "source": [
    "###### Università degli Studi di Milano, Data Science and Economics Master Degree\n",
    "\n",
    "# Multi-agent reinforcement learning\n",
    "\n",
    "### Luigi Foscari\n",
    "\n",
    "<small>see sections 1.1 to 1.4 and 5.2 to 5.4 of [Multi-Agent Reinforcement Learning: Foundations and Modern Approaches](https://www.marl-book.com) for a more in-depth overview. Consider watching this [YouTube video](https://www.youtube.com/watch?v=QfYx5q0Q75M) by the book's author which provides a great introduction.</small>"
   ]
  },
  {
   "cell_type": "markdown",
   "metadata": {},
   "source": [
    "So far we tackled the problem of learning an optimal policy for a single agent inside a MDP, we now shift our focus towards contexts in which there are _multiple_ agents acting in the MDP with (possibly) different goals. For example, consider a fleet of autonomous vehicles with the goal of driving as quickly and safely as possible, a team of players in a competitive videogame or a group of automated traders that manage each their own investments in a public market.\n",
    "\n",
    "**How does the addition of other learning agents change what we learned so far?**\n",
    "\n",
    "_See the available [environments](https://pettingzoo.farama.org/environments/classic/) from the PettinZoo library for more examples_"
   ]
  },
  {
   "cell_type": "markdown",
   "metadata": {},
   "source": [
    "A **multi-agent system** is composed of an environment and multiple decision-making agents, also called _players_, that interact in the environment to achieve certain goals. The environment evolves during play according the player's actions and optionally randomness. \n",
    "\n",
    "**Multi-agent reinforcement learning** or **MARL** tackles learning in such systems by devising algorithms that let the players refine their respective strategies, which can be collaborative, competitive or a mix of the two.\n",
    "\n",
    "At the start of a round of the game, each player sees the state of the environment and picks an action, the round ends after every player has chosen an action, then the envoriment evolves accordingly and each player collects their reward to update their respective policy.\n",
    "\n",
    "<img src=\"imgs/environment-marl.png\" width=\"600\" style=\"display: block; margin: 0 auto\"/>"
   ]
  },
  {
   "cell_type": "markdown",
   "metadata": {},
   "source": [
    "From the point of view of the agent, little has changed, they still have a set of actions, a policy, an enviroment and the goal of optimizing their policy.\n",
    "What changed? The difference lies in the fact that **the immediate reward achieved by any player depends on the actions of the other players on the same round**.\n",
    "\n",
    "For example consider a group of learning agents playing football, when a goal is scored, the success is tied to the actions of all the players, not only of the player that last kicked the ball. This introduces the problem of understanding how much of each player contributed, this is called **multi-agent credit assignment**."
   ]
  },
  {
   "cell_type": "markdown",
   "metadata": {},
   "source": [
    "Another issue that arises in MARL is the dependence on the number of agents, when considering games with a thousands of players, our learning procedure might struggle. When dealing with multiple agents, the algorithms will need to scale well with the number of agents."
   ]
  },
  {
   "cell_type": "markdown",
   "metadata": {},
   "source": [
    "### Central learning\n",
    "One natural approach to the problem of learning with multiple agents is to use a single learning procedure (e.g. Q-learning) which learns the best strategy for each player, like a conductor in an orchestra, we shall call this algorithm the _maestro_. If each player $i \\in \\{1, \\dots, N\\}$ has an action space $\\mathcal{A}_i$, then the maestro will have action space $\\mathcal{A} = \\mathcal{A}_1 \\times \\dots \\times \\mathcal{A}_N$, the state space is $\\mathcal{S}$ and on each round the maestro chooses an action $a \\in \\mathcal{A}$ (where $a = (a_1, \\dots, a_N)$ corresponds to actions for every single player) and distributes the correponding actions to the players, which they dutifully play as instructed. This approach can work, but it has a number of drawbacks:\n",
    "- The actions space of the maestro can grows very quickly, if for example each player's action space has fixed size $A$, then the action space of the maestro has size $A^N$, which is exponential in the number of players. If each agent used an independent learning algorithm, each would have to manage only $A$ actions.\n",
    "- In certain context centralized learning is not allowed, for example with autonomous driving or when the details of each agent are not known.\n",
    "- Each player might have a different reward function (i.e. a different objective) and the maestro should take this into account in order to devise a complex learning objective suited to the underlying players. In practice the reward of each player might not be known and even if they are known, it might be non-trivial or downright impossible to aggregate the given rewards into a single one that can be fed to the maestro's learning procedure to achieve the desired solution concept, more on this in the next lesson."
   ]
  },
  {
   "cell_type": "markdown",
   "metadata": {},
   "source": [
    "### Independent learning\n",
    "The opposite approach is for each agent to learn using an independent learning procedure, removing the need for a centralized authority, its dependency on the number of players and the issue of handling the rewards. This approach has proven to be much more successfull, but classical algorithm from RL might not be suited to the task.\n",
    "\n",
    "#### Independent Q-learning\n",
    "Consider the case in which each agents learns using the standard Q-learning algorithm. On each round, each player $i \\in \\{1, \\dots, N\\}$ observes a state $s \\in \\mathcal{S}$ and picks an action $a_i \\in \\mathcal{A}_i$, after each player picked their action $a_1, \\dots, a_N$, the next state $s' = \\tau(s, a)$ transitions according the joint action $a = (a_1, \\dots, a_N)$ and each player receives reward $r_i$, which is used to update their respective value function $Q_i$ as\n",
    "$$\n",
    "\tQ_i(s, a_i) =\n",
    "\t\t(1 - \\alpha) Q_i(s, a_i)\n",
    "\t\t+ \\alpha ( r_i + \\gamma \\max_{a'_i \\in \\mathcal{A}_i} Q_i(s', a'_i) )\n",
    "$$\n",
    "Because the transition from one state to another depends on the joint action $a = (a_1, \\dots, a_N)$ and not on a single action, from a single player's point of view the transition function of the MDP depends on the other players actions, because the other players actively learn and are therefore non-stationary in their choice of action, the transition function is non-stationary. In general this means that independent learning does not converge, but in certains classes of games, it does."
   ]
  },
  {
   "cell_type": "markdown",
   "metadata": {},
   "source": [
    "### The goal of multi-agent reinforcement learning\n",
    "In the classic RL case, a policy is optimal if it maximises the _return_, defined as the sum of the immediate reward obtained during play, in the multi-agent case, any player's return depends on the other players' actions and ultimately depends on their policies.\n",
    "\n",
    "**If the return of a policy depends on the other policies, how do we define optimality?** There is no fixed answer to this question, in fact it depends on the underlying context and the objective of the learning procedure, for now we only focus on modeling the problem. To understand the different solutions concepts for MARL we will rely on game-theorical arguments.\n",
    "\n",
    "In the meantime, we can evaluate the performance of a learning algorithm by its convergence rate to a specific solution concept, viz. we define a specific policy for each player to which we want our algorithm to converge to and we try to understand\n",
    "1. If the learning algorithm converges to the proposed solution (which the algorithm does not know).\n",
    "2. If true, how fast is the convergence?\n",
    "\n",
    "For example, going back to the football example, before the start of the game we decide _roughly_ how we want the players to play by defining different roles, which translate to different behaviours. Afterward we pick a learning algorithm and try to understand if the players actually learn to play as we intended.\n",
    "\n",
    "This might seem very accidental, how can we be sure that the algorithm will converge to these behaviours that we randomly picked? This can be achieved by choosing these behaviours wisely from very well studied solution concepts, which we will tackle in the next lesson."
   ]
  },
  {
   "cell_type": "markdown",
   "metadata": {},
   "source": [
    "### Welcome to the PettingZoo\n",
    "The Farama foundation, who maintains the Gymnasium library, work also on a MARL-oriented library called [PettingZoo](https://pettingzoo.farama.org/). They share the same interface, which is very useful when, hypothetically, you have been following a course using Gym and now you need to abruptly switch library to cover MARL topics."
   ]
  },
  {
   "cell_type": "code",
   "execution_count": 1,
   "metadata": {},
   "outputs": [],
   "source": [
    "from IPython.display import clear_output\n",
    "import matplotlib.pyplot as plt\n",
    "import numpy as np\n",
    "\n",
    "def visualize(render):\n",
    "\tclear_output(wait=True)\n",
    "\tplt.imshow(render)\n",
    "\tplt.axis(\"off\")\n",
    "\tplt.show()"
   ]
  },
  {
   "cell_type": "markdown",
   "metadata": {},
   "source": [
    "### Tic-Tac-Toe"
   ]
  },
  {
   "cell_type": "code",
   "execution_count": null,
   "metadata": {},
   "outputs": [],
   "source": [
    "from pettingzoo.classic import tictactoe_v3\n",
    "\n",
    "env = tictactoe_v3.env(render_mode = \"rgb_array\")\n",
    "env.reset(seed = 42)\n",
    "\n",
    "for agent in env.agent_iter():\n",
    "\tobs, reward, termination, truncation, info = env.last()\n",
    "\tif termination or truncation:\n",
    "\t\taction = None\n",
    "\telse:\n",
    "\t\tlegal_moves = obs[\"action_mask\"]\n",
    "\t\taction = env.action_space(agent).sample(legal_moves)\n",
    "\n",
    "\tvisualize(env.render())\n",
    "\tenv.step(action)\n",
    "\n",
    "env.close()"
   ]
  },
  {
   "cell_type": "markdown",
   "metadata": {},
   "source": [
    "## Simple Spread\n",
    "\n",
    "We know consider the game of [Simple Spread](https://pettingzoo.farama.org/environments/mpe/simple_spread/), where $N$ agents want to cover $N$ landmarks and are penalized if they collide with eachother. The reward is the same for every agent and is the sum of the minimum distance from each landmark to the closest agent."
   ]
  },
  {
   "cell_type": "code",
   "execution_count": 2,
   "metadata": {},
   "outputs": [
    {
     "data": {
      "image/png": "[encoded data removed]",
      "text/plain": [
       "<Figure size 640x480 with 1 Axes>"
      ]
     },
     "metadata": {},
     "output_type": "display_data"
    }
   ],
   "source": [
    "from pettingzoo.mpe import simple_spread_v3\n",
    "\n",
    "env = simple_spread_v3.parallel_env(\n",
    "\tN = 5,\n",
    "\tmax_cycles = 50,\n",
    "\tcontinuous_actions = False,\n",
    "\trender_mode = \"rgb_array\"\n",
    ")\n",
    "\n",
    "observations, _ = env.reset()\n",
    "\n",
    "while env.agents:\n",
    "\tactions = {agent: env.action_space(agent).sample() for agent in env.agents}\n",
    "\n",
    "\tvisualize(env.render())\n",
    "\tobservations, rewards, terminations, truncations, _ = env.step(actions)\n",
    "env.close()"
   ]
  },
  {
   "cell_type": "markdown",
   "metadata": {},
   "source": [
    "REWRITE FOR CONTINUOUS STATES\n",
    "\n",
    "### Multi-agent Q-learning\n",
    "We now make slight adjustments to the Q-learning implementation you are familiar with to make it work with PettingZoo, the main change is that now the action space is tied to the agent, therefore when choosing a possible action, we need to invoke ```env.action_space(agent)``` instead of ```env.action_space```.\n",
    "\n",
    "For sake of generality, we also define a pair of encoding/decoding functions which we can use to map the action/state space to types which Python can hash, making it possible to use it in normal dictionaries for tabular learning."
   ]
  },
  {
   "cell_type": "code",
   "execution_count": null,
   "metadata": {},
   "outputs": [],
   "source": [
    "# TO REMOVE\n",
    "\n",
    "from agents.tabular import QLearning\n",
    "\n",
    "def encode(xs: np.ndarray) -> tuple[int]:\n",
    "\treturn tuple(xs.flatten())\n",
    "\n",
    "def decode(xs: tuple[int], size = (1, )) -> np.ndarray:\n",
    "\tif len(xs) == 1: return xs[0]\n",
    "\treturn np.array(xs).reshape(size)\n",
    "\n",
    "class MultiAgentQLearning(QLearning):\n",
    "\tdef greedy(self, state, agent):\n",
    "\t\tdefault_action = encode(self.mdp.action_space(agent).sample())\n",
    "\t\taction = max(self.Q[state], key=self.Q[state].get, default=default_action)\n",
    "\t\treturn decode(action)\n",
    "\n",
    "\tdef explore(self, state, agent):\n",
    "\t\tif np.random.uniform() < self.epsilon:\n",
    "\t\t\treturn self.mdp.action_space(agent).sample()\n",
    "\t\telse:\n",
    "\t\t\treturn self.greedy(state, agent)"
   ]
  },
  {
   "cell_type": "code",
   "execution_count": null,
   "metadata": {},
   "outputs": [],
   "source": [
    "# TO REMOVE\n",
    "\n",
    "from tqdm import trange\n",
    "\n",
    "EPISODES = 500\n",
    "MAX_ITERATIONS = 100\n",
    "SAVE_EVERY = 1\n",
    "\n",
    "env = simple_spread_v3.parallel_env(\n",
    "\tmax_cycles = MAX_ITERATIONS,\n",
    "\tcontinuous_actions = False,\n",
    "\trender_mode = \"rgb_array\"\n",
    ")\n",
    "\n",
    "algorithms = {\n",
    "\t# \"agent_0\": MultiAgentQLearning(env),\n",
    "\t# \"adversary_0\": MultiAgentQLearning(env, final_epsilon=1), # random\n",
    "\tagent: MultiAgentQLearning(env)\n",
    "\tfor agent in env.possible_agents\n",
    "}\n",
    "\n",
    "# Set the epsilon decay value\n",
    "for agent in algorithms.values():\n",
    "\tagent.e_decay = agent.epsilon / (MAX_ITERATIONS / 2)\n",
    "\n",
    "for episode in trange(EPISODES):\n",
    "\tobservations, _ = env.reset()\n",
    "\n",
    "\tobservations_encoded = {\n",
    "\t\tagent: encode(observations[agent])\n",
    "\t\tfor agent in env.possible_agents\n",
    "\t}\n",
    "\n",
    "\t# Keep track of the average error for each agent\n",
    "\tepisode_error = {agent: [] for agent in env.possible_agents}\n",
    "\n",
    "\twhile env.agents:\n",
    "\t\tactions = {\n",
    "\t\t\tagent: algorithms[agent].explore(observations_encoded[agent], agent)\n",
    "\t\t\tfor agent in env.agents\n",
    "\t\t}\n",
    "\t\t\n",
    "\t\t# visualize(env.render())\n",
    "\t\tnew_observations, rewards, terminations, truncations, infos = env.step(actions)\n",
    "\n",
    "\t\tnew_observations_encoded = {\n",
    "\t\t\tagent: encode(new_observations[agent])\n",
    "\t\t\tfor agent in env.possible_agents\n",
    "\t\t}\n",
    "\n",
    "\t\tfor agent, algorithm in algorithms.items():\n",
    "\t\t\t# Encode the states and action\n",
    "\t\t\terror = algorithm.update(\n",
    "\t\t\t\tstate = observations_encoded[agent],\n",
    "\t\t\t\taction = encode(actions[agent]),\n",
    "\t\t\t\treward = rewards[agent],\n",
    "\t\t\t\tterminated = terminations[agent],\n",
    "\t\t\t\ts_prime = new_observations_encoded[agent]\n",
    "\t\t\t)\n",
    "\t\t\tepisode_error[agent].append(error)\n",
    "\n",
    "\t\tobservations_encoded = new_observations_encoded\n",
    "\n",
    "\tif episode % SAVE_EVERY == 0:\n",
    "\t\tfor agent, algorithm in algorithms.items():\n",
    "\t\t\t# algorithm.history.append(algorithm.Q.copy())\n",
    "\t\t\talgorithm.error.append(np.average(episode_error[agent]))\n",
    "\n",
    "\tfor algorithm in algorithms.values():\n",
    "\t\talgorithm.decay_epsilon()\n",
    "\t\t\n",
    "env.close()"
   ]
  },
  {
   "cell_type": "markdown",
   "metadata": {},
   "source": [
    "## Discrete actions and continuous state"
   ]
  },
  {
   "cell_type": "code",
   "execution_count": 4,
   "metadata": {},
   "outputs": [],
   "source": [
    "from gymbase.vfa import LinearQApproximator\n",
    "\n",
    "def multiagent_egreedy_policy_q(env, approximator, state, epsilon, agent):\n",
    "\tif np.random.rand() < epsilon:\n",
    "\t\treturn env.action_space(agent).sample()\n",
    "\treturn np.argmax(approximator.predict(state, action) for action in range(env.action_space(agent).n))"
   ]
  },
  {
   "cell_type": "markdown",
   "metadata": {},
   "source": [
    "Train a number of agents using our approximate Q-learning implementation for a fixed number of episodes."
   ]
  },
  {
   "cell_type": "code",
   "execution_count": null,
   "metadata": {},
   "outputs": [
    {
     "name": "stderr",
     "output_type": "stream",
     "text": [
      "100%|██████████| 1000/1000 [02:02<00:00,  8.15it/s]\n"
     ]
    }
   ],
   "source": [
    "from tqdm import trange\n",
    "\n",
    "EPISODES = 1000\n",
    "MAX_ITERATIONS = 100\n",
    "\n",
    "# Discount parameter\n",
    "GAMMA = 0.8\n",
    "\n",
    "env = simple_spread_v3.parallel_env(\n",
    "\tmax_cycles = MAX_ITERATIONS,\n",
    "\tcontinuous_actions = False,\n",
    "\trender_mode = \"rgb_array\"\n",
    ")\n",
    "observations, _ = env.reset()\n",
    "\n",
    "# Each agent is represented by an instance of the LinearQApproximator class,\n",
    "# which handles the weights for the value approximation.\n",
    "approximators = {\n",
    "\tagent: LinearQApproximator(\n",
    "\t\tfeature_extractor = lambda state: state,\n",
    "\t\tnum_features = observations[agent].size,\n",
    "\t\tnum_actions = env.action_space(agent).n,\n",
    "\t\talpha = 0.01 # Mixing parameter\n",
    "\t) for agent in env.possible_agents\n",
    "}\n",
    "\n",
    "# For simplicity in this example, this parameter is shared across learners,\n",
    "# but in general it is learner-specific.\n",
    "epsilon = 1\n",
    "min_epsilon = 0.1\n",
    "epsilon_decay = (epsilon - min_epsilon) / EPISODES\n",
    "\n",
    "# Keep track of the mean error and its standard deviation across learning\n",
    "mean_error = {agent: [] for agent in env.possible_agents}\n",
    "std_error = {agent: [] for agent in env.possible_agents}\n",
    "\n",
    "for episode in trange(EPISODES):\n",
    "\tobservations, _ = env.reset()\n",
    "\n",
    "\t# Keep track of the average error for each agent\n",
    "\tepisode_error = {agent: [] for agent in env.possible_agents}\n",
    "\n",
    "\twhile env.agents:\n",
    "\t\t# Compute the action using an approximate epsilon-greedy policy\n",
    "\t\tactions = {\n",
    "\t\t\tagent: multiagent_egreedy_policy_q(env, approximators[agent], observations[agent], epsilon, agent)\n",
    "\t\t\tfor agent in env.agents\n",
    "\t\t}\n",
    "\t\t\n",
    "\t\t# Advance the simulation according to the action profile\n",
    "\t\tnext_observations, rewards, terminations, truncations, infos = env.step(actions)\n",
    "\n",
    "\t\tfor agent, approximator in approximators.items():\n",
    "\t\t\t# Observations in general do not coincide with states, because different agents\n",
    "\t\t\t# might have different views of the environment. It is not the case here.\n",
    "\t\t\tstate, next_state = observations[agent], next_observations[agent]\n",
    "\t\t\treward = rewards[agent]\n",
    "\n",
    "\t\t\tnext_best_action = np.argmax(approximator.predict(next_state, action)\n",
    "\t\t\t\tfor action in range(env.action_space(agent).n))\n",
    "\n",
    "\t\t\ttarget = reward + (GAMMA * approximator.predict(next_state, next_best_action))\n",
    "\n",
    "\t\t\t# Log the current error\n",
    "\t\t\terror = target - approximator.predict(state, actions[agent])\n",
    "\t\t\tepisode_error[agent].append(error)\n",
    "\n",
    "\t\t\t# Update the weights of the predictor\n",
    "\t\t\tapproximator.update(state, actions[agent], target)\n",
    "\n",
    "\t\tobservations = next_observations\n",
    "\n",
    "\tfor agent, errors in episode_error.items():\n",
    "\t\tmean_error[agent].append(np.average(errors))\n",
    "\t\tstd_error[agent].append(np.std(errors))\n",
    "\n",
    "\tepsilon -= epsilon_decay\n",
    "\t\t\n",
    "env.close()"
   ]
  },
  {
   "cell_type": "markdown",
   "metadata": {},
   "source": [
    "Now plot the average error incurred by the agents across the episodes."
   ]
  },
  {
   "cell_type": "code",
   "execution_count": null,
   "metadata": {},
   "outputs": [
    {
     "data": {
      "image/png": "[encoded data removed]",
      "text/plain": [
       "<Figure size 640x480 with 1 Axes>"
      ]
     },
     "metadata": {},
     "output_type": "display_data"
    }
   ],
   "source": [
    "skip = 3\n",
    "\n",
    "x = range(EPISODES)[::skip]\n",
    "for agent in env.possible_agents:\n",
    "\tstd = np.array(std_error[agent])[::skip]\n",
    "\terror = np.array(mean_error[agent])[::skip]\n",
    "\n",
    "\tplt.plot(x, error, label = agent)\n",
    "\t# plt.fill_between(x, (error - std), (error + std), alpha = .1)\n",
    "\n",
    "plt.legend()\n",
    "plt.show()"
   ]
  },
  {
   "cell_type": "code",
   "execution_count": null,
   "metadata": {},
   "outputs": [],
   "source": []
  }
 ],
 "metadata": {
  "kernelspec": {
   "display_name": ".venv",
   "language": "python",
   "name": "python3"
  },
  "language_info": {
   "codemirror_mode": {
    "name": "ipython",
    "version": 3
   },
   "file_extension": ".py",
   "mimetype": "text/x-python",
   "name": "python",
   "nbconvert_exporter": "python",
   "pygments_lexer": "ipython3",
   "version": "3.11.11"
  }
 },
 "nbformat": 4,
 "nbformat_minor": 2
}
