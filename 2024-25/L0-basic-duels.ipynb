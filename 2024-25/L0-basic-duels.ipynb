{
 "cells": [
  {
   "cell_type": "code",
   "execution_count": 1,
   "metadata": {},
   "outputs": [
    {
     "name": "stdout",
     "output_type": "stream",
     "text": [
      "Agent starts with 20 hit points\n",
      "Opponent starts with 20 hit points\n",
      "\n",
      "Agent uses melee and opponent uses spell\n",
      "Agent now has 18 HP and opponent has 14 HP\n",
      "\n",
      "Agent uses melee and opponent uses heal\n",
      "Agent now has 18 HP and opponent has 12 HP\n",
      "\n",
      "Agent uses melee and opponent uses heal\n",
      "Agent now has 18 HP and opponent has 10 HP\n",
      "\n",
      "Agent uses ranged and opponent uses ranged\n",
      "Agent now has 14 HP and opponent has 6 HP\n",
      "\n",
      "Agent uses retreat and opponent uses retreat\n",
      "Agent now has 14 HP and opponent has 6 HP\n",
      "\n",
      "They decided that today was not a good day to fight\n"
     ]
    }
   ],
   "source": [
    "import gymnasium as gym\n",
    "import gymbase.environments\n",
    "\n",
    "env = gym.make(\"Duels-v0\", starting_hp=20, opponent_distr=None)\n",
    "observation, info = env.reset()\n",
    "\n",
    "print(f\"Agent starts with {observation['agent']} hit points\")\n",
    "print(f\"Opponent starts with {observation['opponent']} hit points\\n\")\n",
    "\n",
    "end_episode = False\n",
    "while not end_episode:\n",
    "    action = env.action_space.sample()\n",
    "    observation, reward, terminated, truncated, info = env.step(action)\n",
    "\n",
    "    print(f\"Agent uses {info['agent']} and opponent uses {info['opponent']}\")\n",
    "    print(f\"Agent now has {observation['agent']} HP and opponent has {observation['opponent']} HP\\n\")\n",
    "\n",
    "    if truncated:\n",
    "        print(\"They decided that today was not a good day to fight\")\n",
    "    elif terminated:\n",
    "        if observation['agent'] <= 0 and observation['opponent'] <= 0:\n",
    "            print(\"The hero died facing the evil threat\")\n",
    "        elif reward > 0:\n",
    "            print(\"The hero vanquished evil\")\n",
    "        elif reward < 0:\n",
    "            print(\"The evil prevailed\")\n",
    "        \n",
    "    end_episode = terminated or truncated\n",
    "env.close()"
   ]
  },
  {
   "cell_type": "code",
   "execution_count": null,
   "metadata": {},
   "outputs": [],
   "source": []
  }
 ],
 "metadata": {
  "kernelspec": {
   "display_name": ".venv",
   "language": "python",
   "name": "python3"
  },
  "language_info": {
   "codemirror_mode": {
    "name": "ipython",
    "version": 3
   },
   "file_extension": ".py",
   "mimetype": "text/x-python",
   "name": "python",
   "nbconvert_exporter": "python",
   "pygments_lexer": "ipython3",
   "version": "3.11.11"
  }
 },
 "nbformat": 4,
 "nbformat_minor": 2
}
