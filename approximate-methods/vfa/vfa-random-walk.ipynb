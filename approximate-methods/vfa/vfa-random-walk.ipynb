{
 "cells": [
  {
   "cell_type": "markdown",
   "metadata": {},
   "source": [
    "# Random Walk\n",
    "> Sutton, R. S., & Barto, A. G. (2018). Reinforcement learning: An introduction. MIT press. (Example 6.2, 9.1)\n",
    "\n",
    "- **states**: $1 .. N$\n",
    "- **actions**: `move`\n",
    "- **transition**: pick a state $[s \\in s-k:s-1 ; s+1:s+k] $ with uniform probability\n",
    "- **terminal**: $s \\leq 1 \\vee s \\geq N$\n",
    "- **reward**: \n",
    "    - $s \\leq 1 \\rightarrow -1$\n",
    "    - $s \\geq N \\rightarrow +1$\n",
    "    - $1 < s < N \\rightarrow 0$"
   ]
  },
  {
   "cell_type": "code",
   "execution_count": 1,
   "metadata": {},
   "outputs": [],
   "source": [
    "import numpy as np \n",
    "import pandas as pd\n",
    "from collections import defaultdict\n",
    "from vfa.algorithms import monte_carlo_first_visit"
   ]
  },
  {
   "cell_type": "code",
   "execution_count": 2,
   "metadata": {},
   "outputs": [],
   "source": [
    "class RandomWalkEnv:\n",
    "    def __init__(self, start: int, end: int, step: int) -> None:\n",
    "        self.start = start \n",
    "        self.N = end \n",
    "        self.k = step \n",
    "    def outcome(self, action: int, state: int):\n",
    "        s_primes = np.append(np.arange(state - self.k, state), np.arange(state + 1, state + self.k + 1))\n",
    "        s_prime = np.random.choice(s_primes)\n",
    "        if s_prime >= self.N:\n",
    "            return self.N\n",
    "        elif s_prime <= self.start:\n",
    "            return self.start\n",
    "        else:\n",
    "            return s_prime\n",
    "    def is_terminal(self, state):\n",
    "        if state <= self.start or state >= self.N:\n",
    "            return True\n",
    "        else:\n",
    "            return False\n",
    "    def reward(self, state):\n",
    "        if state <= self.start:\n",
    "            return -1\n",
    "        elif state >= self.N:\n",
    "            return 1\n",
    "        else:\n",
    "            return 0"
   ]
  },
  {
   "cell_type": "code",
   "execution_count": 3,
   "metadata": {},
   "outputs": [],
   "source": [
    "class Policy:\n",
    "    def __getitem__(self, state):\n",
    "        return 0\n",
    "    def generate_episode(self, state: int, environment: RandomWalkEnv, max_iter: int = 1000):\n",
    "        current_state = state\n",
    "        episode = []\n",
    "        for i in range(max_iter):\n",
    "            a = self[current_state]\n",
    "            s_prime = environment.outcome(a, state=current_state)\n",
    "            r = environment.reward(s_prime)\n",
    "            episode.append((current_state, a, r))\n",
    "            if environment.is_terminal(s_prime):\n",
    "                break\n",
    "            else:\n",
    "                current_state = s_prime\n",
    "        return episode\n",
    "            "
   ]
  },
  {
   "cell_type": "code",
   "execution_count": 4,
   "metadata": {},
   "outputs": [],
   "source": [
    "class Agent:\n",
    "    def __init__(self, initial_state: np.ndarray) -> None:\n",
    "        self.state = initial_state"
   ]
  },
  {
   "cell_type": "code",
   "execution_count": 5,
   "metadata": {},
   "outputs": [],
   "source": [
    "env = RandomWalkEnv(start=0, end=1000, step=100)\n",
    "pi = Policy()\n",
    "agent = Agent(initial_state=np.array([5, 2]))"
   ]
  },
  {
   "cell_type": "markdown",
   "metadata": {},
   "source": [
    "## Monte Carlo VFA"
   ]
  },
  {
   "cell_type": "code",
   "execution_count": 6,
   "metadata": {},
   "outputs": [],
   "source": [
    "# Status to feature\n",
    "x = lambda s: np.array([(s - env.start), (s - env.N)])\n",
    "# x = lambda s: np.array([-s])"
   ]
  },
  {
   "cell_type": "code",
   "execution_count": 7,
   "metadata": {},
   "outputs": [
    {
     "data": {
      "text/plain": [
       "(array([950, -50]), 1000)"
      ]
     },
     "execution_count": 7,
     "metadata": {},
     "output_type": "execute_result"
    }
   ],
   "source": [
    "x(950), env.N"
   ]
  },
  {
   "cell_type": "code",
   "execution_count": 8,
   "metadata": {},
   "outputs": [
    {
     "name": "stderr",
     "output_type": "stream",
     "text": [
      "100%|██████████| 10000/10000 [00:17<00:00, 561.94it/s]\n"
     ]
    }
   ],
   "source": [
    "w = monte_carlo_first_visit(env=env, policy=pi, x=x, shape=2, max_episode_len=200, iterations=10000, alpha=.0000001)"
   ]
  },
  {
   "cell_type": "code",
   "execution_count": 9,
   "metadata": {},
   "outputs": [],
   "source": [
    "import matplotlib.pyplot as plt "
   ]
  },
  {
   "cell_type": "code",
   "execution_count": 10,
   "metadata": {},
   "outputs": [
    {
     "data": {
      "image/png": "[encoded data removed]",
      "text/plain": [
       "<Figure size 1000x400 with 1 Axes>"
      ]
     },
     "metadata": {},
     "output_type": "display_data"
    }
   ],
   "source": [
    "fig, ax = plt.subplots(figsize=(10, 4))\n",
    "ax.plot(range(env.N+1), [x(i).T.dot(w) for i in range(env.N+1)])\n",
    "ax.set_xticks(range(1, env.N+1, 50))\n",
    "ax.set_xticklabels([str(i+1) for i in range(1, env.N+1, 50)])\n",
    "plt.tight_layout()\n",
    "plt.show()"
   ]
  },
  {
   "cell_type": "markdown",
   "metadata": {},
   "source": [
    "## TD(0) VFA"
   ]
  },
  {
   "cell_type": "code",
   "execution_count": 11,
   "metadata": {},
   "outputs": [],
   "source": [
    "from vfa.algorithms import td_zero"
   ]
  },
  {
   "cell_type": "code",
   "execution_count": 16,
   "metadata": {},
   "outputs": [
    {
     "name": "stderr",
     "output_type": "stream",
     "text": [
      "  0%|          | 0/10000 [00:00<?, ?it/s]"
     ]
    },
    {
     "name": "stderr",
     "output_type": "stream",
     "text": [
      "100%|██████████| 10000/10000 [00:01<00:00, 8701.74it/s]\n"
     ]
    }
   ],
   "source": [
    "w = td_zero(env=env, policy=pi, x=x, shape=2, iterations=10000, alpha=.000001)"
   ]
  },
  {
   "cell_type": "code",
   "execution_count": 17,
   "metadata": {},
   "outputs": [
    {
     "data": {
      "image/png": "[encoded data removed]",
      "text/plain": [
       "<Figure size 1000x400 with 1 Axes>"
      ]
     },
     "metadata": {},
     "output_type": "display_data"
    }
   ],
   "source": [
    "fig, ax = plt.subplots(figsize=(10, 4))\n",
    "ax.plot(range(env.N+1), [x(i).T.dot(w) for i in range(env.N+1)])\n",
    "ax.set_xticks(range(1, env.N+1, 50))\n",
    "ax.set_xticklabels([str(i+1) for i in range(1, env.N+1, 50)])\n",
    "plt.tight_layout()\n",
    "plt.show()"
   ]
  },
  {
   "cell_type": "code",
   "execution_count": null,
   "metadata": {},
   "outputs": [],
   "source": []
  }
 ],
 "metadata": {
  "kernelspec": {
   "display_name": "rl",
   "language": "python",
   "name": "python3"
  },
  "language_info": {
   "codemirror_mode": {
    "name": "ipython",
    "version": 3
   },
   "file_extension": ".py",
   "mimetype": "text/x-python",
   "name": "python",
   "nbconvert_exporter": "python",
   "pygments_lexer": "ipython3",
   "version": "3.9.17"
  }
 },
 "nbformat": 4,
 "nbformat_minor": 2
}
