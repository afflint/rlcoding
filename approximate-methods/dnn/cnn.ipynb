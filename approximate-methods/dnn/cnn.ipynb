{
 "cells": [
  {
   "cell_type": "markdown",
   "metadata": {},
   "source": [
    "# Simple example to illustrate CNN layers"
   ]
  },
  {
   "cell_type": "code",
   "execution_count": 2,
   "metadata": {},
   "outputs": [],
   "source": [
    "import numpy as np \n",
    "import torch \n",
    "import torch.nn.functional as F"
   ]
  },
  {
   "cell_type": "markdown",
   "metadata": {},
   "source": [
    "## Effect of convolution"
   ]
  },
  {
   "cell_type": "markdown",
   "metadata": {},
   "source": [
    "**Example of 2d convolution**"
   ]
  },
  {
   "cell_type": "code",
   "execution_count": 3,
   "metadata": {},
   "outputs": [],
   "source": [
    "channels = 1\n",
    "h, w = 6, 6\n",
    "x = torch.zeros((6, 6))\n",
    "x[:,:3] = 10\n",
    "x = x.view(1, channels, h, w) # input is (minibatch, channels, values)\n",
    "filters = torch.tensor([\n",
    "    [1, 0, -1],\n",
    "    [1, 0, -1],\n",
    "    [1, 0, -1],\n",
    "]).view(1, 1, 3, 3).repeat(1, channels, 1, 1).float()\n",
    "output = F.conv2d(x, filters)"
   ]
  },
  {
   "cell_type": "code",
   "execution_count": 4,
   "metadata": {},
   "outputs": [
    {
     "data": {
      "text/plain": [
       "tensor([[[[10., 10., 10.,  0.,  0.,  0.],\n",
       "          [10., 10., 10.,  0.,  0.,  0.],\n",
       "          [10., 10., 10.,  0.,  0.,  0.],\n",
       "          [10., 10., 10.,  0.,  0.,  0.],\n",
       "          [10., 10., 10.,  0.,  0.,  0.],\n",
       "          [10., 10., 10.,  0.,  0.,  0.]]]])"
      ]
     },
     "execution_count": 4,
     "metadata": {},
     "output_type": "execute_result"
    }
   ],
   "source": [
    "x"
   ]
  },
  {
   "cell_type": "code",
   "execution_count": 5,
   "metadata": {},
   "outputs": [
    {
     "data": {
      "text/plain": [
       "tensor([[[[ 1.,  0., -1.],\n",
       "          [ 1.,  0., -1.],\n",
       "          [ 1.,  0., -1.]]]])"
      ]
     },
     "execution_count": 5,
     "metadata": {},
     "output_type": "execute_result"
    }
   ],
   "source": [
    "filters"
   ]
  },
  {
   "cell_type": "code",
   "execution_count": 6,
   "metadata": {},
   "outputs": [
    {
     "data": {
      "text/plain": [
       "tensor([[[[ 0., 30., 30.,  0.],\n",
       "          [ 0., 30., 30.,  0.],\n",
       "          [ 0., 30., 30.,  0.],\n",
       "          [ 0., 30., 30.,  0.]]]])"
      ]
     },
     "execution_count": 6,
     "metadata": {},
     "output_type": "execute_result"
    }
   ],
   "source": [
    "output"
   ]
  },
  {
   "cell_type": "markdown",
   "metadata": {},
   "source": [
    "## Visual interpretation"
   ]
  },
  {
   "cell_type": "code",
   "execution_count": 7,
   "metadata": {},
   "outputs": [],
   "source": [
    "import matplotlib.pyplot as plt "
   ]
  },
  {
   "cell_type": "code",
   "execution_count": 8,
   "metadata": {},
   "outputs": [
    {
     "data": {
      "image/png": "[encoded data removed]",
      "text/plain": [
       "<Figure size 600x600 with 3 Axes>"
      ]
     },
     "metadata": {},
     "output_type": "display_data"
    }
   ],
   "source": [
    "fig, ax = plt.subplots(figsize=(6, 6), ncols=3)\n",
    "ax[0].imshow(x[0, 0, :, :], cmap='gray')\n",
    "ax[0].set_yticks([])\n",
    "ax[0].set_xticks([])\n",
    "ax[1].imshow(filters.view(3, 3), cmap='gray')\n",
    "ax[1].set_yticks([])\n",
    "ax[1].set_xticks([])\n",
    "ax[2].imshow(output[0, 0, :, :], cmap='gray')\n",
    "ax[2].set_yticks([])\n",
    "ax[2].set_xticks([])\n",
    "plt.tight_layout()\n",
    "plt.show()"
   ]
  },
  {
   "cell_type": "markdown",
   "metadata": {},
   "source": [
    "## Image example"
   ]
  },
  {
   "cell_type": "code",
   "execution_count": 9,
   "metadata": {},
   "outputs": [],
   "source": [
    "import torchvision"
   ]
  },
  {
   "cell_type": "code",
   "execution_count": 13,
   "metadata": {},
   "outputs": [],
   "source": [
    "transform = torchvision.transforms.Compose([torchvision.transforms.ToTensor(), torchvision.transforms.Normalize((0.5,), (0.5,))])\n",
    "data = torchvision.datasets.MNIST(\"/Users/flint/Data/pytorch\", train=True, transform=transform, download=False)"
   ]
  },
  {
   "cell_type": "code",
   "execution_count": 21,
   "metadata": {},
   "outputs": [],
   "source": [
    "img = data.data[0]\n",
    "x = img.view(1, channels, 28, 28).float()\n",
    "output = F.conv2d(x, filters)"
   ]
  },
  {
   "cell_type": "code",
   "execution_count": 23,
   "metadata": {},
   "outputs": [
    {
     "data": {
      "image/png": "[encoded data removed]",
      "text/plain": [
       "<Figure size 600x600 with 3 Axes>"
      ]
     },
     "metadata": {},
     "output_type": "display_data"
    }
   ],
   "source": [
    "fig, ax = plt.subplots(figsize=(6, 6), ncols=3)\n",
    "ax[0].imshow(x[0, 0, :, :], cmap='gray')\n",
    "ax[0].set_yticks([])\n",
    "ax[0].set_xticks([])\n",
    "ax[1].imshow(filters.view(3, 3), cmap='gray')\n",
    "ax[1].set_yticks([])\n",
    "ax[1].set_xticks([])\n",
    "ax[2].imshow(output[0, 0, :, :], cmap='gray')\n",
    "ax[2].set_yticks([])\n",
    "ax[2].set_xticks([])\n",
    "plt.tight_layout()\n",
    "plt.show()"
   ]
  },
  {
   "cell_type": "code",
   "execution_count": 29,
   "metadata": {},
   "outputs": [],
   "source": [
    "filters = torch.tensor([\n",
    "    [-11, 0, 1],\n",
    "    [-1, 0, 1],\n",
    "    [-1, 0, 1],\n",
    "]).view(1, 1, 3, 3).repeat(1, channels, 1, 1).float()\n",
    "output = F.conv2d(x, filters)"
   ]
  },
  {
   "cell_type": "code",
   "execution_count": 30,
   "metadata": {},
   "outputs": [
    {
     "data": {
      "image/png": "[encoded data removed]",
      "text/plain": [
       "<Figure size 600x600 with 3 Axes>"
      ]
     },
     "metadata": {},
     "output_type": "display_data"
    }
   ],
   "source": [
    "fig, ax = plt.subplots(figsize=(6, 6), ncols=3)\n",
    "ax[0].imshow(x[0, 0, :, :], cmap='gray')\n",
    "ax[0].set_yticks([])\n",
    "ax[0].set_xticks([])\n",
    "ax[1].imshow(filters.view(3, 3), cmap='gray')\n",
    "ax[1].set_yticks([])\n",
    "ax[1].set_xticks([])\n",
    "ax[2].imshow(output[0, 0, :, :], cmap='gray')\n",
    "ax[2].set_yticks([])\n",
    "ax[2].set_xticks([])\n",
    "plt.tight_layout()\n",
    "plt.show()"
   ]
  },
  {
   "cell_type": "code",
   "execution_count": null,
   "metadata": {},
   "outputs": [],
   "source": []
  }
 ],
 "metadata": {
  "kernelspec": {
   "display_name": "rl",
   "language": "python",
   "name": "python3"
  },
  "language_info": {
   "codemirror_mode": {
    "name": "ipython",
    "version": 3
   },
   "file_extension": ".py",
   "mimetype": "text/x-python",
   "name": "python",
   "nbconvert_exporter": "python",
   "pygments_lexer": "ipython3",
   "version": "3.9.17"
  }
 },
 "nbformat": 4,
 "nbformat_minor": 2
}
