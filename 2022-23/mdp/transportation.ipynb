{
 "cells": [
  {
   "cell_type": "markdown",
   "id": "92b0dcbd",
   "metadata": {},
   "source": [
    "# Exercise: transportation\n",
    "\n",
    "## Problem description\n",
    "You need to travel from a place `1` to a place `N`, moving always forward. At any place `i` with $0 \\leq i \\leq N$ you can choose one of the following transportation options:\n",
    "- `walk`: when you walk you always spend $w$ minutes to go to $i + 1$;\n",
    "- `bus`: if you take a bus you spend $b$ minute to go to $i + 2$, but with probability $\\alpha$ you need to wait the bus. There's not bus traveling to $j$ if $j > N$;\n",
    "- `train` if you take the train you spend $t$ minute to go to $2i$, but with probability $\\beta$ you need to wait the train. There's not train traveling to $j$ if $j > N$;\n",
    "\n",
    "Your goal is to reach $N$ as fast as possible."
   ]
  },
  {
   "cell_type": "code",
   "execution_count": 16,
   "id": "a32f428d",
   "metadata": {},
   "outputs": [],
   "source": [
    "import sys\n",
    "sys.path.append('../../rlcoding/')"
   ]
  },
  {
   "cell_type": "code",
   "execution_count": 17,
   "id": "f2be73ec",
   "metadata": {},
   "outputs": [],
   "source": [
    "from transportation import TransportationMDP"
   ]
  },
  {
   "cell_type": "code",
   "execution_count": 18,
   "id": "a799ca48",
   "metadata": {},
   "outputs": [],
   "source": [
    "mdp = TransportationMDP(n=6, alpha=.4, beta=.3, gamma=.9, w=-4, b=-1, t=-1)"
   ]
  },
  {
   "cell_type": "markdown",
   "id": "97aad5a3",
   "metadata": {},
   "source": [
    "## Model"
   ]
  },
  {
   "cell_type": "code",
   "execution_count": 19,
   "id": "cc66b595",
   "metadata": {},
   "outputs": [],
   "source": [
    "from utils import transitions_table, mdp_to_graph, plot_mdp"
   ]
  },
  {
   "cell_type": "code",
   "execution_count": 20,
   "id": "13b7924b",
   "metadata": {},
   "outputs": [],
   "source": [
    "T = transitions_table(mdp)"
   ]
  },
  {
   "cell_type": "code",
   "execution_count": 21,
   "id": "3e135530",
   "metadata": {},
   "outputs": [
    {
     "data": {
      "text/html": [
       "<div>\n",
       "<style scoped>\n",
       "    .dataframe tbody tr th:only-of-type {\n",
       "        vertical-align: middle;\n",
       "    }\n",
       "\n",
       "    .dataframe tbody tr th {\n",
       "        vertical-align: top;\n",
       "    }\n",
       "\n",
       "    .dataframe thead th {\n",
       "        text-align: right;\n",
       "    }\n",
       "</style>\n",
       "<table border=\"1\" class=\"dataframe\">\n",
       "  <thead>\n",
       "    <tr style=\"text-align: right;\">\n",
       "      <th></th>\n",
       "      <th>from_state</th>\n",
       "      <th>action</th>\n",
       "      <th>to_state</th>\n",
       "      <th>reward</th>\n",
       "      <th>probability</th>\n",
       "    </tr>\n",
       "  </thead>\n",
       "  <tbody>\n",
       "    <tr>\n",
       "      <th>0</th>\n",
       "      <td>1</td>\n",
       "      <td>walk</td>\n",
       "      <td>2</td>\n",
       "      <td>-4</td>\n",
       "      <td>1.0</td>\n",
       "    </tr>\n",
       "    <tr>\n",
       "      <th>1</th>\n",
       "      <td>1</td>\n",
       "      <td>train</td>\n",
       "      <td>2</td>\n",
       "      <td>-1</td>\n",
       "      <td>0.7</td>\n",
       "    </tr>\n",
       "    <tr>\n",
       "      <th>2</th>\n",
       "      <td>1</td>\n",
       "      <td>train</td>\n",
       "      <td>1</td>\n",
       "      <td>-1</td>\n",
       "      <td>0.3</td>\n",
       "    </tr>\n",
       "    <tr>\n",
       "      <th>3</th>\n",
       "      <td>1</td>\n",
       "      <td>bus</td>\n",
       "      <td>3</td>\n",
       "      <td>-1</td>\n",
       "      <td>0.6</td>\n",
       "    </tr>\n",
       "    <tr>\n",
       "      <th>4</th>\n",
       "      <td>1</td>\n",
       "      <td>bus</td>\n",
       "      <td>1</td>\n",
       "      <td>-1</td>\n",
       "      <td>0.4</td>\n",
       "    </tr>\n",
       "    <tr>\n",
       "      <th>5</th>\n",
       "      <td>2</td>\n",
       "      <td>walk</td>\n",
       "      <td>3</td>\n",
       "      <td>-4</td>\n",
       "      <td>1.0</td>\n",
       "    </tr>\n",
       "    <tr>\n",
       "      <th>6</th>\n",
       "      <td>2</td>\n",
       "      <td>train</td>\n",
       "      <td>4</td>\n",
       "      <td>-1</td>\n",
       "      <td>0.7</td>\n",
       "    </tr>\n",
       "    <tr>\n",
       "      <th>7</th>\n",
       "      <td>2</td>\n",
       "      <td>train</td>\n",
       "      <td>2</td>\n",
       "      <td>-1</td>\n",
       "      <td>0.3</td>\n",
       "    </tr>\n",
       "    <tr>\n",
       "      <th>8</th>\n",
       "      <td>2</td>\n",
       "      <td>bus</td>\n",
       "      <td>4</td>\n",
       "      <td>-1</td>\n",
       "      <td>0.6</td>\n",
       "    </tr>\n",
       "    <tr>\n",
       "      <th>9</th>\n",
       "      <td>2</td>\n",
       "      <td>bus</td>\n",
       "      <td>2</td>\n",
       "      <td>-1</td>\n",
       "      <td>0.4</td>\n",
       "    </tr>\n",
       "    <tr>\n",
       "      <th>10</th>\n",
       "      <td>3</td>\n",
       "      <td>walk</td>\n",
       "      <td>4</td>\n",
       "      <td>-4</td>\n",
       "      <td>1.0</td>\n",
       "    </tr>\n",
       "    <tr>\n",
       "      <th>11</th>\n",
       "      <td>3</td>\n",
       "      <td>train</td>\n",
       "      <td>6</td>\n",
       "      <td>-1</td>\n",
       "      <td>0.7</td>\n",
       "    </tr>\n",
       "    <tr>\n",
       "      <th>12</th>\n",
       "      <td>3</td>\n",
       "      <td>train</td>\n",
       "      <td>3</td>\n",
       "      <td>-1</td>\n",
       "      <td>0.3</td>\n",
       "    </tr>\n",
       "    <tr>\n",
       "      <th>13</th>\n",
       "      <td>3</td>\n",
       "      <td>bus</td>\n",
       "      <td>5</td>\n",
       "      <td>-1</td>\n",
       "      <td>0.6</td>\n",
       "    </tr>\n",
       "    <tr>\n",
       "      <th>14</th>\n",
       "      <td>3</td>\n",
       "      <td>bus</td>\n",
       "      <td>3</td>\n",
       "      <td>-1</td>\n",
       "      <td>0.4</td>\n",
       "    </tr>\n",
       "    <tr>\n",
       "      <th>15</th>\n",
       "      <td>4</td>\n",
       "      <td>walk</td>\n",
       "      <td>5</td>\n",
       "      <td>-4</td>\n",
       "      <td>1.0</td>\n",
       "    </tr>\n",
       "    <tr>\n",
       "      <th>16</th>\n",
       "      <td>4</td>\n",
       "      <td>bus</td>\n",
       "      <td>6</td>\n",
       "      <td>-1</td>\n",
       "      <td>0.6</td>\n",
       "    </tr>\n",
       "    <tr>\n",
       "      <th>17</th>\n",
       "      <td>4</td>\n",
       "      <td>bus</td>\n",
       "      <td>4</td>\n",
       "      <td>-1</td>\n",
       "      <td>0.4</td>\n",
       "    </tr>\n",
       "    <tr>\n",
       "      <th>18</th>\n",
       "      <td>5</td>\n",
       "      <td>walk</td>\n",
       "      <td>6</td>\n",
       "      <td>-4</td>\n",
       "      <td>1.0</td>\n",
       "    </tr>\n",
       "  </tbody>\n",
       "</table>\n",
       "</div>"
      ],
      "text/plain": [
       "    from_state action  to_state  reward  probability\n",
       "0            1   walk         2      -4          1.0\n",
       "1            1  train         2      -1          0.7\n",
       "2            1  train         1      -1          0.3\n",
       "3            1    bus         3      -1          0.6\n",
       "4            1    bus         1      -1          0.4\n",
       "5            2   walk         3      -4          1.0\n",
       "6            2  train         4      -1          0.7\n",
       "7            2  train         2      -1          0.3\n",
       "8            2    bus         4      -1          0.6\n",
       "9            2    bus         2      -1          0.4\n",
       "10           3   walk         4      -4          1.0\n",
       "11           3  train         6      -1          0.7\n",
       "12           3  train         3      -1          0.3\n",
       "13           3    bus         5      -1          0.6\n",
       "14           3    bus         3      -1          0.4\n",
       "15           4   walk         5      -4          1.0\n",
       "16           4    bus         6      -1          0.6\n",
       "17           4    bus         4      -1          0.4\n",
       "18           5   walk         6      -4          1.0"
      ]
     },
     "execution_count": 21,
     "metadata": {},
     "output_type": "execute_result"
    }
   ],
   "source": [
    "T"
   ]
  },
  {
   "cell_type": "code",
   "execution_count": 22,
   "id": "5604d689",
   "metadata": {},
   "outputs": [
    {
     "data": {
      "text/html": [
       "\n",
       "        <iframe\n",
       "            width=\"1200px\"\n",
       "            height=\"600px\"\n",
       "            src=\"transportation.html\"\n",
       "            frameborder=\"0\"\n",
       "            allowfullscreen\n",
       "            \n",
       "        ></iframe>\n",
       "        "
      ],
      "text/plain": [
       "<IPython.lib.display.IFrame at 0x7fcac0c65550>"
      ]
     },
     "execution_count": 22,
     "metadata": {},
     "output_type": "execute_result"
    }
   ],
   "source": [
    "net = plot_mdp(mdp_to_graph(mdp))\n",
    "net.show('transportation.html')"
   ]
  },
  {
   "cell_type": "markdown",
   "id": "b3dba571",
   "metadata": {},
   "source": [
    "## Value iteration"
   ]
  },
  {
   "cell_type": "code",
   "execution_count": 23,
   "id": "bcdaad81",
   "metadata": {},
   "outputs": [],
   "source": [
    "from IPython.display import display, clear_output\n",
    "from algorithms import value_iteration\n",
    "from utils import show_value_iterations"
   ]
  },
  {
   "cell_type": "code",
   "execution_count": 24,
   "id": "f9c85d5e",
   "metadata": {},
   "outputs": [],
   "source": [
    "optimal_value, optimal_policy, value_history, policy_history = value_iteration(mdp=mdp, epsilon=1e-10)"
   ]
  },
  {
   "cell_type": "code",
   "execution_count": 25,
   "id": "478a09d9",
   "metadata": {},
   "outputs": [
    {
     "data": {
      "text/plain": [
       "({1: -2.718321917719863,\n",
       "  2: -2.718321917719863,\n",
       "  3: -1.3698630136986218,\n",
       "  4: -1.5624999999873705,\n",
       "  5: -4.0,\n",
       "  6: 0.0},\n",
       " {1: 'bus', 2: 'train', 3: 'train', 4: 'bus', 5: 'walk', 6: None})"
      ]
     },
     "execution_count": 25,
     "metadata": {},
     "output_type": "execute_result"
    }
   ],
   "source": [
    "optimal_value, optimal_policy"
   ]
  },
  {
   "cell_type": "code",
   "execution_count": 26,
   "id": "8b0d4671",
   "metadata": {},
   "outputs": [
    {
     "data": {
      "text/html": [
       "<div>\n",
       "<style scoped>\n",
       "    .dataframe tbody tr th:only-of-type {\n",
       "        vertical-align: middle;\n",
       "    }\n",
       "\n",
       "    .dataframe tbody tr th {\n",
       "        vertical-align: top;\n",
       "    }\n",
       "\n",
       "    .dataframe thead th {\n",
       "        text-align: right;\n",
       "    }\n",
       "</style>\n",
       "<table border=\"1\" class=\"dataframe\">\n",
       "  <thead>\n",
       "    <tr style=\"text-align: right;\">\n",
       "      <th></th>\n",
       "      <th>S</th>\n",
       "      <th>V</th>\n",
       "      <th>A</th>\n",
       "    </tr>\n",
       "  </thead>\n",
       "  <tbody>\n",
       "    <tr>\n",
       "      <th>0</th>\n",
       "      <td>1</td>\n",
       "      <td>-2.718322</td>\n",
       "      <td>bus</td>\n",
       "    </tr>\n",
       "    <tr>\n",
       "      <th>1</th>\n",
       "      <td>2</td>\n",
       "      <td>-2.718322</td>\n",
       "      <td>train</td>\n",
       "    </tr>\n",
       "    <tr>\n",
       "      <th>2</th>\n",
       "      <td>3</td>\n",
       "      <td>-1.369863</td>\n",
       "      <td>train</td>\n",
       "    </tr>\n",
       "    <tr>\n",
       "      <th>3</th>\n",
       "      <td>4</td>\n",
       "      <td>-1.562500</td>\n",
       "      <td>bus</td>\n",
       "    </tr>\n",
       "    <tr>\n",
       "      <th>4</th>\n",
       "      <td>5</td>\n",
       "      <td>-4.000000</td>\n",
       "      <td>walk</td>\n",
       "    </tr>\n",
       "    <tr>\n",
       "      <th>5</th>\n",
       "      <td>6</td>\n",
       "      <td>0.000000</td>\n",
       "      <td>None</td>\n",
       "    </tr>\n",
       "  </tbody>\n",
       "</table>\n",
       "</div>"
      ],
      "text/plain": [
       "   S         V      A\n",
       "0  1 -2.718322    bus\n",
       "1  2 -2.718322  train\n",
       "2  3 -1.369863  train\n",
       "3  4 -1.562500    bus\n",
       "4  5 -4.000000   walk\n",
       "5  6  0.000000   None"
      ]
     },
     "metadata": {},
     "output_type": "display_data"
    },
    {
     "name": "stdout",
     "output_type": "stream",
     "text": [
      "\n"
     ]
    }
   ],
   "source": [
    "show_value_iterations(value_history, policy_history)"
   ]
  },
  {
   "cell_type": "markdown",
   "id": "64e4e97c",
   "metadata": {},
   "source": [
    "## Policy iteration"
   ]
  },
  {
   "cell_type": "code",
   "execution_count": 28,
   "id": "9567e1e8",
   "metadata": {},
   "outputs": [],
   "source": [
    "from algorithms import policy_iteration\n",
    "from utils import show_policy_iterations"
   ]
  },
  {
   "cell_type": "code",
   "execution_count": 29,
   "id": "873d0188",
   "metadata": {},
   "outputs": [],
   "source": [
    "pi, pi_history = policy_iteration(mdp)"
   ]
  },
  {
   "cell_type": "code",
   "execution_count": 30,
   "id": "419fd446",
   "metadata": {},
   "outputs": [
    {
     "data": {
      "text/plain": [
       "{1: 'bus', 2: 'train', 3: 'train', 4: 'bus', 5: 'walk', 6: None}"
      ]
     },
     "execution_count": 30,
     "metadata": {},
     "output_type": "execute_result"
    }
   ],
   "source": [
    "pi.actions"
   ]
  },
  {
   "cell_type": "code",
   "execution_count": 31,
   "id": "418ff574",
   "metadata": {},
   "outputs": [
    {
     "data": {
      "text/html": [
       "<div>\n",
       "<style scoped>\n",
       "    .dataframe tbody tr th:only-of-type {\n",
       "        vertical-align: middle;\n",
       "    }\n",
       "\n",
       "    .dataframe tbody tr th {\n",
       "        vertical-align: top;\n",
       "    }\n",
       "\n",
       "    .dataframe thead th {\n",
       "        text-align: right;\n",
       "    }\n",
       "</style>\n",
       "<table border=\"1\" class=\"dataframe\">\n",
       "  <thead>\n",
       "    <tr style=\"text-align: right;\">\n",
       "      <th></th>\n",
       "      <th>S</th>\n",
       "      <th>V</th>\n",
       "      <th>A</th>\n",
       "    </tr>\n",
       "  </thead>\n",
       "  <tbody>\n",
       "    <tr>\n",
       "      <th>0</th>\n",
       "      <td>1</td>\n",
       "      <td>-2.718322</td>\n",
       "      <td>bus</td>\n",
       "    </tr>\n",
       "    <tr>\n",
       "      <th>1</th>\n",
       "      <td>2</td>\n",
       "      <td>-2.718322</td>\n",
       "      <td>train</td>\n",
       "    </tr>\n",
       "    <tr>\n",
       "      <th>2</th>\n",
       "      <td>3</td>\n",
       "      <td>-1.369863</td>\n",
       "      <td>train</td>\n",
       "    </tr>\n",
       "    <tr>\n",
       "      <th>3</th>\n",
       "      <td>4</td>\n",
       "      <td>-1.562500</td>\n",
       "      <td>bus</td>\n",
       "    </tr>\n",
       "    <tr>\n",
       "      <th>4</th>\n",
       "      <td>5</td>\n",
       "      <td>-4.000000</td>\n",
       "      <td>walk</td>\n",
       "    </tr>\n",
       "    <tr>\n",
       "      <th>5</th>\n",
       "      <td>6</td>\n",
       "      <td>0.000000</td>\n",
       "      <td>None</td>\n",
       "    </tr>\n",
       "  </tbody>\n",
       "</table>\n",
       "</div>"
      ],
      "text/plain": [
       "   S         V      A\n",
       "0  1 -2.718322    bus\n",
       "1  2 -2.718322  train\n",
       "2  3 -1.369863  train\n",
       "3  4 -1.562500    bus\n",
       "4  5 -4.000000   walk\n",
       "5  6  0.000000   None"
      ]
     },
     "metadata": {},
     "output_type": "display_data"
    },
    {
     "name": "stdout",
     "output_type": "stream",
     "text": [
      "\n"
     ]
    }
   ],
   "source": [
    "show_policy_iterations(pi_history)"
   ]
  },
  {
   "cell_type": "code",
   "execution_count": null,
   "id": "576afa9f",
   "metadata": {},
   "outputs": [],
   "source": []
  },
  {
   "cell_type": "code",
   "execution_count": null,
   "id": "63667aa3",
   "metadata": {},
   "outputs": [],
   "source": []
  },
  {
   "cell_type": "code",
   "execution_count": null,
   "id": "e8464653",
   "metadata": {},
   "outputs": [],
   "source": []
  }
 ],
 "metadata": {
  "kernelspec": {
   "display_name": "crike",
   "language": "python",
   "name": "crike"
  },
  "language_info": {
   "codemirror_mode": {
    "name": "ipython",
    "version": 3
   },
   "file_extension": ".py",
   "mimetype": "text/x-python",
   "name": "python",
   "nbconvert_exporter": "python",
   "pygments_lexer": "ipython3",
   "version": "3.8.8"
  },
  "toc": {
   "base_numbering": 1,
   "nav_menu": {},
   "number_sections": true,
   "sideBar": true,
   "skip_h1_title": false,
   "title_cell": "Table of Contents",
   "title_sidebar": "Contents",
   "toc_cell": false,
   "toc_position": {},
   "toc_section_display": true,
   "toc_window_display": false
  }
 },
 "nbformat": 4,
 "nbformat_minor": 5
}
