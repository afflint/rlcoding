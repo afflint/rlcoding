{
 "cells": [
  {
   "cell_type": "code",
   "execution_count": 1,
   "id": "963842f0",
   "metadata": {},
   "outputs": [],
   "source": [
    "import pandas as pd\n",
    "import numpy as np\n",
    "from tqdm.notebook import tqdm"
   ]
  },
  {
   "cell_type": "code",
   "execution_count": 2,
   "id": "b41f30ad",
   "metadata": {},
   "outputs": [
    {
     "data": {
      "text/html": [
       "<style>\n",
       "  table {margin-left: 0 !important;}\n",
       "</style>\n"
      ],
      "text/plain": [
       "<IPython.core.display.HTML object>"
      ]
     },
     "metadata": {},
     "output_type": "display_data"
    }
   ],
   "source": [
    "%%html\n",
    "<style>\n",
    "  table {margin-left: 0 !important;}\n",
    "</style>"
   ]
  },
  {
   "cell_type": "markdown",
   "id": "e3c3d9e5",
   "metadata": {},
   "source": [
    "# Ricycling robot\n",
    "The story of a robot that collects empty cans in a office...\n",
    "- **States**: `H` (high energy), `L` (low energy)\n",
    "- **Actions**:\n",
    "    - Actions(`H`) = `search`, `wait` \n",
    "    - Actions(`L`) = `search`, `wait`, `recharge` \n",
    "    \n",
    "**Transitions and rewards**\n",
    "\n",
    "| s  |    a     | s' | P(s' \\| s, a) | r(s, a, s') |\n",
    "| :--: | :--------: | :--: | :---------------: | :-----------: |\n",
    "| `H`  |  `search`  | `H`  |     $\\alpha$      | $r_{search}$  |\n",
    "| `H`  |  `search`  | `L`  |    $1-\\alpha$     | $r_{search}$  |\n",
    "| `L`  |  `search`  | `H`  |     $1-\\beta$     |      -3       |\n",
    "| `L`  |  `search`  | `L`  |      $\\beta$      | $r_{search}$  |\n",
    "| `H`  |   `wait`   | `H`  |         1         |  $r_{wait}$   |\n",
    "| `H`  |   `wait`   | `L`  |         0         |  $r_{wait}$   |\n",
    "| `L`  |   `wait`   | `H`  |         0         |  $r_{wait}$   |\n",
    "| `L`  |   `wait`   | `L`  |         1         |  $r_{wait}$   |\n",
    "| `L`  | `recharge` | `H`  |         1         |       0       |\n",
    "| `L`  | `recharge` | `L`  |         0         |       0       |\n",
    "\n",
    "\n",
    "> Sutton, R. S., & Barto, A. G. (2018). Reinforcement learning: An introduction. MIT press. p. 52"
   ]
  },
  {
   "cell_type": "markdown",
   "id": "3e5078b0",
   "metadata": {},
   "source": [
    "## Init Recycling Robot with some parameters"
   ]
  },
  {
   "cell_type": "code",
   "execution_count": 3,
   "id": "5f2fb106",
   "metadata": {},
   "outputs": [],
   "source": [
    "from utils import transitions_table, mdp_to_graph, plot_mdp\n",
    "from recycling_robot import RecyclingMDP"
   ]
  },
  {
   "cell_type": "code",
   "execution_count": 4,
   "id": "0534f9d3",
   "metadata": {},
   "outputs": [],
   "source": [
    "alpha, beta, r_search, r_wait = .8, .9, 1, -1\n",
    "mdp = RecyclingMDP(alpha=alpha, beta=beta, r_search=r_search, r_wait=r_wait, gamma=.99)"
   ]
  },
  {
   "cell_type": "code",
   "execution_count": 5,
   "id": "add21a4f",
   "metadata": {},
   "outputs": [],
   "source": [
    "T = transitions_table(mdp)"
   ]
  },
  {
   "cell_type": "code",
   "execution_count": 6,
   "id": "a593b21a",
   "metadata": {},
   "outputs": [
    {
     "data": {
      "text/html": [
       "<div>\n",
       "<style scoped>\n",
       "    .dataframe tbody tr th:only-of-type {\n",
       "        vertical-align: middle;\n",
       "    }\n",
       "\n",
       "    .dataframe tbody tr th {\n",
       "        vertical-align: top;\n",
       "    }\n",
       "\n",
       "    .dataframe thead th {\n",
       "        text-align: right;\n",
       "    }\n",
       "</style>\n",
       "<table border=\"1\" class=\"dataframe\">\n",
       "  <thead>\n",
       "    <tr style=\"text-align: right;\">\n",
       "      <th></th>\n",
       "      <th>from_state</th>\n",
       "      <th>action</th>\n",
       "      <th>to_state</th>\n",
       "      <th>reward</th>\n",
       "      <th>probability</th>\n",
       "    </tr>\n",
       "  </thead>\n",
       "  <tbody>\n",
       "    <tr>\n",
       "      <th>0</th>\n",
       "      <td>H</td>\n",
       "      <td>search</td>\n",
       "      <td>H</td>\n",
       "      <td>1</td>\n",
       "      <td>0.8</td>\n",
       "    </tr>\n",
       "    <tr>\n",
       "      <th>1</th>\n",
       "      <td>H</td>\n",
       "      <td>search</td>\n",
       "      <td>L</td>\n",
       "      <td>1</td>\n",
       "      <td>0.2</td>\n",
       "    </tr>\n",
       "    <tr>\n",
       "      <th>2</th>\n",
       "      <td>H</td>\n",
       "      <td>wait</td>\n",
       "      <td>H</td>\n",
       "      <td>-1</td>\n",
       "      <td>1.0</td>\n",
       "    </tr>\n",
       "    <tr>\n",
       "      <th>3</th>\n",
       "      <td>H</td>\n",
       "      <td>wait</td>\n",
       "      <td>L</td>\n",
       "      <td>-1</td>\n",
       "      <td>0.0</td>\n",
       "    </tr>\n",
       "    <tr>\n",
       "      <th>4</th>\n",
       "      <td>L</td>\n",
       "      <td>search</td>\n",
       "      <td>H</td>\n",
       "      <td>-3</td>\n",
       "      <td>0.1</td>\n",
       "    </tr>\n",
       "    <tr>\n",
       "      <th>5</th>\n",
       "      <td>L</td>\n",
       "      <td>search</td>\n",
       "      <td>L</td>\n",
       "      <td>1</td>\n",
       "      <td>0.9</td>\n",
       "    </tr>\n",
       "    <tr>\n",
       "      <th>6</th>\n",
       "      <td>L</td>\n",
       "      <td>recharge</td>\n",
       "      <td>H</td>\n",
       "      <td>0</td>\n",
       "      <td>1.0</td>\n",
       "    </tr>\n",
       "    <tr>\n",
       "      <th>7</th>\n",
       "      <td>L</td>\n",
       "      <td>recharge</td>\n",
       "      <td>L</td>\n",
       "      <td>0</td>\n",
       "      <td>0.0</td>\n",
       "    </tr>\n",
       "    <tr>\n",
       "      <th>8</th>\n",
       "      <td>L</td>\n",
       "      <td>wait</td>\n",
       "      <td>H</td>\n",
       "      <td>-1</td>\n",
       "      <td>0.0</td>\n",
       "    </tr>\n",
       "    <tr>\n",
       "      <th>9</th>\n",
       "      <td>L</td>\n",
       "      <td>wait</td>\n",
       "      <td>L</td>\n",
       "      <td>-1</td>\n",
       "      <td>1.0</td>\n",
       "    </tr>\n",
       "  </tbody>\n",
       "</table>\n",
       "</div>"
      ],
      "text/plain": [
       "  from_state    action to_state  reward  probability\n",
       "0          H    search        H       1          0.8\n",
       "1          H    search        L       1          0.2\n",
       "2          H      wait        H      -1          1.0\n",
       "3          H      wait        L      -1          0.0\n",
       "4          L    search        H      -3          0.1\n",
       "5          L    search        L       1          0.9\n",
       "6          L  recharge        H       0          1.0\n",
       "7          L  recharge        L       0          0.0\n",
       "8          L      wait        H      -1          0.0\n",
       "9          L      wait        L      -1          1.0"
      ]
     },
     "execution_count": 6,
     "metadata": {},
     "output_type": "execute_result"
    }
   ],
   "source": [
    "T"
   ]
  },
  {
   "cell_type": "code",
   "execution_count": 7,
   "id": "9fbacb06",
   "metadata": {},
   "outputs": [
    {
     "data": {
      "text/html": [
       "\n",
       "        <iframe\n",
       "            width=\"1200px\"\n",
       "            height=\"600px\"\n",
       "            src=\"recycling-robot.html\"\n",
       "            frameborder=\"0\"\n",
       "            allowfullscreen\n",
       "            \n",
       "        ></iframe>\n",
       "        "
      ],
      "text/plain": [
       "<IPython.lib.display.IFrame at 0x7f7e50d823a0>"
      ]
     },
     "execution_count": 7,
     "metadata": {},
     "output_type": "execute_result"
    }
   ],
   "source": [
    "net = plot_mdp(mdp_to_graph(mdp))\n",
    "net.show('recycling-robot.html')"
   ]
  },
  {
   "cell_type": "markdown",
   "id": "da6857e4",
   "metadata": {},
   "source": [
    "## Policy\n",
    "Let's define a policy to try as follows: we always perform `search` when we are `H`, but when we are `L` we `wait`"
   ]
  },
  {
   "cell_type": "code",
   "execution_count": 8,
   "id": "eebc99b7",
   "metadata": {},
   "outputs": [],
   "source": [
    "from models import Policy"
   ]
  },
  {
   "cell_type": "code",
   "execution_count": 9,
   "id": "b2732eae",
   "metadata": {},
   "outputs": [],
   "source": [
    "class TestPolicy(Policy):\n",
    "    def __init__(self, mdp):\n",
    "        super().__init__(mdp=mdp)\n",
    "    def action(self, state):\n",
    "        if state == 'H':\n",
    "            return 'search'\n",
    "        else:\n",
    "            return 'wait'"
   ]
  },
  {
   "cell_type": "code",
   "execution_count": 10,
   "id": "edf873ee",
   "metadata": {},
   "outputs": [],
   "source": [
    "pi = TestPolicy(mdp=mdp)"
   ]
  },
  {
   "cell_type": "code",
   "execution_count": 11,
   "id": "76816b47",
   "metadata": {},
   "outputs": [
    {
     "name": "stdout",
     "output_type": "stream",
     "text": [
      "H s => L w => L w => L w => L w => L w => L w => L w => L w => L w => L  U(-7.5617924991195515)\n",
      "H s => H s => H s => H s => L w => L w => L w => L w => L w => L w => L  U(-1.6809944991195498)\n",
      "H s => H s => H s => H s => L w => L w => L w => L w => L w => L w => L  U(-1.6809944991195498)\n",
      "H s => H s => H s => L w => L w => L w => L w => L w => L w => L w => L  U(-3.6215924991195507)\n",
      "H s => L w => L w => L w => L w => L w => L w => L w => L w => L w => L  U(-7.5617924991195515)\n",
      "H s => H s => H s => H s => H s => H s => L w => L w => L w => L w => L  U(2.142177620680448)\n",
      "H s => H s => H s => H s => H s => H s => L w => L w => L w => L w => L  U(2.142177620680448)\n",
      "H s => H s => H s => L w => L w => L w => L w => L w => L w => L w => L  U(-3.6215924991195507)\n",
      "H s => H s => H s => H s => H s => H s => L w => L w => L w => L w => L  U(2.142177620680448)\n",
      "H s => H s => L w => L w => L w => L w => L w => L w => L w => L w => L  U(-5.581792499119551)\n"
     ]
    }
   ],
   "source": [
    "episodes = [pi.episode(max_len=10) for i in range(10)]\n",
    "for episode in episodes:\n",
    "    print(episode[0][0], \" \".join(\n",
    "        [\"{} => {}\".format(a[0], s_p) for s, a, s_p, r in episode]), \n",
    "          \" U({})\".format(pi.utility(episode)))"
   ]
  },
  {
   "cell_type": "markdown",
   "id": "1a6b1d90",
   "metadata": {},
   "source": [
    "## Policy evaluation"
   ]
  },
  {
   "cell_type": "code",
   "execution_count": 12,
   "id": "6ac8b93b",
   "metadata": {},
   "outputs": [],
   "source": [
    "from algorithms import policy_evaluation"
   ]
  },
  {
   "cell_type": "code",
   "execution_count": 13,
   "id": "92625d17",
   "metadata": {},
   "outputs": [],
   "source": [
    "evaluation = policy_evaluation(policy=pi, mdp=mdp, epsilon=1e-10)"
   ]
  },
  {
   "cell_type": "code",
   "execution_count": 14,
   "id": "3855d652",
   "metadata": {},
   "outputs": [
    {
     "data": {
      "text/plain": [
       "{'H': -90.3802982598742, 'L': -99.99568287525882}"
      ]
     },
     "execution_count": 14,
     "metadata": {},
     "output_type": "execute_result"
    }
   ],
   "source": [
    "evaluation"
   ]
  },
  {
   "cell_type": "markdown",
   "id": "5d826319",
   "metadata": {},
   "source": [
    "## Value iteration"
   ]
  },
  {
   "cell_type": "code",
   "execution_count": 15,
   "id": "5ad37eed",
   "metadata": {},
   "outputs": [],
   "source": [
    "from IPython.display import display, clear_output\n",
    "from algorithms import value_iteration\n",
    "from utils import show_value_iterations"
   ]
  },
  {
   "cell_type": "code",
   "execution_count": 16,
   "id": "551d64b5",
   "metadata": {},
   "outputs": [],
   "source": [
    "optimal_value, optimal_policy, value_history, policy_history = value_iteration(mdp=mdp, epsilon=1e-10)"
   ]
  },
  {
   "cell_type": "code",
   "execution_count": 17,
   "id": "24c91d36",
   "metadata": {},
   "outputs": [
    {
     "data": {
      "text/plain": [
       "({'H': 83.46886263527185, 'L': 82.63413809437034},\n",
       " {'H': 'search', 'L': 'recharge'})"
      ]
     },
     "execution_count": 17,
     "metadata": {},
     "output_type": "execute_result"
    }
   ],
   "source": [
    "optimal_value, optimal_policy"
   ]
  },
  {
   "cell_type": "code",
   "execution_count": 18,
   "id": "b4dcd16d",
   "metadata": {},
   "outputs": [
    {
     "data": {
      "text/html": [
       "<div>\n",
       "<style scoped>\n",
       "    .dataframe tbody tr th:only-of-type {\n",
       "        vertical-align: middle;\n",
       "    }\n",
       "\n",
       "    .dataframe tbody tr th {\n",
       "        vertical-align: top;\n",
       "    }\n",
       "\n",
       "    .dataframe thead th {\n",
       "        text-align: right;\n",
       "    }\n",
       "</style>\n",
       "<table border=\"1\" class=\"dataframe\">\n",
       "  <thead>\n",
       "    <tr style=\"text-align: right;\">\n",
       "      <th></th>\n",
       "      <th>S</th>\n",
       "      <th>V</th>\n",
       "      <th>A</th>\n",
       "    </tr>\n",
       "  </thead>\n",
       "  <tbody>\n",
       "    <tr>\n",
       "      <th>0</th>\n",
       "      <td>H</td>\n",
       "      <td>21.936115</td>\n",
       "      <td>search</td>\n",
       "    </tr>\n",
       "    <tr>\n",
       "      <th>1</th>\n",
       "      <td>L</td>\n",
       "      <td>21.101391</td>\n",
       "      <td>recharge</td>\n",
       "    </tr>\n",
       "  </tbody>\n",
       "</table>\n",
       "</div>"
      ],
      "text/plain": [
       "   S          V         A\n",
       "0  H  21.936115    search\n",
       "1  L  21.101391  recharge"
      ]
     },
     "metadata": {},
     "output_type": "display_data"
    },
    {
     "name": "stdout",
     "output_type": "stream",
     "text": [
      "quit\n"
     ]
    }
   ],
   "source": [
    "show_value_iterations(value_history, policy_history)"
   ]
  },
  {
   "cell_type": "markdown",
   "id": "50ffe919",
   "metadata": {},
   "source": [
    "## Policy iteration"
   ]
  },
  {
   "cell_type": "code",
   "execution_count": 19,
   "id": "08744df3",
   "metadata": {},
   "outputs": [],
   "source": [
    "from algorithms import policy_iteration\n",
    "from utils import show_policy_iterations"
   ]
  },
  {
   "cell_type": "code",
   "execution_count": 20,
   "id": "8deaabe9",
   "metadata": {},
   "outputs": [],
   "source": [
    "pi, pi_history = policy_iteration(mdp)"
   ]
  },
  {
   "cell_type": "code",
   "execution_count": 21,
   "id": "5bef805f",
   "metadata": {},
   "outputs": [
    {
     "data": {
      "text/plain": [
       "{'H': 'search', 'L': 'recharge'}"
      ]
     },
     "execution_count": 21,
     "metadata": {},
     "output_type": "execute_result"
    }
   ],
   "source": [
    "pi.actions"
   ]
  },
  {
   "cell_type": "code",
   "execution_count": 22,
   "id": "85ea60f6",
   "metadata": {},
   "outputs": [
    {
     "data": {
      "text/html": [
       "<div>\n",
       "<style scoped>\n",
       "    .dataframe tbody tr th:only-of-type {\n",
       "        vertical-align: middle;\n",
       "    }\n",
       "\n",
       "    .dataframe tbody tr th {\n",
       "        vertical-align: top;\n",
       "    }\n",
       "\n",
       "    .dataframe thead th {\n",
       "        text-align: right;\n",
       "    }\n",
       "</style>\n",
       "<table border=\"1\" class=\"dataframe\">\n",
       "  <thead>\n",
       "    <tr style=\"text-align: right;\">\n",
       "      <th></th>\n",
       "      <th>S</th>\n",
       "      <th>V</th>\n",
       "      <th>A</th>\n",
       "    </tr>\n",
       "  </thead>\n",
       "  <tbody>\n",
       "    <tr>\n",
       "      <th>0</th>\n",
       "      <td>H</td>\n",
       "      <td>83.468856</td>\n",
       "      <td>search</td>\n",
       "    </tr>\n",
       "    <tr>\n",
       "      <th>1</th>\n",
       "      <td>L</td>\n",
       "      <td>82.634132</td>\n",
       "      <td>recharge</td>\n",
       "    </tr>\n",
       "  </tbody>\n",
       "</table>\n",
       "</div>"
      ],
      "text/plain": [
       "   S          V         A\n",
       "0  H  83.468856    search\n",
       "1  L  82.634132  recharge"
      ]
     },
     "metadata": {},
     "output_type": "display_data"
    },
    {
     "name": "stdout",
     "output_type": "stream",
     "text": [
      "\n"
     ]
    }
   ],
   "source": [
    "show_policy_iterations(pi_history)"
   ]
  },
  {
   "cell_type": "code",
   "execution_count": null,
   "id": "d9a79e70",
   "metadata": {},
   "outputs": [],
   "source": []
  }
 ],
 "metadata": {
  "kernelspec": {
   "display_name": "crike",
   "language": "python",
   "name": "crike"
  },
  "language_info": {
   "codemirror_mode": {
    "name": "ipython",
    "version": 3
   },
   "file_extension": ".py",
   "mimetype": "text/x-python",
   "name": "python",
   "nbconvert_exporter": "python",
   "pygments_lexer": "ipython3",
   "version": "3.8.8"
  },
  "toc": {
   "base_numbering": 1,
   "nav_menu": {},
   "number_sections": true,
   "sideBar": true,
   "skip_h1_title": false,
   "title_cell": "Table of Contents",
   "title_sidebar": "Contents",
   "toc_cell": false,
   "toc_position": {},
   "toc_section_display": true,
   "toc_window_display": false
  }
 },
 "nbformat": 4,
 "nbformat_minor": 5
}
